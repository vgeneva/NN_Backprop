{
  "cells": [
    {
      "cell_type": "markdown",
      "metadata": {
        "id": "view-in-github",
        "colab_type": "text"
      },
      "source": [
        "<a href=\"https://colab.research.google.com/github/vgeneva/NN_Backprop/blob/main/Voronoi_classifier_perceptron_alpha_train.ipynb\" target=\"_parent\"><img src=\"https://colab.research.google.com/assets/colab-badge.svg\" alt=\"Open In Colab\"/></a>"
      ]
    },
    {
      "cell_type": "code",
      "execution_count": null,
      "metadata": {
        "id": "NubZnIVip8rx"
      },
      "outputs": [],
      "source": [
        "# Numpy will be used for matrix and vector\n",
        "# operations, as well as for some of our\n",
        "# sampling.\n",
        "import numpy as np\n",
        "# numpy has a random number generator and some\n",
        "# sampling functionality which we will seed with\n",
        "# a fixed number to get consistent run results\n",
        "np.random.seed(1);\n",
        "# plt will be used to make our plots\n",
        "from matplotlib import pyplot as plt"
      ]
    },
    {
      "cell_type": "code",
      "execution_count": null,
      "metadata": {
        "id": "dkhQm1Udp8ry"
      },
      "outputs": [],
      "source": [
        "# A collection of vectorized kernel functions\n",
        "# x, and y are assumed to be Matrices\n",
        "# if you want to evaluate on a single point\n",
        "# reshape the vectors from d to d x 1, this\n",
        "# will turn them into matrices. All the kernel\n",
        "# functions work with vectors or matrices with the\n",
        "# exception of k5v which requires matrices as inputs.\n",
        "\n",
        "# Linear kernel, notice, if x, and y\n",
        "# are vectors, this will return a scalar\n",
        "# if x, and y are matrices, this will\n",
        "# return a matrix and this is an efficient\n",
        "# and vectorized implementation of the linear\n",
        "# kernel function.\n",
        "def k1v(x,y):\n",
        "    # np.dot computes the vector dot\n",
        "    # product if x, and y are vectors\n",
        "    # or it computes the matrix product\n",
        "    # of x and y, if x or y are matrices\n",
        "    return (np.dot(x,y.T))\n",
        "\n",
        "# Affine kernel. Again, if x and y are\n",
        "# vectors, this will return a scalar but\n",
        "# if x, and y are matrices this is a vectorized\n",
        "# version of the affine kernel.\n",
        "def k2v(x,y):\n",
        "    return (np.dot(x,y.T)+1)\n",
        "\n",
        "# Quadratic kernel. Again, if x and y are\n",
        "# vectors, this will return a scalar but\n",
        "# if x, and y are matrices this is a vectorized\n",
        "# version of the Quadratic kernel.\n",
        "def k3v(x,y):\n",
        "    # To raise a number by a power python\n",
        "    # uses ** instead of ^, ^ is reserved\n",
        "    # for bit operations. (and?)\n",
        "    return ((1+np.dot(x,y.T))**2)\n",
        "\n",
        "# dth order kernel, (here d=4)\n",
        "d = 4\n",
        "def k4v(x,y):\n",
        "    return ((1+np.dot(x,y.T))**d)\n",
        "\n",
        "# Gaussian kernel. This is the only kernel function\n",
        "# in this set of example kernels that is tricky to\n",
        "# efficiently vectorize. This is because to evaluate\n",
        "# this kernel function, we have to evaluate (x-y)^T(x-y)\n",
        "# whereas in all the other examples, we evaluate x^Ty\n",
        "# Expanding (x-y)^T(x-y) gives us x^Tx - 2x^Ty + y^Ty\n",
        "# So k(x_i,y_j) = e^(-(x_i-y_j)^T(x_i-y_j)/(2*sigma^2))\n",
        "# So k(x_i,x_j) = f(x_i^Tx_i+y_j^Ty_j-2x_i^Ty_j)\n",
        "# we get x_i^Ty_j using np.dot(X,Y) where X and Y are the\n",
        "# X and Y data matrices respectively. We get x_i^Tx_i using\n",
        "# np.sum(X*X,axis=1).reshape(d,1). This function requires\n",
        "# matrices and will fail if x, or y are vectors. It is\n",
        "# vectorized and efficient. For any kernel function that uses\n",
        "# k(x_i,x_j) = f((x_i-x_j)^T(x_i-x_j)) use the line that\n",
        "# computes XminusYSquared to compute the matrix whose i,jth\n",
        "# entry is (x_i-x_j)^T(x_i-x_j) in a vectorized and efficient\n",
        "# manner. Then apply f(XminusYsquared).\n",
        "\n",
        "# sigma can be picked for the specific problem at hand\n",
        "sigma = 2**0;\n",
        "def k5v(x,y):\n",
        "    numxPoints = np.shape(x)[0];\n",
        "    numyPoints = np.shape(y)[0];\n",
        "    XminusYSquared =np.sum(x*x,axis=1).reshape([numxPoints,1])-2*np.dot(x,y.T)+np.sum(y*y,axis=1).reshape([1,numyPoints]);\n",
        "    return np.exp(-XminusYSquared/(2*sigma**2))\n",
        "\n",
        "# Hyperbolic tangent vectorized kernel function\n",
        "kappa=1\n",
        "theta=1\n",
        "def k6v(x,y):\n",
        "    return (np.tanh(kappa*np.dot(x,y.T)+theta));\n"
      ]
    },
    {
      "cell_type": "code",
      "execution_count": null,
      "metadata": {
        "id": "raD-WLmBp8r0"
      },
      "outputs": [],
      "source": [
        "# Generate some data in 2d\n",
        "# number of positive points\n",
        "n_p = 50\n",
        "# number of negative points\n",
        "n_m = 50\n",
        "# total number of points\n",
        "n = n_p+n_m"
      ]
    },
    {
      "cell_type": "code",
      "execution_count": null,
      "metadata": {
        "colab": {
          "base_uri": "https://localhost:8080/"
        },
        "id": "_JsBaox6p8r0",
        "outputId": "b9bd26ab-1f2a-4de1-d124-a3bc78d734cc"
      },
      "outputs": [
        {
          "name": "stdout",
          "output_type": "stream",
          "text": [
            "Shape of x_p (should be 50 by 2): (50, 2)\n"
          ]
        }
      ],
      "source": [
        "# sample positive points from a multivariate normal\n",
        "# distribution with the given covariance and means\n",
        "# our mean of our positive points\n",
        "posmean = np.array([3,3])\n",
        "# our covariance of our positive points\n",
        "poscov = 0.2*np.array([[2,1],[1,4]]);\n",
        "# Sample n_p vectors from a multivariate normal\n",
        "# distribution with mean posmean and covariance poscov\n",
        "x_p=np.random.multivariate_normal(mean=posmean,cov=poscov,size=n_p);\n",
        "# x_p should have a shape of (10x2) = (n_pxd)\n",
        "print(\"Shape of x_p (should be \"+str(n_p)+\" by \"+str(2)+\"): \"+str(np.shape(x_p)));"
      ]
    },
    {
      "cell_type": "code",
      "execution_count": null,
      "metadata": {
        "colab": {
          "base_uri": "https://localhost:8080/"
        },
        "id": "pG5Vze2HukQP",
        "outputId": "350166a8-5f21-42a9-db57-1083d83d0188"
      },
      "outputs": [
        {
          "data": {
            "text/plain": [
              "array([[0.4, 0.2],\n",
              "       [0.2, 0.8]])"
            ]
          },
          "execution_count": 5,
          "metadata": {},
          "output_type": "execute_result"
        }
      ],
      "source": [
        "poscov"
      ]
    },
    {
      "cell_type": "code",
      "execution_count": null,
      "metadata": {
        "colab": {
          "base_uri": "https://localhost:8080/"
        },
        "id": "gRDyumu8p8r2",
        "outputId": "c19d8ca9-c095-4b0a-f0a1-bbde4a6c8f98"
      },
      "outputs": [
        {
          "name": "stdout",
          "output_type": "stream",
          "text": [
            "Shape of x_m (should be 50 by 2): (50, 2)\n"
          ]
        }
      ],
      "source": [
        "# sample negative points from a multivariate normal\n",
        "# distribution with the given covariance and mean\n",
        "# our mean of our negaitve points\n",
        "negmean = np.array([1,1])\n",
        "# our covariance of our negative points\n",
        "negcov = 0.5*np.diag([2,2]);\n",
        "# Sample n_m vectors from a multivariate normal\n",
        "# distribution with mean negmean and covariance negcov\n",
        "x_m=np.random.multivariate_normal(mean=negmean,cov=negcov,size=n_m);\n",
        "# x_m should have a shape of (10x2) = (n_pxd)\n",
        "print(\"Shape of x_m (should be \"+str(n_m)+\" by \"+str(2)+\"): \"+str(np.shape(x_m)));"
      ]
    },
    {
      "cell_type": "code",
      "execution_count": null,
      "metadata": {
        "colab": {
          "base_uri": "https://localhost:8080/"
        },
        "id": "QpfIVkuep8r3",
        "outputId": "1c68a615-b703-4d02-e8e2-0057573c0b2d"
      },
      "outputs": [
        {
          "name": "stdout",
          "output_type": "stream",
          "text": [
            "Shape of X dataset (should be 100 by 2): (100, 2)\n",
            "Shape of label vector (should be 100): (100,)\n"
          ]
        }
      ],
      "source": [
        "# concatenate the positive and negative samples together\n",
        "# into one dataset\n",
        "X = np.concatenate((x_m,x_p));\n",
        "# X should have a shape of (20x2) = (nx2)\n",
        "print(\"Shape of X dataset (should be \"+str(n)+\" by 2): \"+str(np.shape(X)));\n",
        "# Create a label vector for the dataset X\n",
        "y = np.concatenate((np.ones(n_p),-np.ones(n_m)));\n",
        "# This should be a (20) = (n) dimensional vector\n",
        "print(\"Shape of label vector (should be \"+str(n)+\"): \"+str(np.shape(y)));"
      ]
    },
    {
      "cell_type": "code",
      "execution_count": null,
      "metadata": {
        "colab": {
          "base_uri": "https://localhost:8080/",
          "height": 423
        },
        "id": "qi43q69Kp8r4",
        "outputId": "1d9c0b5d-2f06-4a8e-9ecd-60073d98aebb"
      },
      "outputs": [
        {
          "data": {
            "image/png": "[encoded data removed]",
            "text/plain": [
              "<Figure size 1152x576 with 1 Axes>"
            ]
          },
          "metadata": {
            "needs_background": "light"
          },
          "output_type": "display_data"
        }
      ],
      "source": [
        "# Lets plot the x_p points, and the x_m points\n",
        "# on the same scatter plot with 2 different colors\n",
        "# we will also plot their means. x_p[:,0] is the\n",
        "# first row of x_p and x_p[:,1] is the second row\n",
        "# of x_p. s is used to indicate the marker size\n",
        "# plt allows us to add as many scatter plots as we\n",
        "# want to the same plot before plotting\n",
        "plt.figure(figsize=(16,8));\n",
        "# Positive points, (0th) row is x, (1st) row is y\n",
        "plt.scatter(x_p[:,0],x_p[:,1],color='r');\n",
        "# Negative points\n",
        "plt.scatter(x_m[:,0],x_m[:,1],color='b');\n",
        "# Positive mean plotted as a triangle\n",
        "plt.scatter(np.mean(x_p[:,0]),np.mean(x_p[:,1]),color='r',marker='^',s=80);\n",
        "# Negative mean plotted as a triangle\n",
        "plt.scatter(np.mean(x_m[:,0]),np.mean(x_m[:,1]),color='b',marker='^',s=80)\n",
        "plt.show()"
      ]
    },
    {
      "cell_type": "code",
      "execution_count": null,
      "metadata": {
        "id": "PMKN6dfys0b_"
      },
      "outputs": [],
      "source": [
        "# Set the kernel function to be whatever we choose\n",
        "#in this case the linear kernel\n",
        "#k = k1v   #linear\n",
        "# in this case the gaussian kernel\n",
        "k = k5v   #gaussian\n",
        "#k = k2v   #affine\n",
        "#k = k3v  #quadratic\n",
        "#k = k4v #d order kernel\n",
        "#k = k6v #hyperbolic tan"
      ]
    },
    {
      "cell_type": "code",
      "execution_count": null,
      "metadata": {
        "id": "z4goGGqpp8r5"
      },
      "outputs": [],
      "source": [
        "# Compute the classifier\n",
        "k_mm = k(x_m,x_m);\n",
        "k_pp = k(x_p,x_p);\n",
        "b = (np.sum(k_mm)/(n_m*n_m)-np.sum(k_pp)/(n_p*n_p))/2\n",
        "alpha = np.concatenate((np.ones(n_p)/n_p,-np.ones(n_m)/n_m))"
      ]
    },
    {
      "cell_type": "code",
      "execution_count": null,
      "metadata": {
        "id": "JmXaGm7q-Egi"
      },
      "outputs": [],
      "source": [
        "def weight_update(y_labels,X_features):\n",
        "    weight = np.zeros((len(X_features[0]), len(X_features)))             #2 x 100 for X\n",
        "    weight[:,0:1] = y_labels[0] * X_features[0:1,:].T             #row vector\n",
        "    y_labels = np.reshape(y_labels, (len(y_labels),1))            #needs to be a vector   #column vector\n",
        "    n = len(X_features)\n",
        "\n",
        "    for i in range(1, n):\n",
        "        if (y_labels[i,:] * k(np.sum(weight).T,X_features[i:i+1,:])) < 0:\n",
        "            weight[:,i:i+1] = y_labels[i,:] * np.transpose(X_features[i:i+1,:])\n",
        "\n",
        "        else:\n",
        "            weight[:,i:i+1] = np.array([[0],[0]])\n",
        "\n",
        "    return weight"
      ]
    },
    {
      "cell_type": "code",
      "execution_count": null,
      "metadata": {
        "id": "XJOVtdcI-Egi"
      },
      "outputs": [],
      "source": [
        "#alpha update\n",
        "def alpha_update(y_labels,X_features):\n",
        "    alpha = np.zeros((1, len(X_features)))                          # 1 x 100\n",
        "    weight = np.zeros((len(X_features[0]), len(X_features)))             #2 x 100 for X\n",
        "    weight[:,0:1] = y_labels[0] * X_features[0:1,:].T\n",
        "    y_labels = np.reshape(y_labels, (len(y_labels),1))  #needs to be a vector   #column vector\n",
        "    n = len(X_features)\n",
        "    alpha[:,0:1] = y_labels[0]\n",
        "\n",
        "    for i in range(1, n):\n",
        "        if (y_labels[i,:] * k(np.atleast_2d(np.sum(weight,axis=1).T),np.array(X_features[i:i+1,:]))) < 0:\n",
        "            alpha[:,i:i+1] = y_labels[i,:]\n",
        "            weight[:,i:i+1] = y_labels[i,:] * np.transpose(X_features[i:i+1,:])\n",
        "        else:\n",
        "            weight[:,i:i+1] = np.array([[0],[0]])\n",
        "\n",
        "    return alpha, weight"
      ]
    },
    {
      "cell_type": "code",
      "execution_count": null,
      "metadata": {
        "id": "d2Xx5jo--Egi",
        "outputId": "ac6d8826-bcc4-4655-87aa-666f0beac6ed"
      },
      "outputs": [
        {
          "name": "stdout",
          "output_type": "stream",
          "text": [
            "[[ 1.  0.  0.  0.  0.  0.  0.  0.  0.  0.  0.  0.  0.  0.  0.  0.  0.  0.\n",
            "   0.  0.  0.  0.  0.  0.  0.  0.  0.  0.  0.  0.  0.  0.  0.  0.  0.  0.\n",
            "   0.  0.  0.  0.  0.  0.  0.  0.  0.  0.  0.  0.  0.  0. -1. -1. -1. -1.\n",
            "  -1. -1. -1. -1.  0.  0.  0.  0.  0.  0.  0.  0.  0.  0.  0.  0.  0.  0.\n",
            "   0.  0.  0.  0.  0.  0.  0.  0.  0.  0.  0.  0.  0.  0.  0.  0.  0.  0.\n",
            "   0.  0.  0.  0.  0.  0.  0.  0.  0.  0.]]\n"
          ]
        }
      ],
      "source": [
        "a,b = alpha_update(y,X)\n",
        "print(a)"
      ]
    },
    {
      "cell_type": "code",
      "execution_count": null,
      "metadata": {
        "id": "0eM0vTND-Egi"
      },
      "outputs": [],
      "source": [
        "alpha1 = np.zeros((len(y),1))\n",
        "alpha1[0,:] = y[0]\n",
        "for j in range(1,len(y)):\n",
        "    w = np.sum(alpha1[0:j]*X[0:j,:], axis = 0)    #if alpha is zero due to no update, then the next j'th w is zero\n",
        "    if y[j]*w @ X[j,:] < 0:\n",
        "        alpha1[j,:] = y[j]"
      ]
    },
    {
      "cell_type": "code",
      "execution_count": null,
      "metadata": {
        "id": "iAsdUTP8-Egj"
      },
      "outputs": [],
      "source": []
    },
    {
      "cell_type": "code",
      "execution_count": null,
      "metadata": {
        "colab": {
          "base_uri": "https://localhost:8080/",
          "height": 440
        },
        "id": "9pFESjY2p8r5",
        "outputId": "0d9687cc-4fa1-47b5-a888-6cd5f4a5cd28"
      },
      "outputs": [
        {
          "name": "stdout",
          "output_type": "stream",
          "text": [
            "(101, 101)\n"
          ]
        },
        {
          "data": {
            "image/png": "[encoded data removed]",
            "text/plain": [
              "<Figure size 1152x576 with 1 Axes>"
            ]
          },
          "metadata": {
            "needs_background": "light"
          },
          "output_type": "display_data"
        }
      ],
      "source": [
        "# Evaluate the classifier on a grid of points. Lets start\n",
        "# by defining a matrix that contains our grid of points. Since\n",
        "# our kernel functions are all vectorized we will do this\n",
        "# all in a vectorized way. Our grid will be 101 by 101, so\n",
        "# it will have 10,201 points, so we will need to do everything\n",
        "# in a vectorized way to do it efficiently. Our test set will\n",
        "# be 10,201 x 2.\n",
        "g_n = 100\n",
        "x_min = np.min(X);  #X is a 80 x 2,, np.min(X) is smallest number in thre\n",
        "x_max = np.max(X);  #X is a 80 x 2,, np.max(X) is largest number in thre\n",
        "\n",
        "# creates a sequence of numbers from x_min to x_max that is evenly\n",
        "# spaced and contains floor(g_n/2)*2+1 points. Try to see what I did\n",
        "# here. n//2 is integer division by 2 (floor(n/2)). Range(a,b) makes a\n",
        "# list of integers from a to be including a and excluding b incrementing\n",
        "# by 1. The rest of the mathematics is there to scale and shift this list\n",
        "# to go from x_min to x_max\n",
        "g = np.array(range(-g_n//2,g_n//2+1))/(g_n//2)*(x_max-x_min)/2+x_max/2+x_min/2;\n",
        "# Creates our grid points.\n",
        "grid = np.concatenate(((np.ones(len(g))*g[0]).reshape(len(g),1),g.reshape(len(g),1)),1);\n",
        "for i in range(1,len(g)):\n",
        "    temp = np.concatenate(((np.ones(len(g))*g[i]).reshape(len(g),1),g.reshape(len(g),1)),1);\n",
        "    grid = np.concatenate((grid,temp));\n",
        "# Compute the Gram matrix for our gridpoints\n",
        "K = k(grid,X)\n",
        "#print(K.shape)\n",
        "# Computes the classifications of each of our 10201 grid points\n",
        "# and changes the shape from a 10201D vector to a 101 x 101 matrix\n",
        "# We also have to take the transpose of the matrix to be consistent\n",
        "# with the data.\n",
        "\n",
        "# With using our kernalized perceptron\n",
        "# learned alpha\n",
        "\n",
        "\n",
        "\n",
        "#C = (np.dot(K,(alpha1))).reshape((g_n//2)*2+1,(g_n//2)*2+1).T\n",
        "#plt.figure(figsize=(16,8))\n",
        "\n",
        "a, b = alpha_update(y,X)\n",
        "C = (np.dot(K,(a.T))).reshape((g_n//2)*2+1,(g_n//2)*2+1).T\n",
        "plt.figure(figsize=(16,8))\n",
        "\n",
        "# I need to pull the alphas out to make sure that alpha goes in here like below\n",
        "#print((np.dot(K,weight_update(y,X).T).shape))\n",
        "#print(weight_update(y,X).shape)\n",
        "\n",
        "\n",
        "#Old function\n",
        "#C = (np.dot(K,alpha)+b).reshape((g_n//2)*2+1,(g_n//2)*2+1).T\n",
        "#plt.figure(figsize=(16,8))\n",
        "#print((np.dot(K,alpha)+b).shape)\n",
        "#print(alpha.shape)\n",
        "\n",
        "# Increase level to increase the number of contours, use contourf to\n",
        "# get a contour plot with filled in color, and contour for a plot with\n",
        "# just contour lines\n",
        "#plt.contour(g,g,C,levels=40)\n",
        "plt.contour(g,g,C)\n",
        "print(np.shape(C))\n",
        "# Positive points, (0th) row is x, (1st) row is y\n",
        "plt.scatter(x_p[:,0],x_p[:,1],color='r');\n",
        "# Negative points\n",
        "plt.scatter(x_m[:,0],x_m[:,1],color='b');\n",
        "# Positive mean plotted as a triangle\n",
        "plt.scatter(np.mean(x_p[:,0]),np.mean(x_p[:,1]),color='r',marker='^',s=80);\n",
        "# Negative mean plotted as a triangle\n",
        "plt.scatter(np.mean(x_m[:,0]),np.mean(x_m[:,1]),color='b',marker='^',s=80)\n",
        "plt.title('Level sets using k5v, Guassian kernel')\n",
        "plt.show()"
      ]
    },
    {
      "cell_type": "code",
      "execution_count": null,
      "metadata": {
        "id": "Pza7o-sy-Egj"
      },
      "outputs": [],
      "source": [
        "#alpha_update(T_y,T_x)"
      ]
    },
    {
      "cell_type": "code",
      "execution_count": null,
      "metadata": {
        "id": "EKEsjjQN-Egj",
        "outputId": "54ac5107-6721-41b2-c1f0-59996e9a242a"
      },
      "outputs": [
        {
          "data": {
            "text/plain": [
              "(array([[ 0.,  0.,  0.,  0.,  0.,  0.,  0.,  0.,  0.,  0.,  0.,  0.,  0.,\n",
              "          0.,  0.,  0.,  0.,  0.,  0.,  0.,  0.,  0.,  0.,  0.,  0.,  0.,\n",
              "          0.,  0.,  0.,  0.,  0.,  0.,  0.,  0.,  0.,  0.,  0.,  0.,  0.,\n",
              "          0.,  0.,  0.,  0.,  0.,  0.,  0.,  0.,  0.,  0.,  0., -1., -1.,\n",
              "         -1., -1., -1., -1., -1., -1.,  0.,  0.,  0.,  0.,  0.,  0.,  0.,\n",
              "          0.,  0.,  0.,  0.,  0.,  0.,  0.,  0.,  0.,  0.,  0.,  0.,  0.,\n",
              "          0.,  0.,  0.,  0.,  0.,  0.,  0.,  0.,  0.,  0.,  0.,  0.,  0.,\n",
              "          0.,  0.,  0.,  0.,  0.,  0.,  0.,  0.,  0.]]),\n",
              " array([[ 0.55287144,  0.        ,  0.        ,  0.        ,  0.        ,\n",
              "          0.        ,  0.        ,  0.        ,  0.        ,  0.        ,\n",
              "          0.        ,  0.        ,  0.        ,  0.        ,  0.        ,\n",
              "          0.        ,  0.        ,  0.        ,  0.        ,  0.        ,\n",
              "          0.        ,  0.        ,  0.        ,  0.        ,  0.        ,\n",
              "          0.        ,  0.        ,  0.        ,  0.        ,  0.        ,\n",
              "          0.        ,  0.        ,  0.        ,  0.        ,  0.        ,\n",
              "          0.        ,  0.        ,  0.        ,  0.        ,  0.        ,\n",
              "          0.        ,  0.        ,  0.        ,  0.        ,  0.        ,\n",
              "          0.        ,  0.        ,  0.        ,  0.        ,  0.        ,\n",
              "         -3.26576698, -2.25182209, -2.11368564, -3.23132398, -2.98496926,\n",
              "         -2.45383917, -2.68424605, -2.83539555,  0.        ,  0.        ,\n",
              "          0.        ,  0.        ,  0.        ,  0.        ,  0.        ,\n",
              "          0.        ,  0.        ,  0.        ,  0.        ,  0.        ,\n",
              "          0.        ,  0.        ,  0.        ,  0.        ,  0.        ,\n",
              "          0.        ,  0.        ,  0.        ,  0.        ,  0.        ,\n",
              "          0.        ,  0.        ,  0.        ,  0.        ,  0.        ,\n",
              "          0.        ,  0.        ,  0.        ,  0.        ,  0.        ,\n",
              "          0.        ,  0.        ,  0.        ,  0.        ,  0.        ,\n",
              "          0.        ,  0.        ,  0.        ,  0.        ,  0.        ],\n",
              "        [ 2.2245077 ,  0.        ,  0.        ,  0.        ,  0.        ,\n",
              "          0.        ,  0.        ,  0.        ,  0.        ,  0.        ,\n",
              "          0.        ,  0.        ,  0.        ,  0.        ,  0.        ,\n",
              "          0.        ,  0.        ,  0.        ,  0.        ,  0.        ,\n",
              "          0.        ,  0.        ,  0.        ,  0.        ,  0.        ,\n",
              "          0.        ,  0.        ,  0.        ,  0.        ,  0.        ,\n",
              "          0.        ,  0.        ,  0.        ,  0.        ,  0.        ,\n",
              "          0.        ,  0.        ,  0.        ,  0.        ,  0.        ,\n",
              "          0.        ,  0.        ,  0.        ,  0.        ,  0.        ,\n",
              "          0.        ,  0.        ,  0.        ,  0.        ,  0.        ,\n",
              "         -4.54189537, -2.77274812, -4.24725387, -4.67867797, -3.33069271,\n",
              "         -4.71320938, -2.80288722, -4.22123917,  0.        ,  0.        ,\n",
              "          0.        ,  0.        ,  0.        ,  0.        ,  0.        ,\n",
              "          0.        ,  0.        ,  0.        ,  0.        ,  0.        ,\n",
              "          0.        ,  0.        ,  0.        ,  0.        ,  0.        ,\n",
              "          0.        ,  0.        ,  0.        ,  0.        ,  0.        ,\n",
              "          0.        ,  0.        ,  0.        ,  0.        ,  0.        ,\n",
              "          0.        ,  0.        ,  0.        ,  0.        ,  0.        ,\n",
              "          0.        ,  0.        ,  0.        ,  0.        ,  0.        ,\n",
              "          0.        ,  0.        ,  0.        ,  0.        ,  0.        ]]))"
            ]
          },
          "execution_count": 17,
          "metadata": {},
          "output_type": "execute_result"
        }
      ],
      "source": [
        "alpha_update(y,X)"
      ]
    },
    {
      "cell_type": "code",
      "execution_count": null,
      "metadata": {
        "id": "X0i7a-yQ-Egk",
        "outputId": "66b8ee08-b854-4c79-8bfb-a029002eb20f"
      },
      "outputs": [
        {
          "data": {
            "text/plain": [
              "5.198207909913876"
            ]
          },
          "execution_count": 18,
          "metadata": {},
          "output_type": "execute_result"
        }
      ],
      "source": [
        "x_min\n",
        "x_max"
      ]
    },
    {
      "cell_type": "code",
      "execution_count": null,
      "metadata": {
        "id": "b4CE7rzr-Egk",
        "outputId": "a7413137-30aa-438c-89c8-ee4db5736e7e"
      },
      "outputs": [
        {
          "name": "stdout",
          "output_type": "stream",
          "text": [
            "[[ 0.55287144  2.2245077 ]\n",
            " [ 1.40349164  1.59357852]\n",
            " [-0.09491185  1.16938243]\n",
            " [ 1.74055645  0.0462994 ]\n",
            " [ 0.73378149  1.03261455]]\n",
            "(100, 2)\n",
            "[1. 1. 1. 1. 1.]\n",
            "(100,)\n",
            "[[1.40349164 1.59357852]]\n"
          ]
        }
      ],
      "source": [
        "print(X[0:5,:])\n",
        "print(X.shape)\n",
        "print(y[0:5])\n",
        "print(y.shape)\n",
        "print(X[1:2,:])"
      ]
    },
    {
      "cell_type": "code",
      "execution_count": null,
      "metadata": {
        "id": "2GiaOz4s-Egk",
        "outputId": "13e8b603-24f5-4b97-fab6-b20a1e1c8512"
      },
      "outputs": [
        {
          "data": {
            "text/plain": [
              "(2, 1)"
            ]
          },
          "execution_count": 20,
          "metadata": {},
          "output_type": "execute_result"
        }
      ],
      "source": [
        "w = y[0] * np.transpose(X[0:1,:])\n",
        "w.shape"
      ]
    },
    {
      "cell_type": "code",
      "execution_count": null,
      "metadata": {
        "id": "xHZIJURV-Egk",
        "outputId": "0db5cf61-3842-4edd-a84c-f82bfbd1b0b0"
      },
      "outputs": [
        {
          "data": {
            "text/plain": [
              "(2, 1)"
            ]
          },
          "execution_count": 21,
          "metadata": {},
          "output_type": "execute_result"
        }
      ],
      "source": [
        "w_test = np.zeros((len(X[0]),1))\n",
        "w_test.shape"
      ]
    },
    {
      "cell_type": "code",
      "execution_count": null,
      "metadata": {
        "id": "ubupR3zH-Egl",
        "outputId": "c3178e35-1a87-4264-82ec-ab5c963b121b"
      },
      "outputs": [
        {
          "name": "stdout",
          "output_type": "stream",
          "text": [
            "(100,)\n"
          ]
        }
      ],
      "source": [
        "len(X[0])\n",
        "print(y.shape)"
      ]
    },
    {
      "cell_type": "code",
      "execution_count": null,
      "metadata": {
        "id": "dSYJ4Bzm-Egl"
      },
      "outputs": [],
      "source": []
    },
    {
      "cell_type": "code",
      "execution_count": null,
      "metadata": {
        "id": "eUXW_f0V-Egl"
      },
      "outputs": [],
      "source": [
        "#perceptron algorithm\n",
        "# initialize w\n",
        "w = np.zeros((len(X[0]), 1))\n",
        "w[:,0] = y[0] * X[0:1,:]\n",
        "y = np.reshape(y, (len(y),1))\n",
        "\n",
        "for i in range(1, n):\n",
        "    if (y[i,:] * k(w.T,X[i:i+1,:])) < 0:\n",
        "    #if (y[i,:] * np.dot(np.transpose(w),np.transpose(X[i:i+1,:]))) < 0:\n",
        "        w += y[i,:] * np.transpose(X[i:i+1,:])\n",
        "    else:\n",
        "        w == w\n",
        "#w[:,0:2]\n",
        "#w.shape"
      ]
    },
    {
      "cell_type": "code",
      "execution_count": null,
      "metadata": {
        "id": "k3lxNPPG-Egl",
        "outputId": "d9b496ce-51e3-4fc2-d5e7-5b259e478064"
      },
      "outputs": [
        {
          "data": {
            "text/plain": [
              "array([[-21.26817729],\n",
              "       [-29.08409611]])"
            ]
          },
          "execution_count": 24,
          "metadata": {},
          "output_type": "execute_result"
        }
      ],
      "source": [
        "w"
      ]
    },
    {
      "cell_type": "code",
      "execution_count": null,
      "metadata": {
        "id": "G_iGKZOW-Egl"
      },
      "outputs": [],
      "source": [
        "T_x = np.array([\n",
        "    [8, 8], #1\n",
        "    [8, 7], #2\n",
        "    [7, 8], #3\n",
        "    [2, 2], #4\n",
        "    [2, 1], #5\n",
        "    [1, 2]\n",
        "])\n",
        "T_y = np.array([\n",
        "    [1],\n",
        "    [1],\n",
        "    [1],\n",
        "    [-1],\n",
        "    [-1],\n",
        "    [-1]])"
      ]
    },
    {
      "cell_type": "code",
      "execution_count": null,
      "metadata": {
        "id": "pvUmT1Xz-Egl",
        "outputId": "4f93b241-81fb-41b4-ae6b-abd217bcd067"
      },
      "outputs": [
        {
          "ename": "IndexError",
          "evalue": "index 1 is out of bounds for axis 1 with size 1",
          "output_type": "error",
          "traceback": [
            "\u001b[0;31m---------------------------------------------------------------------------\u001b[0m",
            "\u001b[0;31mIndexError\u001b[0m                                Traceback (most recent call last)",
            "Input \u001b[0;32mIn [26]\u001b[0m, in \u001b[0;36m<cell line: 7>\u001b[0;34m()\u001b[0m\n\u001b[1;32m     12\u001b[0m     \u001b[38;5;28mprint\u001b[39m(w_T\u001b[38;5;241m.\u001b[39mshape)\n\u001b[1;32m     13\u001b[0m \u001b[38;5;28;01melse\u001b[39;00m:\n\u001b[0;32m---> 14\u001b[0m     w_T[:,i] \u001b[38;5;241m=\u001b[39m np\u001b[38;5;241m.\u001b[39marray([[\u001b[38;5;241m0\u001b[39m,\u001b[38;5;241m0\u001b[39m]])\n",
            "\u001b[0;31mIndexError\u001b[0m: index 1 is out of bounds for axis 1 with size 1"
          ]
        }
      ],
      "source": [
        "#perceptron algorithm\n",
        "# initialize alpha\n",
        "w_T = np.zeros((len(T_x[0]), 1))\n",
        "w_T[:,0] = T_y[0] * T_x[0:1,:]\n",
        "#y = np.reshape(y, (len(y),1))\n",
        "m = 6\n",
        "for i in range(1, m):\n",
        "    if (T_y[i,:] * k(w_T.T,T_x[i:i+1,:])) < 0:\n",
        "    #if (y[i,:] * np.dot(np.transpose(w),np.transpose(X[i:i+1,:]))) < 0:\n",
        "        w_T += T_y[i,:] * np.transpose(T_x[i:i+1,:])\n",
        "        w_T[:,i] = w_T\n",
        "        print(w_T.shape)\n",
        "    else:\n",
        "        w_T[:,i] = np.array([[0,0]])\n",
        "#w[:,0:2]\n",
        "#w.shape"
      ]
    },
    {
      "cell_type": "code",
      "execution_count": null,
      "metadata": {
        "id": "a6RDmK4K-Egm"
      },
      "outputs": [],
      "source": [
        "np.array([[0],[0]]).shape"
      ]
    },
    {
      "cell_type": "code",
      "execution_count": null,
      "metadata": {
        "id": "re3wb-Lb-Egm"
      },
      "outputs": [],
      "source": [
        "np.array([[0],[0]])"
      ]
    },
    {
      "cell_type": "code",
      "execution_count": null,
      "metadata": {
        "id": "rYXEvMgL-Egm"
      },
      "outputs": [],
      "source": [
        "w_T"
      ]
    },
    {
      "cell_type": "code",
      "execution_count": null,
      "metadata": {
        "id": "ljUk312m-Egm"
      },
      "outputs": [],
      "source": [
        "print(X.shape)\n",
        "print(len(X))\n",
        "print(len(X[0]))\n",
        "print(X[0:2,:])"
      ]
    },
    {
      "cell_type": "code",
      "execution_count": null,
      "metadata": {
        "id": "tICJ-A1J-Egm"
      },
      "outputs": [],
      "source": [
        "def weight_update(y_labels,X_features):\n",
        "    weight = np.zeros((len(X_features[0]), len(X_features)))             #2 x 100 for X\n",
        "    weight[:,0:1] = y_labels[0] * X_features[0:1,:].T                    #row vector\n",
        "    #print(weight)\n",
        "    y_labels = np.reshape(y_labels, (len(y_labels),1))  #needs to be a vector   #column vector\n",
        "    n = len(X_features)\n",
        "\n",
        "    for i in range(1, n):\n",
        "        if (y_labels[i,:] * k(np.sum(weight,axis=1).T,X_features[i:i+1,:])) < 0:\n",
        "        #if (y[i,:] * np.dot(np.transpose(w),np.transpose(X[i:i+1,:]))) < 0:\n",
        "            weight[:,i:i+1] = y_labels[i,:] * np.transpose(X_features[i:i+1,:])\n",
        "            #print(weight)\n",
        "        else:\n",
        "            weight[:,i:i+1] = np.array([[0],[0]])\n",
        "            #print(weight)\n",
        "    return weight\n",
        ""
      ]
    },
    {
      "cell_type": "code",
      "execution_count": null,
      "metadata": {
        "id": "zidA4fgd-Egm"
      },
      "outputs": [],
      "source": [
        "print(weight_update(T_y,T_x))\n",
        "print(np.sum(weight_update(T_y,T_x),axis=1))"
      ]
    },
    {
      "cell_type": "code",
      "execution_count": null,
      "metadata": {
        "id": "WuNLLAiD-Egn"
      },
      "outputs": [],
      "source": [
        "print(weight_update(y,X).shape)\n",
        "print(np.sum(weight_update(y,X),axis=1))"
      ]
    },
    {
      "cell_type": "code",
      "execution_count": null,
      "metadata": {
        "id": "wyGzgtf3-Egn"
      },
      "outputs": [],
      "source": [
        "#def f(x):\n",
        "#    return np.sign((alpha @ k(X,x)) + b)"
      ]
    },
    {
      "cell_type": "code",
      "execution_count": null,
      "metadata": {
        "id": "GrA2K0nm-Egn"
      },
      "outputs": [],
      "source": [
        "\n"
      ]
    },
    {
      "cell_type": "code",
      "execution_count": null,
      "metadata": {
        "id": "F5MxuVAM-Egn"
      },
      "outputs": [],
      "source": [
        "print(T_x[0:1,:])"
      ]
    },
    {
      "cell_type": "code",
      "execution_count": null,
      "metadata": {
        "id": "LRzBB4gF-Egn"
      },
      "outputs": [],
      "source": [
        "weight = np.zeros((len(T_x[0]), len(T_x)))\n",
        "print(weight)\n",
        "weight[:,0:1] = T_y[0] * T_x[0:1,:].T\n",
        "print(weight) #row vector\n",
        "print(T_x[0:1,:].shape)\n",
        "print(np.sum(weight,axis=1))            #row vector\n",
        "k(np.sum(weight,axis=1).T,T_x[1:2,:])   #row.T, column"
      ]
    },
    {
      "cell_type": "code",
      "execution_count": null,
      "metadata": {
        "id": "4-_ORtTZ-Ego"
      },
      "outputs": [],
      "source": [
        "w"
      ]
    },
    {
      "cell_type": "code",
      "execution_count": null,
      "metadata": {
        "id": "I9VI93M9-Egp"
      },
      "outputs": [],
      "source": [
        "w"
      ]
    },
    {
      "cell_type": "code",
      "execution_count": null,
      "metadata": {
        "id": "2sbhPZv3-Egp"
      },
      "outputs": [],
      "source": [
        "print(np.transpose(X[1:2,:]))\n",
        "print(y[1,:]*np.transpose(X[1:2,:]) + w)\n",
        "w.shape"
      ]
    },
    {
      "cell_type": "code",
      "execution_count": null,
      "metadata": {
        "id": "mbM7Ojei-Egp"
      },
      "outputs": [],
      "source": [
        "np.dot(np.transpose(w),np.transpose(X[1:2,:]))"
      ]
    },
    {
      "cell_type": "code",
      "execution_count": null,
      "metadata": {
        "id": "0D8jkB4_-Egp"
      },
      "outputs": [],
      "source": [
        "#w[:,0] = y[0] * X[0:1,:]\n",
        "#print(w[:,0])\n",
        "X[99:100,:]"
      ]
    },
    {
      "cell_type": "code",
      "execution_count": null,
      "metadata": {
        "id": "ZnqH3L-_-Egp"
      },
      "outputs": [],
      "source": [
        "y[0] * X[0:1,:]"
      ]
    },
    {
      "cell_type": "code",
      "execution_count": null,
      "metadata": {
        "id": "_Zjeqh6n-Egp"
      },
      "outputs": [],
      "source": [
        "v = np.zeros((len(X[0]), 1))"
      ]
    },
    {
      "cell_type": "code",
      "execution_count": null,
      "metadata": {
        "id": "xHPhFJs7-Egq"
      },
      "outputs": [],
      "source": [
        "v[:,0:1]\n",
        "v.shape"
      ]
    },
    {
      "cell_type": "code",
      "execution_count": null,
      "metadata": {
        "id": "4cSryAG8-Egq"
      },
      "outputs": [],
      "source": []
    }
  ],
  "metadata": {
    "colab": {
      "provenance": [],
      "include_colab_link": true
    },
    "kernelspec": {
      "display_name": "Python 3 (ipykernel)",
      "language": "python",
      "name": "python3"
    },
    "language_info": {
      "codemirror_mode": {
        "name": "ipython",
        "version": 3
      },
      "file_extension": ".py",
      "mimetype": "text/x-python",
      "name": "python",
      "nbconvert_exporter": "python",
      "pygments_lexer": "ipython3",
      "version": "3.10.4"
    }
  },
  "nbformat": 4,
  "nbformat_minor": 0
}