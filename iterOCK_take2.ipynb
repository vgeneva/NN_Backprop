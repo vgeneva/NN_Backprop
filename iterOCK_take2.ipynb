{
  "cells": [
    {
      "cell_type": "markdown",
      "metadata": {
        "id": "view-in-github",
        "colab_type": "text"
      },
      "source": [
        "<a href=\"https://colab.research.google.com/github/vgeneva/NN_Backprop/blob/main/iterOCK_take2.ipynb\" target=\"_parent\"><img src=\"https://colab.research.google.com/assets/colab-badge.svg\" alt=\"Open In Colab\"/></a>"
      ]
    },
    {
      "cell_type": "markdown",
      "metadata": {
        "id": "h9AM68PdP7cP"
      },
      "source": [
        "# Import"
      ]
    },
    {
      "cell_type": "code",
      "execution_count": 120,
      "metadata": {
        "id": "y4zfKFNMWsAX"
      },
      "outputs": [],
      "source": [
        "import numpy as np\n",
        "# numpy has a random number generator and some\n",
        "# sampling functionality which we can seed with\n",
        "# a fixed number to get consistent run results\n",
        "np.random.seed();\n",
        "from matplotlib import pyplot as plt\n",
        "import pandas as pd\n",
        "from numpy import linalg as LA\n",
        "from scipy.integrate import solve_ivp  # solve ODE\n",
        "from matplotlib.animation import PillowWriter    # writing the .gif\n",
        "import time\n",
        "import tensorflow as tf\n",
        "import random"
      ]
    },
    {
      "cell_type": "markdown",
      "source": [
        "# Make x\\_input."
      ],
      "metadata": {
        "id": "21I50vJo8dzu"
      }
    },
    {
      "cell_type": "code",
      "source": [
        "## starting trajectory\n",
        "h_x = 0.01\n",
        "a = .1\n",
        "b = .9\n",
        "k_x = int((b- a + h_x)/h_x)\n",
        "print(k_x)\n",
        "x_input = np.reshape(np.arange(.1, .9 + h_x, step = h_x), (k_x, 1))\n",
        "print(x_input.shape)\n",
        "df_x_input = pd.DataFrame(x_input)\n",
        "df_x_input.describe()"
      ],
      "metadata": {
        "colab": {
          "base_uri": "https://localhost:8080/",
          "height": 336
        },
        "id": "2afC74h08kby",
        "outputId": "f0e9e0d2-6233-4bf9-d7df-54e84687381a"
      },
      "execution_count": 121,
      "outputs": [
        {
          "output_type": "stream",
          "name": "stdout",
          "text": [
            "81\n",
            "(81, 1)\n"
          ]
        },
        {
          "output_type": "execute_result",
          "data": {
            "text/plain": [
              "               0\n",
              "count  81.000000\n",
              "mean    0.500000\n",
              "std     0.235266\n",
              "min     0.100000\n",
              "25%     0.300000\n",
              "50%     0.500000\n",
              "75%     0.700000\n",
              "max     0.900000"
            ],
            "text/html": [
              "\n",
              "  <div id=\"df-b59a8b84-1e95-4f70-8e9e-4265c7accc9e\" class=\"colab-df-container\">\n",
              "    <div>\n",
              "<style scoped>\n",
              "    .dataframe tbody tr th:only-of-type {\n",
              "        vertical-align: middle;\n",
              "    }\n",
              "\n",
              "    .dataframe tbody tr th {\n",
              "        vertical-align: top;\n",
              "    }\n",
              "\n",
              "    .dataframe thead th {\n",
              "        text-align: right;\n",
              "    }\n",
              "</style>\n",
              "<table border=\"1\" class=\"dataframe\">\n",
              "  <thead>\n",
              "    <tr style=\"text-align: right;\">\n",
              "      <th></th>\n",
              "      <th>0</th>\n",
              "    </tr>\n",
              "  </thead>\n",
              "  <tbody>\n",
              "    <tr>\n",
              "      <th>count</th>\n",
              "      <td>81.000000</td>\n",
              "    </tr>\n",
              "    <tr>\n",
              "      <th>mean</th>\n",
              "      <td>0.500000</td>\n",
              "    </tr>\n",
              "    <tr>\n",
              "      <th>std</th>\n",
              "      <td>0.235266</td>\n",
              "    </tr>\n",
              "    <tr>\n",
              "      <th>min</th>\n",
              "      <td>0.100000</td>\n",
              "    </tr>\n",
              "    <tr>\n",
              "      <th>25%</th>\n",
              "      <td>0.300000</td>\n",
              "    </tr>\n",
              "    <tr>\n",
              "      <th>50%</th>\n",
              "      <td>0.500000</td>\n",
              "    </tr>\n",
              "    <tr>\n",
              "      <th>75%</th>\n",
              "      <td>0.700000</td>\n",
              "    </tr>\n",
              "    <tr>\n",
              "      <th>max</th>\n",
              "      <td>0.900000</td>\n",
              "    </tr>\n",
              "  </tbody>\n",
              "</table>\n",
              "</div>\n",
              "    <div class=\"colab-df-buttons\">\n",
              "\n",
              "  <div class=\"colab-df-container\">\n",
              "    <button class=\"colab-df-convert\" onclick=\"convertToInteractive('df-b59a8b84-1e95-4f70-8e9e-4265c7accc9e')\"\n",
              "            title=\"Convert this dataframe to an interactive table.\"\n",
              "            style=\"display:none;\">\n",
              "\n",
              "  <svg xmlns=\"http://www.w3.org/2000/svg\" height=\"24px\" viewBox=\"0 -960 960 960\">\n",
              "    <path d=\"M120-120v-720h720v720H120Zm60-500h600v-160H180v160Zm220 220h160v-160H400v160Zm0 220h160v-160H400v160ZM180-400h160v-160H180v160Zm440 0h160v-160H620v160ZM180-180h160v-160H180v160Zm440 0h160v-160H620v160Z\"/>\n",
              "  </svg>\n",
              "    </button>\n",
              "\n",
              "  <style>\n",
              "    .colab-df-container {\n",
              "      display:flex;\n",
              "      gap: 12px;\n",
              "    }\n",
              "\n",
              "    .colab-df-convert {\n",
              "      background-color: #E8F0FE;\n",
              "      border: none;\n",
              "      border-radius: 50%;\n",
              "      cursor: pointer;\n",
              "      display: none;\n",
              "      fill: #1967D2;\n",
              "      height: 32px;\n",
              "      padding: 0 0 0 0;\n",
              "      width: 32px;\n",
              "    }\n",
              "\n",
              "    .colab-df-convert:hover {\n",
              "      background-color: #E2EBFA;\n",
              "      box-shadow: 0px 1px 2px rgba(60, 64, 67, 0.3), 0px 1px 3px 1px rgba(60, 64, 67, 0.15);\n",
              "      fill: #174EA6;\n",
              "    }\n",
              "\n",
              "    .colab-df-buttons div {\n",
              "      margin-bottom: 4px;\n",
              "    }\n",
              "\n",
              "    [theme=dark] .colab-df-convert {\n",
              "      background-color: #3B4455;\n",
              "      fill: #D2E3FC;\n",
              "    }\n",
              "\n",
              "    [theme=dark] .colab-df-convert:hover {\n",
              "      background-color: #434B5C;\n",
              "      box-shadow: 0px 1px 3px 1px rgba(0, 0, 0, 0.15);\n",
              "      filter: drop-shadow(0px 1px 2px rgba(0, 0, 0, 0.3));\n",
              "      fill: #FFFFFF;\n",
              "    }\n",
              "  </style>\n",
              "\n",
              "    <script>\n",
              "      const buttonEl =\n",
              "        document.querySelector('#df-b59a8b84-1e95-4f70-8e9e-4265c7accc9e button.colab-df-convert');\n",
              "      buttonEl.style.display =\n",
              "        google.colab.kernel.accessAllowed ? 'block' : 'none';\n",
              "\n",
              "      async function convertToInteractive(key) {\n",
              "        const element = document.querySelector('#df-b59a8b84-1e95-4f70-8e9e-4265c7accc9e');\n",
              "        const dataTable =\n",
              "          await google.colab.kernel.invokeFunction('convertToInteractive',\n",
              "                                                    [key], {});\n",
              "        if (!dataTable) return;\n",
              "\n",
              "        const docLinkHtml = 'Like what you see? Visit the ' +\n",
              "          '<a target=\"_blank\" href=https://colab.research.google.com/notebooks/data_table.ipynb>data table notebook</a>'\n",
              "          + ' to learn more about interactive tables.';\n",
              "        element.innerHTML = '';\n",
              "        dataTable['output_type'] = 'display_data';\n",
              "        await google.colab.output.renderOutput(dataTable, element);\n",
              "        const docLink = document.createElement('div');\n",
              "        docLink.innerHTML = docLinkHtml;\n",
              "        element.appendChild(docLink);\n",
              "      }\n",
              "    </script>\n",
              "  </div>\n",
              "\n",
              "\n",
              "<div id=\"df-e9a2236c-440a-4150-b493-1b033f03e707\">\n",
              "  <button class=\"colab-df-quickchart\" onclick=\"quickchart('df-e9a2236c-440a-4150-b493-1b033f03e707')\"\n",
              "            title=\"Suggest charts\"\n",
              "            style=\"display:none;\">\n",
              "\n",
              "<svg xmlns=\"http://www.w3.org/2000/svg\" height=\"24px\"viewBox=\"0 0 24 24\"\n",
              "     width=\"24px\">\n",
              "    <g>\n",
              "        <path d=\"M19 3H5c-1.1 0-2 .9-2 2v14c0 1.1.9 2 2 2h14c1.1 0 2-.9 2-2V5c0-1.1-.9-2-2-2zM9 17H7v-7h2v7zm4 0h-2V7h2v10zm4 0h-2v-4h2v4z\"/>\n",
              "    </g>\n",
              "</svg>\n",
              "  </button>\n",
              "\n",
              "<style>\n",
              "  .colab-df-quickchart {\n",
              "      --bg-color: #E8F0FE;\n",
              "      --fill-color: #1967D2;\n",
              "      --hover-bg-color: #E2EBFA;\n",
              "      --hover-fill-color: #174EA6;\n",
              "      --disabled-fill-color: #AAA;\n",
              "      --disabled-bg-color: #DDD;\n",
              "  }\n",
              "\n",
              "  [theme=dark] .colab-df-quickchart {\n",
              "      --bg-color: #3B4455;\n",
              "      --fill-color: #D2E3FC;\n",
              "      --hover-bg-color: #434B5C;\n",
              "      --hover-fill-color: #FFFFFF;\n",
              "      --disabled-bg-color: #3B4455;\n",
              "      --disabled-fill-color: #666;\n",
              "  }\n",
              "\n",
              "  .colab-df-quickchart {\n",
              "    background-color: var(--bg-color);\n",
              "    border: none;\n",
              "    border-radius: 50%;\n",
              "    cursor: pointer;\n",
              "    display: none;\n",
              "    fill: var(--fill-color);\n",
              "    height: 32px;\n",
              "    padding: 0;\n",
              "    width: 32px;\n",
              "  }\n",
              "\n",
              "  .colab-df-quickchart:hover {\n",
              "    background-color: var(--hover-bg-color);\n",
              "    box-shadow: 0 1px 2px rgba(60, 64, 67, 0.3), 0 1px 3px 1px rgba(60, 64, 67, 0.15);\n",
              "    fill: var(--button-hover-fill-color);\n",
              "  }\n",
              "\n",
              "  .colab-df-quickchart-complete:disabled,\n",
              "  .colab-df-quickchart-complete:disabled:hover {\n",
              "    background-color: var(--disabled-bg-color);\n",
              "    fill: var(--disabled-fill-color);\n",
              "    box-shadow: none;\n",
              "  }\n",
              "\n",
              "  .colab-df-spinner {\n",
              "    border: 2px solid var(--fill-color);\n",
              "    border-color: transparent;\n",
              "    border-bottom-color: var(--fill-color);\n",
              "    animation:\n",
              "      spin 1s steps(1) infinite;\n",
              "  }\n",
              "\n",
              "  @keyframes spin {\n",
              "    0% {\n",
              "      border-color: transparent;\n",
              "      border-bottom-color: var(--fill-color);\n",
              "      border-left-color: var(--fill-color);\n",
              "    }\n",
              "    20% {\n",
              "      border-color: transparent;\n",
              "      border-left-color: var(--fill-color);\n",
              "      border-top-color: var(--fill-color);\n",
              "    }\n",
              "    30% {\n",
              "      border-color: transparent;\n",
              "      border-left-color: var(--fill-color);\n",
              "      border-top-color: var(--fill-color);\n",
              "      border-right-color: var(--fill-color);\n",
              "    }\n",
              "    40% {\n",
              "      border-color: transparent;\n",
              "      border-right-color: var(--fill-color);\n",
              "      border-top-color: var(--fill-color);\n",
              "    }\n",
              "    60% {\n",
              "      border-color: transparent;\n",
              "      border-right-color: var(--fill-color);\n",
              "    }\n",
              "    80% {\n",
              "      border-color: transparent;\n",
              "      border-right-color: var(--fill-color);\n",
              "      border-bottom-color: var(--fill-color);\n",
              "    }\n",
              "    90% {\n",
              "      border-color: transparent;\n",
              "      border-bottom-color: var(--fill-color);\n",
              "    }\n",
              "  }\n",
              "</style>\n",
              "\n",
              "  <script>\n",
              "    async function quickchart(key) {\n",
              "      const quickchartButtonEl =\n",
              "        document.querySelector('#' + key + ' button');\n",
              "      quickchartButtonEl.disabled = true;  // To prevent multiple clicks.\n",
              "      quickchartButtonEl.classList.add('colab-df-spinner');\n",
              "      try {\n",
              "        const charts = await google.colab.kernel.invokeFunction(\n",
              "            'suggestCharts', [key], {});\n",
              "      } catch (error) {\n",
              "        console.error('Error during call to suggestCharts:', error);\n",
              "      }\n",
              "      quickchartButtonEl.classList.remove('colab-df-spinner');\n",
              "      quickchartButtonEl.classList.add('colab-df-quickchart-complete');\n",
              "    }\n",
              "    (() => {\n",
              "      let quickchartButtonEl =\n",
              "        document.querySelector('#df-e9a2236c-440a-4150-b493-1b033f03e707 button');\n",
              "      quickchartButtonEl.style.display =\n",
              "        google.colab.kernel.accessAllowed ? 'block' : 'none';\n",
              "    })();\n",
              "  </script>\n",
              "</div>\n",
              "    </div>\n",
              "  </div>\n"
            ]
          },
          "metadata": {},
          "execution_count": 121
        }
      ]
    },
    {
      "cell_type": "markdown",
      "metadata": {
        "id": "kfTjIsgXP--g"
      },
      "source": [
        "# Kernel Functions"
      ]
    },
    {
      "cell_type": "code",
      "execution_count": 122,
      "metadata": {
        "id": "SoO27a1f4AGI"
      },
      "outputs": [],
      "source": [
        "# A collection of vectorized kernel functions\n",
        "# x, and y are assumed to be Matrices\n",
        "# if you want to evaluate on a single point\n",
        "# reshape the vectors from d to d x 1, this\n",
        "# will turn them into matrices. All the kernel\n",
        "# functions work with vectors or matrices with the\n",
        "# exception of k5v which requires matrices as inputs.\n",
        "\n",
        "# Linear kernel, notice, if x, and y\n",
        "# are vectors, this will return a scalar\n",
        "# if x, and y are matrices, this will\n",
        "# return a matrix and this is an efficient\n",
        "# and vectorized implementation of the linear\n",
        "# kernel function.\n",
        "def k1v(x,y):\n",
        "    # np.dot computes the vector dot\n",
        "    # product if x, and y are vectors\n",
        "    # or it computes the matrix product\n",
        "    # of x and y, if x or y are matrices\n",
        "    return (np.dot(x,y.T))\n",
        "\n",
        "# Affine kernel. Again, if x and y are\n",
        "# vectors, this will return a scalar but\n",
        "# if x, and y are matrices this is a vectorized\n",
        "# version of the affine kernel.\n",
        "def k2v(x,y):\n",
        "    return (np.dot(x,y.T)+1)\n",
        "\n",
        "# Quadratic kernel. Again, if x and y are\n",
        "# vectors, this will return a scalar but\n",
        "# if x, and y are matrices this is a vectorized\n",
        "# version of the Quadratic kernel.\n",
        "def k3v(x,y):\n",
        "    # To raise a number by a power python\n",
        "    # uses ** instead of ^, ^ is reserved\n",
        "    # for bit operations. (and?)\n",
        "    return ((1+np.dot(x,y.T))**2)\n",
        "\n",
        "# dth order kernel, (here d=4)\n",
        "d = 4\n",
        "def k4v(x,y):\n",
        "    return ((1+np.dot(x,y.T))**d)\n",
        "\n",
        "# Gaussian kernel. This is the only kernel function\n",
        "# in this set of example kernels that is tricky to\n",
        "# efficiently vectorize. This is because to evaluate\n",
        "# this kernel function, we have to evaluate (x-y)^T(x-y)\n",
        "# whereas in all the other examples, we evaluate x^Ty\n",
        "# Expanding (x-y)^T(x-y) gives us x^Tx - 2x^Ty + y^Ty\n",
        "# So k(x_i,y_j) = e^(-(x_i-y_j)^T(x_i-y_j)/(2*sigma^2))\n",
        "# So k(x_i,x_j) = f(x_i^Tx_i+y_j^Ty_j-2x_i^Ty_j)\n",
        "# we get x_i^Ty_j using np.dot(X,Y) where X and Y are the\n",
        "# X and Y data matrices respectively. We get x_i^Tx_i using\n",
        "# np.sum(X*X,axis=1).reshape(d,1). This function requires\n",
        "# matrices and will fail if x, or y are vectors. It is\n",
        "# vectorized and efficient. For any kernel function that uses\n",
        "# k(x_i,x_j) = f((x_i-x_j)^T(x_i-x_j)) use the line that\n",
        "# computes XminusYSquared to compute the matrix whose i,jth\n",
        "# entry is (x_i-x_j)^T(x_i-x_j) in a vectorized and efficient\n",
        "# manner. Then apply f(XminusYsquared).\n",
        "\n",
        "# sigma can be picked for the specific problem at hand\n",
        "sigma = 2**0;\n",
        "def k5v(x,y):\n",
        "    numxPoints = np.shape(x)[0];\n",
        "    numyPoints = np.shape(y)[0];\n",
        "    XminusYSquared =np.sum(x*x,axis=1).reshape([numxPoints,1])-2*np.dot(x,y.T)+np.sum(y*y,axis=1).reshape([1,numyPoints]);\n",
        "    return np.exp(-XminusYSquared/(2*sigma**2))\n",
        "\n",
        "\n",
        "def gauss_0(x,y): # zero boundary conditions\n",
        "    numxPoints = np.shape(x)[0];\n",
        "    numyPoints = np.shape(y)[0];\n",
        "    XminusYSquared =np.sum(x*x,axis=1).reshape([numxPoints,1])-2*np.dot(x,y.T)+np.sum(y*y,axis=1).reshape([1,numyPoints]);\n",
        "    return np.exp(-XminusYSquared/(2*sigma**2))\n",
        "\n",
        "# Hyperbolic tangent vectorized kernel function\n",
        "kappa=1\n",
        "theta=1\n",
        "def k6v(x,y):\n",
        "    return (np.tanh(kappa*np.dot(x,y.T)+theta));\n",
        "\n",
        "def k7v(x,y):\n",
        "    return np.exp(-1/(2*sigma**2) * (x-y)**2)\n",
        "# Set the kernel function to be whatever we choose\n",
        "# in this case the gaussian kernel\n",
        "k = k5v;"
      ]
    },
    {
      "cell_type": "markdown",
      "source": [
        "## Variables for Random Fouirer Features"
      ],
      "metadata": {
        "id": "Rto-n6dDvilC"
      }
    },
    {
      "cell_type": "code",
      "source": [
        "num_features = 1000"
      ],
      "metadata": {
        "id": "3mbsoD31riFb"
      },
      "execution_count": 123,
      "outputs": []
    },
    {
      "cell_type": "code",
      "source": [
        "feature_coeff = 1 / np.sqrt(num_features)"
      ],
      "metadata": {
        "id": "r5BOO2oqv22h"
      },
      "execution_count": 124,
      "outputs": []
    },
    {
      "cell_type": "markdown",
      "source": [
        "## Z's for guassian kernel"
      ],
      "metadata": {
        "id": "9E8vI46GCCFW"
      }
    },
    {
      "cell_type": "code",
      "source": [
        "# creating fourier samples (create a vector of random numbers to be the scale inputs, which are x)\n",
        "# in the feature_map, we have cosines and sines and we have num_features cosines, so that means we will need\n",
        "# num_features sines for the fourier features. Our input then is num_features, but our vector col will be\n",
        "# 2 * num_features_alpha.\n",
        "\n",
        "# we need to make our standard deviation 1/sqrt(\\sigma^2). Here , when i selet\n",
        "# fourier, sample, its with sigma = 1, so this is 1\\sqrt (1).\n",
        "\n",
        "#fourier_sample_alpha = np.random.normal(size = (num_features_alpha,1))  #these are the randomly picked z's for the fourier-features\n",
        "fourier_sample_kern = np.random.normal(scale = 1, size = (num_features,1))\n",
        "\n",
        "\n",
        "#fourier_sample_alpha  = np.reshape(np.linspace(-3, 3, num_features_alpha), (num_features_alpha,1))\n",
        "fourier_sample_kern = tf.constant(fourier_sample_kern)\n",
        "\n",
        "\n",
        "print(np.std(fourier_sample_kern))"
      ],
      "metadata": {
        "colab": {
          "base_uri": "https://localhost:8080/"
        },
        "id": "4yaVM9QlCFlR",
        "outputId": "488a62d8-c0fa-41ea-b36f-f51df56d2a11"
      },
      "execution_count": 125,
      "outputs": [
        {
          "output_type": "stream",
          "name": "stdout",
          "text": [
            "1.0363268160455268\n"
          ]
        }
      ]
    },
    {
      "cell_type": "markdown",
      "source": [
        "### Z's for alpha"
      ],
      "metadata": {
        "id": "XL8yneycxT_Q"
      }
    },
    {
      "cell_type": "code",
      "source": [
        "# creating fourier samples (create a vector of random numbers to be the scale inputs, which are x)\n",
        "# in the feature_map, we have cosines and sines and we have num_features cosines, so that means we will need\n",
        "# num_features sines for the fourier features. Our input then is num_features, but our vector col will be\n",
        "# 2 * num_features_alpha.\n",
        "\n",
        "# we need to make our standard deviation 1/sqrt(\\sigma^2). Here , when i selet\n",
        "# fourier, sample, its with sigma = 1, so this is 1\\sqrt (1).\n",
        "\n",
        "#fourier_sample_alpha = np.random.normal(size = (num_features_alpha,1))  #these are the randomly picked z's for the fourier-features\n",
        "fourier_sample_alpha = np.random.normal(scale = 1, size = (num_features,1))\n",
        "\n",
        "\n",
        "#fourier_sample_alpha  = np.reshape(np.linspace(-3, 3, num_features_alpha), (num_features_alpha,1))\n",
        "fourier_sample_alpha = tf.constant(fourier_sample_alpha)\n",
        "\n",
        "\n",
        "print(np.std(fourier_sample_alpha))"
      ],
      "metadata": {
        "colab": {
          "base_uri": "https://localhost:8080/"
        },
        "id": "y5u5w-5Vvxhi",
        "outputId": "6dbe7880-5a05-4e15-f13b-947dc57a28ac"
      },
      "execution_count": 126,
      "outputs": [
        {
          "output_type": "stream",
          "name": "stdout",
          "text": [
            "0.9966324160341488\n"
          ]
        }
      ]
    },
    {
      "cell_type": "markdown",
      "source": [
        "### Z's for phi_0"
      ],
      "metadata": {
        "id": "IbdQSjJAxaRC"
      }
    },
    {
      "cell_type": "code",
      "source": [
        "fourier_sample_phi0 = np.random.normal(scale = 1, size = (num_features,1))\n",
        "\n",
        "\n",
        "#fourier_sample_alpha  = np.reshape(np.linspace(-3, 3, num_features_alpha), (num_features_alpha,1))\n",
        "fourier_sample_phi0 = tf.constant(fourier_sample_phi0)\n",
        "\n",
        "\n",
        "print(np.std(fourier_sample_phi0))"
      ],
      "metadata": {
        "colab": {
          "base_uri": "https://localhost:8080/"
        },
        "id": "eBu5IF9PxZxR",
        "outputId": "ab336a30-1d31-4233-a500-141531bc364f"
      },
      "execution_count": 127,
      "outputs": [
        {
          "output_type": "stream",
          "name": "stdout",
          "text": [
            "0.9979586486207904\n"
          ]
        }
      ]
    },
    {
      "cell_type": "markdown",
      "source": [
        "### Theta for phi_0"
      ],
      "metadata": {
        "id": "-w-ErObhyNNu"
      }
    },
    {
      "cell_type": "code",
      "source": [
        "# creating theta1 for phi_0\n",
        "# scale these thetas to be scaled similarly to the fourier random features\n",
        "#theta1 = np.random.normal(scale = 10 / np.sqrt(num_features),size = (2 * num_features, 1))\n",
        "theta1 = np.random.normal(scale = 100 / np.sqrt(num_features),size = (2 * num_features, 1))\n",
        "theta1 = tf.constant(theta1)"
      ],
      "metadata": {
        "id": "i5MrbeKUySe6"
      },
      "execution_count": 128,
      "outputs": []
    },
    {
      "cell_type": "markdown",
      "source": [
        "### Thetas for alpha"
      ],
      "metadata": {
        "id": "XxemDqioyaoI"
      }
    },
    {
      "cell_type": "code",
      "source": [
        "# creating theta2 for alpha, note that i subtracted 2 from 2*num_features since\n",
        "# we go down 2 dimensions\n",
        "#theta2 = np.random.normal(scale = 1.0, size = ((2 * num_features_alpha)-2, 1))\n",
        "theta2 = np.random.normal(scale = 2 / np.sqrt(num_features), size = ((2 * num_features)-2, 1))\n",
        "#theta2 = np.random.normal(scale = 10, size = ((2 * num_features_alpha)-2, 1)) /20\n",
        "theta2 = tf.constant(theta2)\n",
        "\n",
        "# using guass kernel, so no need to decrease dimenson\n",
        "theta2_gauss = np.random.normal(scale = 10 / np.sqrt(num_features), size = ((2 * num_features), 1)) /20\n",
        "theta2_gauss = tf.constant(theta2_gauss)"
      ],
      "metadata": {
        "id": "6G-e31OpyjhL"
      },
      "execution_count": 129,
      "outputs": []
    },
    {
      "cell_type": "markdown",
      "source": [
        "## Random Fourier Features"
      ],
      "metadata": {
        "id": "FpUGyVgqqqE3"
      }
    },
    {
      "cell_type": "markdown",
      "source": [
        "First we leverage Michael's code to create a fourier features map we denote as $\\psi(x)$. Our inputs for this function are: an $x$ value, fourier_sample (which are scaling the inputs into the $\\sin$ and $\\cos$ components of the vector), and a feature coefficient which in our case is $1 / \\sqrt{\\text{number of features}}$. \\begin{align}\n",
        "    \\psi(x) = \\frac{1}{\\sqrt{p}} \\begin{bmatrix}\n",
        "        \\cos(z_1x) \\\\\n",
        "        \\vdots\\\\\n",
        "        \\cos(z_{p/2}x)\\\\\n",
        "        \\sin(z_1x)\\\\\n",
        "        \\vdots\\\\\n",
        "        \\sin(z_{p/2}x)\n",
        "    \\end{bmatrix}\n",
        "\\end{align}"
      ],
      "metadata": {
        "id": "ytIgTxTyrXv8"
      }
    },
    {
      "cell_type": "code",
      "source": [
        "#feature map: Computes a feature map for a Gaussian kernel Fourier features approximation.\n",
        "#Input:\n",
        "#x - (n,d) matrix of n d-vectors to perform feature map on\n",
        "#fourier_sample - (d,p) matrix of p samples from a d-dimensional standard normal distribution\n",
        "#feature_coeff - 1/sqrt(p).  This could be computed from fourier_sample.\n",
        "#Output:\n",
        "#M - (2p+1,n) matrix of n feature vectors\n",
        "#The +1 comes from the fact that this feature vector incorporates a constant term\n",
        "# in regards to bandwidth, we are sampling from a normal distribution but using the guassian kernel.\n",
        "# so we need to make our standard deviation 1/sqrt(\\sigma^2). Here , when i selet\n",
        "# fourier, sample, its with sigma = 1, so this is 1\\sqrt (1).\n",
        "def feature_map(x,fourier_sample,feature_coeff,bandwidth = .5):  #oritingal 0.1#bandwith is the sigma\n",
        "\n",
        "    x = tf.transpose(x) #make x into a tensor for this calc\n",
        "    fourierx = tf.linalg.matmul(fourier_sample,x)\n",
        "    cos_fourierx = feature_coeff*tf.cos(fourierx/bandwidth)\n",
        "    sin_fourierx = feature_coeff*tf.sin(fourierx/bandwidth)\n",
        "    M = tf.concat([cos_fourierx,sin_fourierx],axis=0)\n",
        "\n",
        "    return M"
      ],
      "metadata": {
        "id": "-IdISvjmqpBR"
      },
      "execution_count": 130,
      "outputs": []
    },
    {
      "cell_type": "markdown",
      "source": [
        "### Guassian Random Fourier Features, $k(x,y) = \\psi(x)^T\\psi(x)$"
      ],
      "metadata": {
        "id": "R6BAspVY1IM6"
      }
    },
    {
      "cell_type": "code",
      "source": [
        "# normal guassian\n",
        "def k9v(x,y,\n",
        "        fourier_sample = fourier_sample_kern,\n",
        "        feature_coeff = feature_coeff,\n",
        "        feature_map = feature_map):\n",
        "\n",
        "    return tf.linalg.matmul(tf.transpose(feature_map(x, fourier_sample, feature_coeff))\n",
        "                                                       , feature_map(y, fourier_sample\n",
        "                                                       , feature_coeff))"
      ],
      "metadata": {
        "id": "jI6TGRynrqky"
      },
      "execution_count": 131,
      "outputs": []
    },
    {
      "cell_type": "markdown",
      "source": [
        "### Testing k9v: Gaussian Random Fourier Features"
      ],
      "metadata": {
        "id": "EQk_0Pbz3FGG"
      }
    },
    {
      "cell_type": "code",
      "source": [
        "#kernel_test_7 = tf.linalg.matmul(tf.transpose(feature_map(x_input, fourier_sample_alpha, feature_coeff)),feature_map(sol_alpha.y[:,1:2], fourier_sample_alpha, feature_coeff))\n",
        "#print(kernel_test_7.shape)\n",
        "#print(np.linalg.cond(kernel_test_7))"
      ],
      "metadata": {
        "id": "9wY2c-s1_rA2"
      },
      "execution_count": 132,
      "outputs": []
    },
    {
      "cell_type": "code",
      "source": [
        "kern_gaus_test = k9v(x_input,x_input, fourier_sample_alpha, feature_coeff, feature_map)\n",
        "plt.plot(x_input,kern_gaus_test[40,:]);\n",
        "plt.plot(x_input,kern_gaus_test[41,:]);\n",
        "print(kern_gaus_test.shape)\n",
        "np.linalg.cond(kern_gaus_test)"
      ],
      "metadata": {
        "colab": {
          "base_uri": "https://localhost:8080/",
          "height": 466
        },
        "id": "wtNh-tHO3F9B",
        "outputId": "d9a307e7-5136-47a8-ea91-56e744b742ca"
      },
      "execution_count": 133,
      "outputs": [
        {
          "output_type": "stream",
          "name": "stdout",
          "text": [
            "(81, 81)\n"
          ]
        },
        {
          "output_type": "execute_result",
          "data": {
            "text/plain": [
              "3.2061627993698755e+18"
            ]
          },
          "metadata": {},
          "execution_count": 133
        },
        {
          "output_type": "display_data",
          "data": {
            "text/plain": [
              "<Figure size 640x480 with 1 Axes>"
            ],
            "image/png": "[encoded data removed]"
          },
          "metadata": {}
        }
      ]
    },
    {
      "cell_type": "code",
      "source": [
        "plt.figure(figsize = (10,8))\n",
        "plt.imshow(kern_gaus_test);\n",
        "plt.colorbar();"
      ],
      "metadata": {
        "colab": {
          "base_uri": "https://localhost:8080/",
          "height": 682
        },
        "id": "phkboJdE3Gcv",
        "outputId": "d1c7f7d0-b1db-4285-9200-cb77fc4ec536"
      },
      "execution_count": 134,
      "outputs": [
        {
          "output_type": "display_data",
          "data": {
            "text/plain": [
              "<Figure size 1000x800 with 2 Axes>"
            ],
            "image/png": "[encoded data removed]"
          },
          "metadata": {}
        }
      ]
    },
    {
      "cell_type": "markdown",
      "source": [
        "## Now create projection kernel function for $\\psi_0(x) = \\Lambda^{1/2} U^T \\psi(x)$, $k_0(x,y) = \\psi_0(x)^T \\psi_0(y)$.\n",
        "\n",
        "This is the explicit kernel function, but with ensuring we start and end at the same place as phi_0 and phi_1."
      ],
      "metadata": {
        "id": "Y6uu2GhtsycM"
      }
    },
    {
      "cell_type": "markdown",
      "source": [
        "Using $k_0(x,y) = \\psi(x)^T A \\psi(y)$\n",
        "\n",
        "When we generated our $\\alpha$ function, we ensured that the $\\alpha(0) = \\alpha(1) = 0$.  We did this by following Dr. Bruno's notes on A RKHS constrained to functions verifying $\\alpha(0) = 0$ and $\\alpha(1) = 0$. We first start by considering an explicit kernel with random fourier features: $k(x,y)  = \\psi(x)^T \\psi(y)$"
      ],
      "metadata": {
        "id": "820VveW_tUhv"
      }
    },
    {
      "cell_type": "code",
      "source": [
        "def g(x, y, fourier_sample = fourier_sample_alpha, feature_coeff = feature_coeff):\n",
        "  return tf.linalg.matmul(tf.transpose(feature_map(x, fourier_sample, feature_coeff)),\n",
        "                          feature_map(y, fourier_sample, feature_coeff))"
      ],
      "metadata": {
        "id": "HY69HH8btc3o"
      },
      "execution_count": 135,
      "outputs": []
    },
    {
      "cell_type": "markdown",
      "source": [
        ":First make tensor flow arrays for $x_1 = [1], x_0 =[0], x_{01} =[0 ,1 ]$."
      ],
      "metadata": {
        "id": "CU2YGvjpts5J"
      }
    },
    {
      "cell_type": "code",
      "source": [
        "x_01 = np.array([0.,1.])\n",
        "# reshape x_1 into a column vector\n",
        "x_01 = np.reshape(x_01, (len(x_01),1))\n",
        "# make numpy array into a tensorflow array\n",
        "x_01 = tf.constant(x_01)"
      ],
      "metadata": {
        "id": "DWO2sVHctsKO"
      },
      "execution_count": 136,
      "outputs": []
    },
    {
      "cell_type": "code",
      "source": [
        "x_0 = np.array([0.])\n",
        "x_0 = np.reshape(x_0, (len(x_0),1))\n",
        "# make numpy array into a tensorflow array\n",
        "x_0 = tf.constant(x_0)"
      ],
      "metadata": {
        "id": "rFIHoIAItx_k"
      },
      "execution_count": 137,
      "outputs": []
    },
    {
      "cell_type": "code",
      "source": [
        "x_1 = np.array([1.])\n",
        "x_1 = np.reshape(x_1, (len(x_1),1))\n",
        "# make numpy array into a tensorflow array\n",
        "x_1 = tf.constant(x_1)"
      ],
      "metadata": {
        "id": "Zejfuqtptxq7"
      },
      "execution_count": 138,
      "outputs": []
    },
    {
      "cell_type": "markdown",
      "source": [
        "Now, let's create a gram matrix with our end points, $x = [0,1]$. Here we make  \n",
        "G =\\begin{bmatrix} k(0,0) & k(0,1) \\\\\n",
        "                      k(0,1) & k(1,1)\n",
        "      \\end{bmatrix}"
      ],
      "metadata": {
        "id": "5RaT1zaNuEf8"
      }
    },
    {
      "cell_type": "code",
      "source": [
        "G = g(x_01,x_01)\n",
        "print(G)\n",
        "G_inv = tf.linalg.inv(G)\n",
        "print(G_inv)"
      ],
      "metadata": {
        "colab": {
          "base_uri": "https://localhost:8080/"
        },
        "id": "5yHEiVrBuJGi",
        "outputId": "a23b6ca3-531f-4302-b693-7ba7966c6047"
      },
      "execution_count": 139,
      "outputs": [
        {
          "output_type": "stream",
          "name": "stdout",
          "text": [
            "tf.Tensor(\n",
            "[[1.         0.14737749]\n",
            " [0.14737749 1.        ]], shape=(2, 2), dtype=float64)\n",
            "tf.Tensor(\n",
            "[[ 1.02220236 -0.15064962]\n",
            " [-0.15064962  1.02220236]], shape=(2, 2), dtype=float64)\n"
          ]
        }
      ]
    },
    {
      "cell_type": "markdown",
      "source": [
        "$(\\psi(0),\\psi(1))$, with $\\psi(0), \\psi(1) \\in \\mathbb{R}^p$."
      ],
      "metadata": {
        "id": "P6RypnuguTW3"
      }
    },
    {
      "cell_type": "code",
      "source": [
        "p_0p_1 = feature_map(x_01, fourier_sample = fourier_sample_alpha, feature_coeff = feature_coeff)\n",
        "print(p_0p_1.shape)"
      ],
      "metadata": {
        "colab": {
          "base_uri": "https://localhost:8080/"
        },
        "id": "P2lNCkBtuUjq",
        "outputId": "cb164371-fc75-41d2-8aad-0391414e8b54"
      },
      "execution_count": 140,
      "outputs": [
        {
          "output_type": "stream",
          "name": "stdout",
          "text": [
            "(2000, 2)\n"
          ]
        }
      ]
    },
    {
      "cell_type": "markdown",
      "source": [
        "$(\\psi(0), \\psi(1)) G^{-1} (\\psi(0), \\psi(1))^T$"
      ],
      "metadata": {
        "id": "SHeUPilfueeU"
      }
    },
    {
      "cell_type": "code",
      "source": [
        "pGp = tf.linalg.matmul(tf.linalg.matmul(p_0p_1, G_inv), tf.transpose(p_0p_1))\n",
        "print(pGp.dtype)\n",
        "print(pGp.shape)"
      ],
      "metadata": {
        "colab": {
          "base_uri": "https://localhost:8080/"
        },
        "id": "MKSkQk8HuYSd",
        "outputId": "27a280fb-ad54-4ce5-bc3a-46fe1b527f49"
      },
      "execution_count": 141,
      "outputs": [
        {
          "output_type": "stream",
          "name": "stdout",
          "text": [
            "<dtype: 'float64'>\n",
            "(2000, 2000)\n"
          ]
        }
      ]
    },
    {
      "cell_type": "code",
      "source": [
        "I = tf.eye(2 * num_features, dtype=tf.float64)"
      ],
      "metadata": {
        "id": "50F32lxRuj4a"
      },
      "execution_count": 142,
      "outputs": []
    },
    {
      "cell_type": "markdown",
      "source": [
        "$A = I - (\\psi(0), \\psi(1)) G^{-1} (\\psi(0), \\psi(1))^T$"
      ],
      "metadata": {
        "id": "c7j_rLvxuosQ"
      }
    },
    {
      "cell_type": "code",
      "source": [
        "A_g = tf.subtract(I,pGp)\n",
        "print(A_g.shape)\n",
        "#print(A_g)"
      ],
      "metadata": {
        "colab": {
          "base_uri": "https://localhost:8080/"
        },
        "id": "ygROgKRYuoAI",
        "outputId": "72afe4c7-569e-47d9-a89c-3df6bf0b846f"
      },
      "execution_count": 143,
      "outputs": [
        {
          "output_type": "stream",
          "name": "stdout",
          "text": [
            "(2000, 2000)\n"
          ]
        }
      ]
    },
    {
      "cell_type": "code",
      "source": [
        "# A Hermitian matrix is a square matrix that is equal to its own complex conjugate transpose.\n",
        "if np.allclose(A_g, np.conj(A_g).T):\n",
        "    print(\"A is Hermitian\")\n",
        "else:\n",
        "    print(\"A is not Hermitian\")"
      ],
      "metadata": {
        "colab": {
          "base_uri": "https://localhost:8080/"
        },
        "id": "0vEYy-mtu0Ty",
        "outputId": "6befc5cc-dc8d-49c2-a03f-600fe71952fb"
      },
      "execution_count": 144,
      "outputs": [
        {
          "output_type": "stream",
          "name": "stdout",
          "text": [
            "A is Hermitian\n"
          ]
        }
      ]
    },
    {
      "cell_type": "code",
      "source": [
        "# Use eigh\n",
        "eig, U = LA.eigh(A_g)"
      ],
      "metadata": {
        "id": "DVGpAOCfu42z"
      },
      "execution_count": 145,
      "outputs": []
    },
    {
      "cell_type": "code",
      "source": [
        "# Define the condition for removing small values from\n",
        "# eigenvalues. These are basically zero\n",
        "condition = eig < 1e-14\n",
        "\n",
        "# Use boolean indexing to select the elements that satisfy the condition\n",
        "# this is telling me what meets the condition\n",
        "remove = tf.boolean_mask(eig, condition)\n",
        "# Obtain indexes where this condition is met\n",
        "ind_to_remove = np.where(condition)\n",
        "\n",
        "# new eig vector with no zeros\n",
        "new_eig = np.delete(eig, ind_to_remove)\n",
        "#new_eig = np.where(condition, eig, 0)\n",
        "\n",
        "# new U matrix removing the eigenvectors corresponding to\n",
        "# eigenvalues that were removed\n",
        "new_U = np.delete(U, ind_to_remove, axis=1)\n",
        "\n",
        "\n",
        "print(remove)\n",
        "print(ind_to_remove)\n",
        "print(new_eig)\n",
        "print(new_eig.shape)\n",
        "print(new_U.shape)\n",
        "print(new_U[:,0].shape)"
      ],
      "metadata": {
        "colab": {
          "base_uri": "https://localhost:8080/"
        },
        "id": "-R2B_K1Wu9jr",
        "outputId": "bf94e5c0-2a05-4af6-b234-40f5f68e5fff"
      },
      "execution_count": 146,
      "outputs": [
        {
          "output_type": "stream",
          "name": "stdout",
          "text": [
            "tf.Tensor([-7.73074332e-16  1.32818584e-15], shape=(2,), dtype=float64)\n",
            "(array([0, 1]),)\n",
            "[1. 1. 1. ... 1. 1. 1.]\n",
            "(1998,)\n",
            "(2000, 1998)\n",
            "(2000,)\n"
          ]
        }
      ]
    },
    {
      "cell_type": "code",
      "source": [
        "new_L = tf.linalg.diag(tf.sqrt(new_eig))\n",
        "print(new_L.shape)"
      ],
      "metadata": {
        "colab": {
          "base_uri": "https://localhost:8080/"
        },
        "id": "QZ6GocGDvAjC",
        "outputId": "558584a4-48be-40e8-9e37-355243fbbeb9"
      },
      "execution_count": 147,
      "outputs": [
        {
          "output_type": "stream",
          "name": "stdout",
          "text": [
            "(1998, 1998)\n"
          ]
        }
      ]
    },
    {
      "cell_type": "markdown",
      "source": [
        "$Λ^{1/2} U^T$ will be the same, so I don't need to recalculate every time we go through the equation."
      ],
      "metadata": {
        "id": "HnEr_phcvEER"
      }
    },
    {
      "cell_type": "code",
      "source": [
        "LU = tf.linalg.matmul(new_L, tf.transpose(new_U))\n",
        "print(LU.shape)"
      ],
      "metadata": {
        "colab": {
          "base_uri": "https://localhost:8080/"
        },
        "id": "L6h2e_n7vHGn",
        "outputId": "26f69e87-6a8d-4032-8990-4a326e3548d9"
      },
      "execution_count": 148,
      "outputs": [
        {
          "output_type": "stream",
          "name": "stdout",
          "text": [
            "(1998, 2000)\n"
          ]
        }
      ]
    },
    {
      "cell_type": "code",
      "source": [
        "np.linalg.cond(LU)"
      ],
      "metadata": {
        "colab": {
          "base_uri": "https://localhost:8080/"
        },
        "id": "0KjDPkOsvK9f",
        "outputId": "823b1b2a-06b9-4aa6-dcf5-fffcff411728"
      },
      "execution_count": 149,
      "outputs": [
        {
          "output_type": "execute_result",
          "data": {
            "text/plain": [
              "1.0000000000000027"
            ]
          },
          "metadata": {},
          "execution_count": 149
        }
      ]
    },
    {
      "cell_type": "markdown",
      "source": [
        "$\\psi_0(x) = Λ^{1/2}U^T \\psi(x)$"
      ],
      "metadata": {
        "id": "achbXrQAvOgz"
      }
    },
    {
      "cell_type": "code",
      "source": [
        "# new feature map to make alpha and learning alpha\n",
        "def feature_map_0(x, Lambda_unitary, fourier_sample = fourier_sample_alpha,\n",
        "                  feature_coeff = feature_coeff, feature_map = feature_map):\n",
        "  #print(x.shape)\n",
        "  p = feature_map(x, fourier_sample, feature_coeff)\n",
        "  return tf.linalg.matmul(Lambda_unitary, p)"
      ],
      "metadata": {
        "id": "4jfw6TGKvXYi"
      },
      "execution_count": 150,
      "outputs": []
    },
    {
      "cell_type": "code",
      "source": [
        "# An input of 1 dimensional vector should be (p-2,1)\n",
        "# this graphs should show that psi_0(0) ≈ 0, psi_0(1) ≈ 0\n",
        "f_0 = feature_map_0(x_0, LU)\n",
        "print(f_0.shape) #length of fourier_features - 2 dimentison, x's with all cos's sine's\n",
        "f_1 = feature_map_0(x_1, LU)\n",
        "print(f_1.shape)\n",
        "plt.plot(f_0);\n",
        "plt.plot(f_1);#"
      ],
      "metadata": {
        "colab": {
          "base_uri": "https://localhost:8080/",
          "height": 481
        },
        "id": "pONo8GdEvasv",
        "outputId": "2e664c11-77a5-4c14-fa9f-059b5d708db2"
      },
      "execution_count": 151,
      "outputs": [
        {
          "output_type": "stream",
          "name": "stdout",
          "text": [
            "(1998, 1)\n",
            "(1998, 1)\n"
          ]
        },
        {
          "output_type": "display_data",
          "data": {
            "text/plain": [
              "<Figure size 640x480 with 1 Axes>"
            ],
            "image/png": "[encoded data removed]"
          },
          "metadata": {}
        }
      ]
    },
    {
      "cell_type": "markdown",
      "source": [
        "### New kernel function for $\\psi_0(x) = \\Lambda^{1/2} U^T \\psi(x)$ such that $k_0(x,y) = \\psi_0(x)^T \\psi_0(y)$.\n",
        "\n",
        "This is the explicit kernel function, but with ensuring we start and end at the same place as phi_0 and phi_1."
      ],
      "metadata": {
        "id": "OMDe60PU08vW"
      }
    },
    {
      "cell_type": "code",
      "source": [
        "# Remeber, LU will be fixed the entire time, will not change since it is about\n",
        "# psi(x) at the boundaries only.\n",
        "def k8v(x,y, Lambda_unitary = LU, fourier_sample = fourier_sample_kern,\n",
        "                  feature_coeff = feature_coeff, feature_map = feature_map):\n",
        "\n",
        "    return tf.linalg.matmul(tf.transpose(feature_map_0(x, Lambda_unitary, fourier_sample\n",
        "                                                       , feature_coeff, feature_map))\n",
        "                                                       , feature_map_0(y, Lambda_unitary, fourier_sample\n",
        "                                                       , feature_coeff, feature_map))"
      ],
      "metadata": {
        "id": "1HYZKPnK96pl"
      },
      "execution_count": 152,
      "outputs": []
    },
    {
      "cell_type": "code",
      "source": [
        "k8v(x_input,x_input).shape"
      ],
      "metadata": {
        "colab": {
          "base_uri": "https://localhost:8080/"
        },
        "id": "ShescqWK8MLm",
        "outputId": "27169c61-8996-4637-a05d-0edc0dedabc7"
      },
      "execution_count": 153,
      "outputs": [
        {
          "output_type": "execute_result",
          "data": {
            "text/plain": [
              "TensorShape([81, 81])"
            ]
          },
          "metadata": {},
          "execution_count": 153
        }
      ]
    },
    {
      "cell_type": "markdown",
      "source": [
        "### Testing Z's with projection kernel."
      ],
      "metadata": {
        "id": "NYxS-jVA7W0x"
      }
    },
    {
      "cell_type": "code",
      "source": [
        "#ker_test_6 = k8v(x_input,sol_alpha.y[:,1:2])\n",
        "#print(ker_test_6.shape)\n",
        "#print(np.linalg.cond(ker_test_6))"
      ],
      "metadata": {
        "id": "rMgfjldT_xBj"
      },
      "execution_count": 154,
      "outputs": []
    },
    {
      "cell_type": "code",
      "source": [
        "x_05 = np.array([0.1])\n",
        "# reshape x_1 into a column vector\n",
        "x_05 = np.reshape(x_05, (len(x_05),1))\n",
        "#print(x_01.shape)\n",
        "# make numpy array into a tensorflow array\n",
        "x_05 = tf.constant(x_05)"
      ],
      "metadata": {
        "id": "OZITuOP-7XfZ"
      },
      "execution_count": 155,
      "outputs": []
    },
    {
      "cell_type": "code",
      "source": [
        "k8v(x_input, x_05)\n",
        "plt.plot(x_input,k8v(x_input, x_05));"
      ],
      "metadata": {
        "colab": {
          "base_uri": "https://localhost:8080/",
          "height": 430
        },
        "id": "0iEZfuiT-Jnw",
        "outputId": "e1414c9c-4b44-4318-f0fe-49b3b48e4645"
      },
      "execution_count": 156,
      "outputs": [
        {
          "output_type": "display_data",
          "data": {
            "text/plain": [
              "<Figure size 640x480 with 1 Axes>"
            ],
            "image/png": "[encoded data removed]"
          },
          "metadata": {}
        }
      ]
    },
    {
      "cell_type": "markdown",
      "source": [
        "# Time intervals for my ODE integrator.\n",
        "This is for my intermiadte integrations.\n",
        "'num'"
      ],
      "metadata": {
        "id": "maoJ1WhDpfxP"
      }
    },
    {
      "cell_type": "code",
      "execution_count": 157,
      "metadata": {
        "id": "gXRGPHE0xPjv"
      },
      "outputs": [],
      "source": [
        "# time intervals for my ODE integrator\n",
        "num = 10\n",
        "t_list = np.linspace(0, 1.0, num = num)\n",
        "#print(t_list)"
      ]
    },
    {
      "cell_type": "markdown",
      "metadata": {
        "id": "W9F4EDHvQUWu"
      },
      "source": [
        "# Double integral function"
      ]
    },
    {
      "cell_type": "markdown",
      "metadata": {
        "id": "lF33c5rnjTZo"
      },
      "source": [
        "Below is our composite trapezoid quadrature for $L^*$. We need this matrix to help compute the gradient. We use the ODE solver intermediate time steps.\n",
        "\n",
        "\\begin{align}\n",
        "    &\\int_0^1 \\int_0^1  K(x_k(s),x_l(t) dsdt \\notag\\\\\n",
        "    &\\approx \\frac{h^2}{4} \\left[ K(x_k(s_0),x_l(t_0) +K(x_k(s_0),x_l(t_{p}) \\right.\\notag \\\\\n",
        "    & \\left. + K(x_k(s_{p}),x_l(t_0)  +K(x_k(s_{p}),x_l(t_{p}) \\right] \\notag\\\\\n",
        "    & +\\frac{h^2}{2} \\left[ \\sum_{j=1}^{p-1} K(x_k(s_0),x_l(t_j) +\\sum_{i=1}^{p-1}K(x_k(s_i),x_l(t_{p})+\\sum_{j=1}^{p-1}K(x_k(s_{p}),x_l(t_j) \\right. \\notag \\\\\n",
        "    &\\left. +\\sum_{i=1}^{p-1}K(x_k(s_i),x_l(t_0) \\right]  +  h^2 \\left[ \\sum_{j=1}^{p-1} \\sum_{i=1}^{p-1} K(x_k(s_i),x_l(t_j)\\right]\n",
        "\\end{align}\n",
        "where $k,l \\in \\lbrace 0, \\dots, n\\rbrace$, $i,j \\in \\lbrace 1,\\dots p-1 \\rbrace$ ($p$ is the number of intermediate trajectories ($x_i)$ we choose), and for our given bounded $[0,1]$ interval, $h = (1-0)/(p-1)$.  Use the convolve function to find this value.\n"
      ]
    },
    {
      "cell_type": "code",
      "execution_count": 158,
      "metadata": {
        "id": "_kjY86ndyLB1"
      },
      "outputs": [],
      "source": [
        "# Convolution for double integral\n",
        "\n",
        "def con(h, y, num, kern):  #y is sol.y, kern is the kernel we choose\n",
        "                            # h  = 1/(p-1)\n",
        "\n",
        "    #make kernel for trap\n",
        "    kernel_1 = (h**2 / 4) * np.array([[1,1],\n",
        "                                  [1,1]]\n",
        "                                )\n",
        "    #repshape for tensor flow\n",
        "    kernel_1  = np.reshape(kernel_1, (kernel_1.shape[0], kernel_1.shape[1], 1,1))\n",
        "    #make into a tensor flow\n",
        "    kernel_1 = tf.constant(kernel_1, dtype = tf.float64)\n",
        "\n",
        "    #make 2nd kernel\n",
        "    kernel_2 = np.full((num-1, num-1), 1) #has to do with intermediate trajectories\n",
        "    kernel_2 = np.reshape(kernel_2, (kernel_2.shape[0], kernel_2.shape[1], 1,1))\n",
        "    kernel_2 = tf.constant(kernel_2, dtype = tf.float64)\n",
        "\n",
        "\n",
        "\n",
        "    # Take our solution (100 x 5) and make into a 500 x 1\n",
        "    y = y.flatten()\n",
        "    y = np.reshape(y, (len(y),1))\n",
        "    #print('After sol.y is flattented we have: ' +str(y.shape))\n",
        "    matrix = kern(y, y)   #make into 500 x 500 matrix for num  =5, num =10 shouuld be 1000x10000\n",
        "    #print(matrix.shape)\n",
        "    matrix = np.float_(matrix)  #make sure all not integers\n",
        "\n",
        "    #repshape for tensor flow\n",
        "    #print(matrix[1])\n",
        "    # batch is the first position, and we don't have any\n",
        "    # channels is last position and we don't have any\n",
        "    # really we just want the (n,n) in the middle\n",
        "    matrix = np.reshape(matrix, (1, matrix.shape[0], matrix.shape[1], 1))\n",
        "    #make into a tensor flow\n",
        "    matrix = tf.constant(matrix, dtype = tf.float64)\n",
        "\n",
        "    # 1st convolve:\n",
        "    # i believe the 1's on the outside don't do anthing, we just need the middles to tell\n",
        "    # the kernel how to convolve\n",
        "    con_1 = tf.nn.conv2d(matrix, kernel_1, strides = [1,1,1,1],padding = 'VALID')\n",
        "    #print(con_1.shape)\n",
        "    # 2nd convolve:\n",
        "    con_2 = tf.nn.conv2d(con_1, kernel_2, strides = [1,num,num,1],padding = 'VALID') #kernel_2 versus 3\n",
        "\n",
        "    # back to numpy\n",
        "    con_2 = con_2.numpy()\n",
        "    #print(con_2.shape)\n",
        "    # reshape to nxn\n",
        "    con_2 = np.reshape(con_2, (con_2.shape[1], con_2.shape[2]))\n",
        "    #print(con_2.shape)\n",
        "\n",
        "    ## TO DO put back to tensor\n",
        "\n",
        "    return con_2"
      ]
    },
    {
      "cell_type": "markdown",
      "metadata": {
        "id": "UvTZy5LzQdow"
      },
      "source": [
        "# Function for single integral for $\\alpha$."
      ]
    },
    {
      "cell_type": "markdown",
      "metadata": {
        "id": "QIRy990c0kOO"
      },
      "source": [
        "Create $\\alpha(x)$. Below is our quadrature for $\\alpha$. Again $p$ is the number of intermediate trajectories we choose and $h = 1/p$.  Recall $\\alpha(x) = \\sum_{k=1}^n \\beta_k L^*_{x_{k}}(x)$, where $L^*_{x_{k}}(x) = \\int K(x_k(s),x)dt$.\n",
        "\\begin{align}\n",
        "    &\\int_0^1  K(x_k(s),x) ds \\notag \\\\\n",
        "    &\\approx \\frac{h}{2} K(x_k(s_0),x) + h  \\sum_{i=1}^{p-1} K(x_k(s_i),x) + \\frac{h}{2}  K(x_k(s_p),x)\n",
        "\\end{align}\n",
        "We again use the trapezoid composite rule where $k \\in \\lbrace 1, \\dots, n\\rbrace$ and $i \\in \\lbrace 0,\\dots, p-1 \\rbrace$ for our minimizer $\\alpha$."
      ]
    },
    {
      "cell_type": "code",
      "execution_count": 159,
      "metadata": {
        "id": "KJqMVVlP4K_i"
      },
      "outputs": [],
      "source": [
        "#Function for single integral: middle term from trapezoid rule\n",
        "def GetMid(U, y, N, kern): #N is num, y is sol.y, U is the open varialbe\n",
        "                            #kern is the kernel we choose\n",
        "  mid = [0] * (N-2)  #there will be N-2 items in the middle (not the first or the last), I added this before it was N\n",
        "  #print(\"in mid now\")\n",
        "  #print(f\"This is the shape of U: {U.shape}\")\n",
        "  #print(f\"This is the len of U: {len(U)}\")\n",
        "  for i in range(1,N-1):\n",
        "    # print(f\"{i = }\")\n",
        "    mid[i-1] = kern(U.reshape(len(U),1),y[:,i:i+1]) # I added i - 1 before it was i but i starts at 1 here.\n",
        "    # print(f\"mid[i] = {mid[i]} = k(U.reshape(len(U),1),y[:,{i}:{i+1}])\")\n",
        "  return np.sum(mid, axis=0) # row sum\n",
        "\n",
        "# n = num (the variable from above)\n",
        "# this function takes middle term and sums the first and last summand from the trapezoid rule\n",
        "def Gamma(H, U, y, N, kern): #N is num, y is sol.y, U is the open varialbe, H is h or 1/(p-1)\n",
        "  #print(\"in beg\")\n",
        "  #print(f\"This is the shape of U: {U.shape}\")\n",
        "  #print(f\"This is the len of U: {len(U)}\")\n",
        "  #np.reshape(U,len(U))\n",
        "  #print(f\"This is the shape of U: {U.shape}\")\n",
        "  #print(f\"This is the len of U: {len(U)}\")\n",
        "  beg = H/2 * kern(U.reshape(len(U),1),y[:,0:1])\n",
        "  #print(y[:,0:1].shape)\n",
        "  #print(beg.shape)\n",
        "  #print(U.shape)\n",
        "  # print(f\"beg = {beg} = H/2 * k(U.reshape(len(U),1),y[:,0:1])\")\n",
        "  mid = H * GetMid(U, y, N, kern)\n",
        "  #print(mid.shape)\n",
        "  end = H/2 * kern(U.reshape(len(U),1),y[:,N-1:N])\n",
        "  # print(f\"end = {end} = H/2 * k(U.reshape(len(U),1),y[:,n-1:n])\")\n",
        "\n",
        "  return beg+mid+end"
      ]
    },
    {
      "cell_type": "markdown",
      "metadata": {
        "id": "FB6sOaNtQi6_"
      },
      "source": [
        "# Creating $\\alpha$, and $\\phi_0$ and $\\phi_1$."
      ]
    },
    {
      "cell_type": "markdown",
      "metadata": {
        "id": "RGU_UjYUQ_JG"
      },
      "source": [
        "Here we generate a seed."
      ]
    },
    {
      "cell_type": "code",
      "execution_count": 160,
      "metadata": {
        "id": "9y7BdStHQ3gp"
      },
      "outputs": [],
      "source": [
        "np.random.seed(15)"
      ]
    },
    {
      "cell_type": "markdown",
      "metadata": {
        "id": "YVPddxQtRGFL"
      },
      "source": [
        "Make an $\\alpha$ function in order to generate our $\\phi_1$ using our feature_map_0 defined above. We want to ensure that $\\alpha(0) = \\alpha(1) = 0$.\n",
        "\n",
        "We define the number for features for our $\\phi_0$ and $\\alpha$ as num_features. We needed to take into consideration that the fourier features map will be 'num_features' cosine functions but each cosine function has a corelated sine function, so the fourier feature map is 2 * num_features in length."
      ]
    },
    {
      "cell_type": "markdown",
      "metadata": {
        "id": "gcreN5HNRWlH"
      },
      "source": [
        "We will generate two functions: $\\phi_0$ and $\\alpha$ by generating two seperate $\\Theta$ vectors. The $\\Theta$'s are generated by sampling from a normal distribution with specific standard deviations dependent on the num_features. This sampling is discussed in the paper by Dr. Bruno. We will have:\n",
        "$$\\phi_0(x) =  \\Theta_1^T \\psi_{\\phi_0}(x)$$\n",
        "$$\\alpha(x) = \\Theta_2^T \\psi_{\\alpha}(x)$$\n",
        "Above we generate $\\Theta_1$ and $\\Theta_2$. We then generated the fourier_sample vector (specific for each function) which will be scaling the inputs to the cosine and sine component functions. These are generated by using a normal distrubtion with standard deviation of 1.\n",
        "\n",
        "Then we have our feature_coefficient variable here defined as $1/2*\\sqrt{\\text{num_features}}$."
      ]
    },
    {
      "cell_type": "code",
      "execution_count": 161,
      "metadata": {
        "id": "lPTcg6ELTVRb"
      },
      "outputs": [],
      "source": [
        "# Generate function\n",
        "\n",
        "# for phi_0\n",
        "def gen_func(x, theta, fourier_sample, feature_coeff = feature_coeff, feature_map=feature_map):\n",
        "    return tf.linalg.matmul(tf.transpose(theta), feature_map(x,fourier_sample,feature_coeff))\n",
        "\n",
        "\n",
        "# for alpha, using projection, the theta for this needs to be (p-2,1) dimensions.\n",
        "def gen_func_1(x, theta,\n",
        "               fourier_sample = fourier_sample_alpha,\n",
        "               feature_coeff = feature_coeff,\n",
        "               feature_map = feature_map,\n",
        "               Lambda_unitary = LU):\n",
        "  #print(theta.shape)\n",
        "  #A = feature_map_0(x, Lambda_unitary)  #feature map (p-2,1) dimensions\n",
        "  # something is up with this\n",
        "  A = feature_map_0(x, Lambda_unitary, fourier_sample,\n",
        "                  feature_coeff, feature_map)\n",
        "\n",
        "  #print(A.shape)\n",
        "  return tf.linalg.matmul(tf.transpose(theta), A)"
      ]
    },
    {
      "cell_type": "code",
      "execution_count": 162,
      "metadata": {
        "colab": {
          "base_uri": "https://localhost:8080/"
        },
        "id": "adEHmNA1Td6q",
        "outputId": "ea749205-19b6-48af-ac3f-2371616730f0"
      },
      "outputs": [
        {
          "output_type": "stream",
          "name": "stdout",
          "text": [
            "(1,)\n",
            "(1, 1)\n",
            "tf.Tensor([[27.]], shape=(1, 1), dtype=float64)\n"
          ]
        }
      ],
      "source": [
        "# make an x to input into this function\n",
        "x = tf.constant(np.array([27.0]))\n",
        "print(x.shape)\n",
        "x = x[None,:] #row vector\n",
        "print(x.shape)\n",
        "print(x)"
      ]
    },
    {
      "cell_type": "code",
      "execution_count": 163,
      "metadata": {
        "colab": {
          "base_uri": "https://localhost:8080/"
        },
        "id": "V_2GVsfFTgQx",
        "outputId": "9e11019e-cb28-4a9a-dd6c-c35258ef9c4a"
      },
      "outputs": [
        {
          "output_type": "execute_result",
          "data": {
            "text/plain": [
              "<tf.Tensor: shape=(1, 1), dtype=float64, numpy=array([[-3.77836182]])>"
            ]
          },
          "metadata": {},
          "execution_count": 163
        }
      ],
      "source": [
        "# test out\n",
        "gen_func(x, theta1, fourier_sample_phi0)"
      ]
    },
    {
      "cell_type": "code",
      "execution_count": 164,
      "metadata": {
        "colab": {
          "base_uri": "https://localhost:8080/"
        },
        "id": "JlNeQj-drR-y",
        "outputId": "57e208ce-af8f-43c0-fcc2-65491d18dec1"
      },
      "outputs": [
        {
          "output_type": "stream",
          "name": "stdout",
          "text": [
            "<dtype: 'float64'>\n",
            "(1998, 1)\n",
            "(1998, 2000)\n"
          ]
        }
      ],
      "source": [
        "print(x.dtype)\n",
        "print(theta2.shape)\n",
        "print(LU.shape)"
      ]
    },
    {
      "cell_type": "code",
      "execution_count": 165,
      "metadata": {
        "colab": {
          "base_uri": "https://localhost:8080/"
        },
        "id": "7MB5Al-bTijP",
        "outputId": "6276694f-cf96-4f2c-9cf0-5ce26b0bf0e2"
      },
      "outputs": [
        {
          "output_type": "execute_result",
          "data": {
            "text/plain": [
              "<tf.Tensor: shape=(1, 1), dtype=float64, numpy=array([[-0.01053105]])>"
            ]
          },
          "metadata": {},
          "execution_count": 165
        }
      ],
      "source": [
        "# test out\n",
        "gen_func_1(x, theta2)"
      ]
    },
    {
      "cell_type": "markdown",
      "metadata": {
        "id": "amXwl-CMTri1"
      },
      "source": [
        "Here we generated $\\phi_0$ and $\\alpha$. This correspoinds to\n",
        "$$\\phi_0(x) =  \\Theta_1^T  \\psi_{\\phi_0}(x) $$\n",
        "$$\\alpha(x) = \\Theta_2^T \\psi_0(x) = \\Theta_2^T \\Lambda^{1/2} U^T \\psi_{\\alpha}(x)$$"
      ]
    },
    {
      "cell_type": "code",
      "execution_count": 166,
      "metadata": {
        "id": "y1BQwfOhGStF"
      },
      "outputs": [],
      "source": [
        "#theta3 = np.random.normal(scale = 10 / np.sqrt(num_features_alpha), size = ((2 * num_features_alpha)-2, 1)) /20\n",
        "#theta3 = tf.constant(theta3)"
      ]
    },
    {
      "cell_type": "code",
      "execution_count": 167,
      "metadata": {
        "id": "OSHioR0uErXu"
      },
      "outputs": [],
      "source": [
        "#def h_func(t, x, theta = theta3, fourier_sample = fourier_sample_alpha, feature_coeff = feature_coeff_alpha):\n",
        "#    #return gen_func_1(x, theta, fourier_sample = fourier_sample, feature_coeff = feature_coeff) # gen_func_1 usi\n",
        "#    return gen_func_1(x, theta, fourier_sample, feature_coeff)"
      ]
    },
    {
      "cell_type": "markdown",
      "source": [
        "## functions, alpha (using projection thrm) and using random fourier features."
      ],
      "metadata": {
        "id": "F-I4cF8LM6su"
      }
    },
    {
      "cell_type": "code",
      "execution_count": 168,
      "metadata": {
        "id": "yAVwRRsGTnYF"
      },
      "outputs": [],
      "source": [
        "def phi_0(x,theta = theta1, fourier_sample = fourier_sample_phi0, feature_coeff = feature_coeff):\n",
        "    #return gen_func(x, theta, fourier_sample = fourier_sample, feature_coeff = feature_coeff)#this uses normal feature_map for a normal function\n",
        "    return gen_func(x, theta, fourier_sample)\n",
        "# this is our ODE that uses feature_map_alpha to ensure 0's are at a(0) = a(1) = 0\n",
        "# using Dr. Bruno algorithm\n",
        "# put a t in here in order to use sol_ivp function\n",
        "def alpha(t, x, theta = theta2, fourier_sample = fourier_sample_alpha, feature_coeff = feature_coeff):\n",
        "    #return gen_func_1(x, theta, fourier_sample = fourier_sample, feature_coeff = feature_coeff) # gen_func_1 usies LU, here we placed feature_map_alpha to ensure we have 0 on bounderies\n",
        "    return gen_func_1(x, theta, fourier_sample)\n",
        "\n",
        "\n",
        "def alpha_gauss(t, x, theta = theta2_gauss, fourier_sample = fourier_sample_alpha, feature_coeff = feature_coeff):\n",
        "    #return gen_func(x, theta, fourier_sample = fourier_sample, feature_coeff = feature_coeff) # This uses normal feature_map\n",
        "    return gen_func(x, theta, fourier_sample)"
      ]
    },
    {
      "cell_type": "code",
      "execution_count": 169,
      "metadata": {
        "colab": {
          "base_uri": "https://localhost:8080/"
        },
        "id": "VJcP7MKTTuB8",
        "outputId": "2c04e1e1-1717-4a9a-9b2f-5424801d6e19"
      },
      "outputs": [
        {
          "output_type": "execute_result",
          "data": {
            "text/plain": [
              "<tf.Tensor: shape=(1, 1), dtype=float64, numpy=array([[-3.77836182]])>"
            ]
          },
          "metadata": {},
          "execution_count": 169
        }
      ],
      "source": [
        "phi_0(x)   #we only need to input x, because the other variables are pre-defined."
      ]
    },
    {
      "cell_type": "code",
      "execution_count": 170,
      "metadata": {
        "colab": {
          "base_uri": "https://localhost:8080/"
        },
        "id": "eNs9JhMkTwmt",
        "outputId": "8de737ee-52df-4f9d-ffb8-12a108845264"
      },
      "outputs": [
        {
          "output_type": "execute_result",
          "data": {
            "text/plain": [
              "<tf.Tensor: shape=(1, 1), dtype=float64, numpy=array([[-0.01053105]])>"
            ]
          },
          "metadata": {},
          "execution_count": 170
        }
      ],
      "source": [
        "alpha(1, x)   #we only need to input x, because the other variables are pre-defined."
      ]
    },
    {
      "cell_type": "code",
      "source": [
        "alpha_gauss(1, x)"
      ],
      "metadata": {
        "colab": {
          "base_uri": "https://localhost:8080/"
        },
        "id": "uBPBTPfDfD6r",
        "outputId": "32d8af97-aeb2-4b16-f773-edd4827d6209"
      },
      "execution_count": 171,
      "outputs": [
        {
          "output_type": "execute_result",
          "data": {
            "text/plain": [
              "<tf.Tensor: shape=(1, 1), dtype=float64, numpy=array([[-0.00528646]])>"
            ]
          },
          "metadata": {},
          "execution_count": 171
        }
      ]
    },
    {
      "cell_type": "markdown",
      "source": [
        "## defines alpha to be using the projection function."
      ],
      "metadata": {
        "id": "JDBLboBHNIos"
      }
    },
    {
      "cell_type": "code",
      "source": [
        "alph = alpha #alpha_gauss"
      ],
      "metadata": {
        "id": "cb7gmOg2meo3"
      },
      "execution_count": 172,
      "outputs": []
    },
    {
      "cell_type": "markdown",
      "metadata": {
        "id": "9VEuNs9CUY0J"
      },
      "source": [
        "We needed to reshape the x input array into a tensorflow array."
      ]
    },
    {
      "cell_type": "code",
      "execution_count": 173,
      "metadata": {
        "colab": {
          "base_uri": "https://localhost:8080/"
        },
        "id": "1Yx4FdScUZb_",
        "outputId": "a924d082-f2a8-4239-93f7-8205f8309345"
      },
      "outputs": [
        {
          "output_type": "stream",
          "name": "stdout",
          "text": [
            "(81, 1)\n",
            "(81, 1)\n"
          ]
        }
      ],
      "source": [
        "# reshape x_input into a column vector\n",
        "x_input = np.reshape(x_input, (len(x_input),1))\n",
        "print(x_input.shape)\n",
        "# make numpy array into a tensorflow array\n",
        "x_input = tf.constant(x_input)\n",
        "print(x_input.shape)"
      ]
    },
    {
      "cell_type": "markdown",
      "metadata": {
        "id": "jOoL4ZPQUewp"
      },
      "source": [
        "Here is our data generated for $\\phi_0(x)$ and $\\alpha$ with the input of x_input as well as their plots.  "
      ]
    },
    {
      "cell_type": "code",
      "execution_count": 174,
      "metadata": {
        "colab": {
          "base_uri": "https://localhost:8080/"
        },
        "id": "3ItcOrOJUcDU",
        "outputId": "d8004078-c263-4bbb-e4d3-4c3e14b2131b"
      },
      "outputs": [
        {
          "output_type": "execute_result",
          "data": {
            "text/plain": [
              "TensorShape([1, 81])"
            ]
          },
          "metadata": {},
          "execution_count": 174
        }
      ],
      "source": [
        "phi_0(x_input).shape"
      ]
    },
    {
      "cell_type": "code",
      "execution_count": 175,
      "metadata": {
        "colab": {
          "base_uri": "https://localhost:8080/",
          "height": 490
        },
        "id": "LA_ktF7dUhpW",
        "outputId": "5502ab2c-a065-4de5-8810-fe8524733622"
      },
      "outputs": [
        {
          "output_type": "execute_result",
          "data": {
            "text/plain": [
              "Text(0, 0.5, 'phi_0')"
            ]
          },
          "metadata": {},
          "execution_count": 175
        },
        {
          "output_type": "display_data",
          "data": {
            "text/plain": [
              "<Figure size 640x480 with 1 Axes>"
            ],
            "image/png": "[encoded data removed]"
          },
          "metadata": {}
        }
      ],
      "source": [
        "plt.figure()\n",
        "plt.plot((x_input),tf.transpose(phi_0(x_input)))\n",
        "plt.title('Generated phi_0 function')\n",
        "plt.xlabel('x') #must use plt.xlable\n",
        "plt.ylabel('phi_0') #must use plt.ylable"
      ]
    },
    {
      "cell_type": "code",
      "execution_count": 176,
      "metadata": {
        "colab": {
          "base_uri": "https://localhost:8080/",
          "height": 490
        },
        "id": "-I2Sy5AjUj0A",
        "outputId": "a15ddf19-75bc-4ece-f1d7-b32ac6fa4134"
      },
      "outputs": [
        {
          "output_type": "execute_result",
          "data": {
            "text/plain": [
              "Text(0, 0.5, 'alpha')"
            ]
          },
          "metadata": {},
          "execution_count": 176
        },
        {
          "output_type": "display_data",
          "data": {
            "text/plain": [
              "<Figure size 640x480 with 1 Axes>"
            ],
            "image/png": "[encoded data removed]"
          },
          "metadata": {}
        }
      ],
      "source": [
        "plt.figure()\n",
        "plt.plot((x_input),tf.transpose(alpha(1, x_input)))\n",
        "plt.title('Generated alpha function')\n",
        "plt.xlabel('x')  #must use plt.xlable\n",
        "plt.ylabel('alpha') #must use plt.ylable"
      ]
    },
    {
      "cell_type": "code",
      "source": [
        "plt.figure()\n",
        "plt.plot((x_input),tf.transpose(alpha_gauss(1, x_input)))\n",
        "plt.title('Generated alpha_gauss function')\n",
        "plt.xlabel('x')  #must use plt.xlable\n",
        "plt.ylabel('alpha_gauss') #must use plt.ylable"
      ],
      "metadata": {
        "colab": {
          "base_uri": "https://localhost:8080/",
          "height": 490
        },
        "id": "xp-J8QxSf0P0",
        "outputId": "9c4cddfd-3cc1-45b5-d5f6-1bb22d19a4c7"
      },
      "execution_count": 177,
      "outputs": [
        {
          "output_type": "execute_result",
          "data": {
            "text/plain": [
              "Text(0, 0.5, 'alpha_gauss')"
            ]
          },
          "metadata": {},
          "execution_count": 177
        },
        {
          "output_type": "display_data",
          "data": {
            "text/plain": [
              "<Figure size 640x480 with 1 Axes>"
            ],
            "image/png": "[encoded data removed]"
          },
          "metadata": {}
        }
      ]
    },
    {
      "cell_type": "markdown",
      "metadata": {
        "id": "ylb6YEMdIurP"
      },
      "source": [
        "# creating the x_phi_1 trajectories from the generated alpha in order to get phi_1. sol_alpha.y's\n"
      ]
    },
    {
      "cell_type": "markdown",
      "metadata": {
        "id": "jf-D9urfUuvY"
      },
      "source": [
        "Generate Phi_1 using Phi_0 function and alpha function. Here we are using solve_ivp to go forwards to time 1.\n",
        "We have that $\\dot{x} = \\alpha(x)$, so that meanst that $\\int \\frac{dx}{dt} = \\int \\alpha(x) $ which we can estimate to:\n",
        "\n",
        "$$x(t_{k+1}) = x(t_{k}) + h_x * \\alpha(x(t_{k}))$$"
      ]
    },
    {
      "cell_type": "code",
      "execution_count": 178,
      "metadata": {
        "colab": {
          "base_uri": "https://localhost:8080/",
          "height": 430
        },
        "id": "sn1poj50jA3m",
        "outputId": "7e6df5ee-7bc5-45df-8ae1-74973c9bd393"
      },
      "outputs": [
        {
          "output_type": "display_data",
          "data": {
            "text/plain": [
              "<Figure size 640x480 with 1 Axes>"
            ],
            "image/png": "[encoded data removed]"
          },
          "metadata": {}
        }
      ],
      "source": [
        "#sol_alpha = solve_ivp(alpha,[0,1], np.reshape(x_input, len(x_input)), t_eval = t_list, vectorized = True)\n",
        "sol_alpha = solve_ivp(alph,[0,1], np.reshape(x_input, len(x_input)), t_eval = t_list, vectorized = True)\n",
        "#print(sol_test.y[:,-1])\n",
        "plt.figure()\n",
        "plt.plot(sol_alpha.y);"
      ]
    },
    {
      "cell_type": "code",
      "execution_count": 179,
      "metadata": {
        "colab": {
          "base_uri": "https://localhost:8080/"
        },
        "id": "hR4IQPgI_8Nb",
        "outputId": "2f6020f6-306d-4d12-898d-73ebaef92e4e"
      },
      "outputs": [
        {
          "output_type": "stream",
          "name": "stdout",
          "text": [
            "(81, 10)\n",
            "(81,)\n"
          ]
        }
      ],
      "source": [
        "print(sol_alpha.y.shape)\n",
        "#print(sol_test.y[:,9])\n",
        "print(sol_alpha.y[:,-1].shape)"
      ]
    },
    {
      "cell_type": "code",
      "execution_count": 180,
      "metadata": {
        "colab": {
          "base_uri": "https://localhost:8080/"
        },
        "id": "xrxKS5pqAkfT",
        "outputId": "81a8688e-d4b0-496b-9568-56df311779fd"
      },
      "outputs": [
        {
          "output_type": "stream",
          "name": "stdout",
          "text": [
            "(81, 1)\n",
            "(81, 1)\n"
          ]
        }
      ],
      "source": [
        "x_phi_1 = np.reshape(sol_alpha.y[:,-1], (len(x_input), 1))\n",
        "print(x_phi_1.shape)\n",
        "\n",
        "x_phi_1 = tf.constant(x_phi_1 )\n",
        "print(x_phi_1.shape)"
      ]
    },
    {
      "cell_type": "code",
      "execution_count": 181,
      "metadata": {
        "colab": {
          "base_uri": "https://localhost:8080/",
          "height": 447
        },
        "id": "qEe6PBWOrbAJ",
        "outputId": "794a8057-282a-4fa6-bc95-ad2f7b2304d8"
      },
      "outputs": [
        {
          "output_type": "display_data",
          "data": {
            "text/plain": [
              "<Figure size 1000x500 with 1 Axes>"
            ],
            "image/png": "[encoded data removed]"
          },
          "metadata": {}
        }
      ],
      "source": [
        "plt.figure(figsize=(10,5))\n",
        "plt.plot(x_input, np.transpose(phi_0(x_input)), label ='phi_0')\n",
        "plt.plot(x_phi_1, np.transpose(phi_0(x_input)), label = 'phi_1') # this is phi_1. its the new x_input after\n",
        "                                                                  # integration, then plot this agains\n",
        "                                                                  # phi_0 true values\n",
        "plt.legend(prop={'size':20});\n",
        "plt.show()"
      ]
    },
    {
      "cell_type": "markdown",
      "metadata": {
        "id": "lnyszufuivbY"
      },
      "source": [
        "# Make interplation function for phi_1"
      ]
    },
    {
      "cell_type": "code",
      "execution_count": 182,
      "metadata": {
        "colab": {
          "base_uri": "https://localhost:8080/"
        },
        "id": "zv-XGItF7pqt",
        "outputId": "d8b9063d-3bc5-44d9-8c89-43e74f7eb2d4"
      },
      "outputs": [
        {
          "output_type": "execute_result",
          "data": {
            "text/plain": [
              "tf.float64"
            ]
          },
          "metadata": {},
          "execution_count": 182
        }
      ],
      "source": [
        "phi_0_fixed = phi_0(x_input)\n",
        "phi_0_fixed.dtype"
      ]
    },
    {
      "cell_type": "code",
      "execution_count": 183,
      "metadata": {
        "id": "z7RmL4wH-OA0"
      },
      "outputs": [],
      "source": [
        "## tests\n",
        "#ones = tf.ones((1,10), dtype = tf.float64)\n",
        "#tf.matmul(x_phi_1, ones)"
      ]
    },
    {
      "cell_type": "code",
      "execution_count": 184,
      "metadata": {
        "id": "VdxMPsg9Bstf"
      },
      "outputs": [],
      "source": [
        "#diffOp = np.zeros((len(x_input) + 1, len(x_input)))\n",
        "#diffOp[1:-1, :-1] = np.eye(len(x_input)-1) #all but the last column\n",
        "#diffOp[1:-1, 1:] -= np.eye(len(x_input)-1) #all but the first column\n",
        "#diffOp[0, :-1] = diffOp[1, :-1] #first row into the zeroth rom\n",
        "#diffOp[-1, :] = diffOp[-2, :] # last row equals the second the last row in diffOp Added row on top and row on bot\n",
        "#print(diffOp) # differnce between each x if we mulipty this operator by x\n",
        "# equivalent to x[:-1] - x[1:] (what's below) where x is a column vector. It's like we\n",
        "# are shifting the column up and down and subtracting"
      ]
    },
    {
      "cell_type": "code",
      "execution_count": 185,
      "metadata": {
        "id": "6Cw1bU-B6v5M"
      },
      "outputs": [],
      "source": [
        "## create phi_1 function\n",
        "# use Relu to create hat functions\n",
        "# x_phi_1 as input, any x_phi _1 is zero\n",
        "\n",
        "def phi_1(x, x_phi_1 = x_phi_1, phi_0_fixed = phi_0_fixed):\n",
        "  '''\n",
        "  diffOp = np.zeros((len(x_input) + 1, len(x_input)))\n",
        "  diffOp[1:-1, :-1] = np.eye(len(x_input)-1) #all but the last column\n",
        "  diffOp[1:-1, 1:] -= np.eye(len(x_input)-1) #all but the first column\n",
        "  diffOp[0, :-1] = diffOp[1, :-1] #first row into the zeroth rom\n",
        "  diffOp[-1, :] = diffOp[-2, :] # last row equals the second the last row in diffOp Added row on top and row on bot\n",
        "  #print(diffOp) # differnce between each x if we mulipty this operator by x\n",
        "  # equivalent to x[:-1] - x[1:] (what's below) where x is a column vector. It's like we\n",
        "  # are shifting the column up and down and subtracting\n",
        "  diffOp = tf.constant(diffOp, dtype = tf.float64)\n",
        "  diffs = -tf.matmul(diffOp, x_phi_1)\n",
        "  print(diffs.shape)\n",
        "  '''\n",
        "  diff_01 = np.zeros((len(x_phi_1), 1)) # is going to have two h_0s to the top\n",
        "  diff_02 = np.zeros((len(x_phi_1), 1)) # is going to have h_ns to the bottom\n",
        "\n",
        "  diff_01[1:, :] = x_phi_1[1:,:] - x_phi_1[:-1,:] #first colum of diff_01 is the differene of the shifted x_phi_1 all but the first row\n",
        "  diff_01[0,0] = diff_01[1,0] # h_0, h_0, ..... h_n\n",
        "  #print(\"diff_01\")\n",
        "  #print(diff_01)\n",
        "\n",
        "  diff_02[:-1,:] = x_phi_1[1:,:] - x_phi_1[:-1,:] #:-1 is all but the last row.\n",
        "  diff_02[-1, 0] = diff_02[-2, 0] # h_0, h_1,....  h_n, h_n\n",
        "  #print(\"diff_02\")\n",
        "  #print(diff_02)\n",
        "\n",
        "  diff_01 = tf.constant(diff_01, dtype = tf.float64)\n",
        "  diff_02 = tf.constant(diff_02, dtype = tf.float64)\n",
        "\n",
        "  M_diff_01 = tf.matmul(tf.ones((len(x),1),dtype=tf.float64),tf.transpose(diff_01)) #cast across columns\n",
        "  M_diff_02 = tf.matmul(tf.ones((len(x),1),dtype=tf.float64),tf.transpose(diff_02)) #cast across columns\n",
        "  #print(\"M_diff_01\")\n",
        "  #print(M_diff_01)\n",
        "  #print(\"M_diff_02\")\n",
        "  #print(M_diff_02)\n",
        "  # outproduct\n",
        "  # broadcsting your x variable vector over the columns\n",
        "  # then subtracting broadcasting x_phi_1 by the rows\n",
        "  M = (tf.matmul(x, tf.ones((1, len(x_phi_1)), dtype = tf.float64)) - tf.matmul(tf.ones((len(x_phi_1),1), dtype = tf.float64),\n",
        "                                                                               tf.transpose(x_phi_1)))\n",
        "  #print(\"M\")\n",
        "  #print(M)\n",
        "\n",
        "  hat_M = (1/M_diff_01) * tf.nn.relu(M + M_diff_01) - (1/M_diff_01 + 1/M_diff_02) * tf.nn.relu(M) + (1/M_diff_02) * tf.nn.relu(M - M_diff_02)\n",
        "\n",
        "\n",
        "  #print(\"hat_M\")\n",
        "  #print(np.sum(hat_M,axis=1))\n",
        "  # use\n",
        "\n",
        "  return tf.matmul(hat_M, tf.transpose(phi_0_fixed))#h's in the picture victor drew, shoud be len(x_input) - 1 points. (distances bewteen points)\n"
      ]
    },
    {
      "cell_type": "code",
      "execution_count": 186,
      "metadata": {
        "colab": {
          "base_uri": "https://localhost:8080/"
        },
        "id": "Id5Wqo0E99aU",
        "outputId": "ada47eb8-2001-47cf-c7a2-06eeb919874b"
      },
      "outputs": [
        {
          "output_type": "stream",
          "name": "stdout",
          "text": [
            "(81, 1)\n"
          ]
        }
      ],
      "source": [
        "phi_vec = phi_1(x_input)\n",
        "print(phi_vec.shape)"
      ]
    },
    {
      "cell_type": "code",
      "execution_count": 187,
      "metadata": {
        "colab": {
          "base_uri": "https://localhost:8080/",
          "height": 350
        },
        "id": "f0igRroNGmgo",
        "outputId": "46a47364-f774-4526-c1a7-58f446071093"
      },
      "outputs": [
        {
          "output_type": "display_data",
          "data": {
            "text/plain": [
              "<Figure size 1600x500 with 1 Axes>"
            ],
            "image/png": "[encoded data removed]"
          },
          "metadata": {}
        }
      ],
      "source": [
        "plt.figure(figsize=(16,5))\n",
        "#plt.plot(x_input, np.transpose(phi_0(x_input)), label ='phi_0')\n",
        "plt.plot(x_phi_1, np.transpose(phi_0(x_input)), label = 'phi_1')\n",
        "plt.plot(x_input, phi_vec, label = \"phi_1 hat functions\")\n",
        "plt.legend(prop={'size':20});\n",
        "plt.show()"
      ]
    },
    {
      "cell_type": "markdown",
      "metadata": {
        "id": "Jq_Gxz51NLSO"
      },
      "source": [
        "#Gradient descent for $\\beta$.\n"
      ]
    },
    {
      "cell_type": "markdown",
      "metadata": {
        "id": "Nv0wxcw8qAkZ"
      },
      "source": [
        "We use this for our objective function gradient to solve for $\\beta$ using gradient descent. We use $\\gamma$ for our initial $\\alpha$ and we make an initial guess for $\\beta$.\n",
        "\\begin{align}\n",
        "    \\beta_{k+1} = \\beta_k - \\eta_k \\nabla_{\\beta} F(\\gamma,\\beta_k,\\lambda)\n",
        "\\end{align}"
      ]
    },
    {
      "cell_type": "markdown",
      "metadata": {
        "id": "j2l5L09qqQ3m"
      },
      "source": [
        "\\begin{align}\n",
        "       & \\nabla_{\\beta} F(\\gamma, \\beta, \\lambda) \\notag \\\\\n",
        "&= \\frac{1}{n}\\sum_{i=1}^n \\begin{bmatrix}\n",
        "    2 [\\phi_1(x_i(0) + [L^*\\beta]_i) - \\phi_0(x_i(0))] \\cdot [\\phi_1'(x_i(0) + [L^*\\beta]_i) ]\\cdot  [L_{i1}]  \\\\\n",
        "    2 [\\phi_1(x_i(0) + [L^*\\beta]_i) - \\phi_0(x_i(0))] \\cdot [\\phi_1'(x_i(0) + [L^*\\beta]_i) ]\\cdot  [L_{i2}]  \\\\\n",
        "        \\vdots \\\\\n",
        "    2 [\\phi_1(x_i(0) + [L^*\\beta]_i) - \\phi_0(x_i(0))] \\cdot [\\phi_1'(x_i(0) + [L^*\\beta]_i) ]\\cdot  [L_{in}]\n",
        "    \\end{bmatrix} + 2\\lambda L^*\\beta\n",
        "    \\end{align}\n",
        "Here we have that $x_i(0) \\in \\mathbb{R}$ where $i \\in \\lbrace 0, 1, \\cdots (n-1)\\rbrace$, $[L^*\\beta]_i \\in \\mathbb{R}$, $L^* \\in \\mathbb{R}^{n\\times n}$, $\\beta \\in \\mathbb{R}^{n}$."
      ]
    },
    {
      "cell_type": "markdown",
      "metadata": {
        "id": "W7HfbDBJqrgu"
      },
      "source": [
        "Our first\n",
        "$$x_i(0) + [L^*\\beta]_i = x_i(1) ≈ x_i(0) + \\int \\gamma(t) dt$$\n",
        "\n",
        "We estimated $x_i(1)$ by using an ODE solver. We used the ODE solver to get the intermediate $x_i(t)$ for $t = 0,1,....,p-1 $. So we computed $L^*$."
      ]
    },
    {
      "cell_type": "markdown",
      "metadata": {
        "id": "otJxe1wu1bVm"
      },
      "source": [
        "## Initialize $\\beta$"
      ]
    },
    {
      "cell_type": "code",
      "execution_count": 188,
      "metadata": {
        "colab": {
          "base_uri": "https://localhost:8080/"
        },
        "id": "6yevHI-70CJE",
        "outputId": "14d54da5-bebf-4d93-8fcd-4b1561808820"
      },
      "outputs": [
        {
          "output_type": "stream",
          "name": "stdout",
          "text": [
            "Beta_ini\n",
            "(81, 1)\n"
          ]
        }
      ],
      "source": [
        "# Generate random numbers from a standard normal distribution\n",
        "tf.random.set_seed(5);\n",
        "Beta_ini = tf.random.normal(shape=(len(x_input), 1), mean=0.0, stddev=1.0, dtype = tf.float64)\n",
        "\n",
        "#print(\"Beta_ini\")\n",
        "#print(Beta_ini.shape)\n",
        "\n",
        "# make Beta_ini as close to zero as possible\n",
        "\n",
        "#Beta_ini = tf.zeros(shape = (len(x_input),1), dtype = tf.float64)\n",
        "\n",
        "print(\"Beta_ini\")\n",
        "print(Beta_ini.shape)"
      ]
    },
    {
      "cell_type": "markdown",
      "metadata": {
        "id": "090vIU11GFR1"
      },
      "source": [
        "# Objection Function for gradient descent:\n",
        "Now compute everything for my objective function:\n",
        "$$ J(\\beta, \\lambda)  = \\frac{1}{n} \\sum_{i=1}^n [\\phi_1 \\bigg( x_i(0) + [L_x^*\\beta]_i \\bigg) - \\phi_0(x_i(0))]^2 + \\lambda \\beta^T L^* \\beta$$"
      ]
    },
    {
      "cell_type": "code",
      "execution_count": 189,
      "metadata": {
        "colab": {
          "base_uri": "https://localhost:8080/"
        },
        "id": "3apz63d3MAQ_",
        "outputId": "4774d63a-6943-4ca2-8b46-6d97b9f03407"
      },
      "outputs": [
        {
          "output_type": "stream",
          "name": "stdout",
          "text": [
            "(1, 81)\n"
          ]
        }
      ],
      "source": [
        "#lam = 1e-5 # will need to tune this\n",
        "phi_0_fixed = phi_0(x_input)\n",
        "print(phi_0_fixed.shape)"
      ]
    },
    {
      "cell_type": "code",
      "execution_count": 190,
      "metadata": {
        "colab": {
          "base_uri": "https://localhost:8080/"
        },
        "id": "94zzrt4YY_oZ",
        "outputId": "7a9c5d64-134b-4fb4-f7ea-69e39e51632e"
      },
      "outputs": [
        {
          "output_type": "stream",
          "name": "stdout",
          "text": [
            "(81, 1)\n",
            "(81, 1)\n",
            "(81, 1)\n"
          ]
        }
      ],
      "source": [
        "len(x_input)\n",
        "print(Beta_ini.shape)\n",
        "print(x_input.shape)\n",
        "print(phi_1(x_input).shape)"
      ]
    },
    {
      "cell_type": "code",
      "execution_count": 191,
      "metadata": {
        "id": "MSI9IbHhGAGf",
        "colab": {
          "base_uri": "https://localhost:8080/",
          "height": 178
        },
        "outputId": "52ce76df-2187-4977-f642-f173382460f9"
      },
      "outputs": [
        {
          "output_type": "execute_result",
          "data": {
            "text/plain": [
              "'\\ndef objective(Lstar, Beta_ini, lam, phi_0_fixed = phi_0_fixed, x_input = x_input):\\n  # L^* beta, this is a vector in R^n\\n  L_beta = tf.matmul(Lstar, Beta_ini)\\n  #print(f\"Shape of L_beta: {L_beta.shape} should be a column vector\")\\n\\n  # phi_1 with this x_input + L^* beta\\n  input_ini = x_input + L_beta\\n  #print(f\"input_ini shape: {input_ini.shape} should be colum vector\")\\n  #print(input_ini.shape)\\n\\n  # phi_1(x_i(0) + [L^*beta]_i), each i in the row vector\\n  # this is the interpolated phi_1 function\\n  phi_1_est = phi_1(input_ini)#phi_0(input_ini)\\n  #print(f\"phi_1_est shape {phi_1_est.shape} should be column vector\")\\n  #print(phi_1_est.shape)\\n\\n  # fixed phi_0(x_input) as a vector\\n  ###phi_0_fixed = phi_0(x_input)\\n  #print(phi_0_fixed.shape)\\n\\n  # take phi_1_est - phi_0_fixed then take square each component\\n  diff = (phi_1_est - tf.transpose(phi_0_fixed))**2\\n  #print(f\"diff should be a column vector {diff.shape} should be a column vector\")\\n  #print(diff.shape)\\n\\n  #now sum each component, diff is a column vector\\n  summ_1 = tf.reduce_sum(diff, axis = 0) # i don\\'t need axis = 0 for a column vector, but maybed later\\n                                          # for multidimensional inputs\\n  #print(f\"summ_1 should be a number {summ_1.shape}\")\\n  #print(f\"this is summ_1: {summ_1}\")\\n\\n  #\\\\lambda B^T L * B\\n  summ_2 = lam * tf.matmul(tf.transpose(Beta_ini), L_beta)\\n  #print(f\"summ_2 is lam*B^T L* B: {summ_2.shape}\")\\n  #print(f\"this is summ_2: {summ_2}\")\\n\\n  # objective\\n  Obj = ((1 / (len(x_input))) * summ_1) + summ_2\\n  #print(f\"objective should be a number {Obj.shape}\")\\n\\n  return Obj\\n\\n '"
            ],
            "application/vnd.google.colaboratory.intrinsic+json": {
              "type": "string"
            }
          },
          "metadata": {},
          "execution_count": 191
        }
      ],
      "source": [
        "'''\n",
        "def objective(Lstar, Beta_ini, lam, phi_0_fixed = phi_0_fixed, x_input = x_input):\n",
        "  # L^* beta, this is a vector in R^n\n",
        "  L_beta = tf.matmul(Lstar, Beta_ini)\n",
        "  #print(f\"Shape of L_beta: {L_beta.shape} should be a column vector\")\n",
        "\n",
        "  # phi_1 with this x_input + L^* beta\n",
        "  input_ini = x_input + L_beta\n",
        "  #print(f\"input_ini shape: {input_ini.shape} should be colum vector\")\n",
        "  #print(input_ini.shape)\n",
        "\n",
        "  # phi_1(x_i(0) + [L^*beta]_i), each i in the row vector\n",
        "  # this is the interpolated phi_1 function\n",
        "  phi_1_est = phi_1(input_ini)#phi_0(input_ini)\n",
        "  #print(f\"phi_1_est shape {phi_1_est.shape} should be column vector\")\n",
        "  #print(phi_1_est.shape)\n",
        "\n",
        "  # fixed phi_0(x_input) as a vector\n",
        "  ###phi_0_fixed = phi_0(x_input)\n",
        "  #print(phi_0_fixed.shape)\n",
        "\n",
        "  # take phi_1_est - phi_0_fixed then take square each component\n",
        "  diff = (phi_1_est - tf.transpose(phi_0_fixed))**2\n",
        "  #print(f\"diff should be a column vector {diff.shape} should be a column vector\")\n",
        "  #print(diff.shape)\n",
        "\n",
        "  #now sum each component, diff is a column vector\n",
        "  summ_1 = tf.reduce_sum(diff, axis = 0) # i don't need axis = 0 for a column vector, but maybed later\n",
        "                                          # for multidimensional inputs\n",
        "  #print(f\"summ_1 should be a number {summ_1.shape}\")\n",
        "  #print(f\"this is summ_1: {summ_1}\")\n",
        "\n",
        "  #\\lambda B^T L * B\n",
        "  summ_2 = lam * tf.matmul(tf.transpose(Beta_ini), L_beta)\n",
        "  #print(f\"summ_2 is lam*B^T L* B: {summ_2.shape}\")\n",
        "  #print(f\"this is summ_2: {summ_2}\")\n",
        "\n",
        "  # objective\n",
        "  Obj = ((1 / (len(x_input))) * summ_1) + summ_2\n",
        "  #print(f\"objective should be a number {Obj.shape}\")\n",
        "\n",
        "  return Obj\n",
        "\n",
        " '''"
      ]
    },
    {
      "cell_type": "markdown",
      "source": [
        "$$ J(\\beta, \\lambda)  = \\frac{1}{n} \\sum_{i=1}^n [\\phi_1 \\bigg( x_i(0) + [L_x^*\\beta]_i \\bigg) - \\phi_0(x_i(0))]^2 + \\lambda \\beta^T L^* \\beta$$"
      ],
      "metadata": {
        "id": "GjcQUTMQTXRH"
      }
    },
    {
      "cell_type": "code",
      "source": [
        "L_x = Gamma(1/(num-1), np.reshape(x_input, (len(x_input))), y = sol_alpha.y, N = num, kern = k9v)\n",
        "print(L_x.shape)"
      ],
      "metadata": {
        "colab": {
          "base_uri": "https://localhost:8080/"
        },
        "id": "Mqhjx5pvS_mK",
        "outputId": "e0745f34-a3ca-452b-bd6b-d41d954eb746"
      },
      "execution_count": 192,
      "outputs": [
        {
          "output_type": "stream",
          "name": "stdout",
          "text": [
            "(81, 81)\n"
          ]
        }
      ]
    },
    {
      "cell_type": "code",
      "source": [
        "def objective(L_int, Lstar, Beta_ini, lam, phi_0_fixed = phi_0_fixed, x_input = x_input):\n",
        "  # L^* beta, this is a vector in R^n\n",
        "  L_beta = tf.matmul(L_int, Beta_ini)\n",
        "  #print(f\"Shape of L_beta: {L_beta.shape} should be a column vector\")\n",
        "\n",
        "  # phi_1 with this x_input + L^* beta\n",
        "  input_ini = x_input + L_beta\n",
        "  #print(f\"input_ini shape: {input_ini.shape} should be colum vector\")\n",
        "  #print(input_ini.shape)\n",
        "\n",
        "  # phi_1(x_i(0) + [L^*beta]_i), each i in the row vector\n",
        "  # this is the interpolated phi_1 function\n",
        "  phi_1_est = phi_1(input_ini)#phi_0(input_ini)\n",
        "  #print(f\"phi_1_est shape {phi_1_est.shape} should be column vector\")\n",
        "  #print(phi_1_est.shape)\n",
        "\n",
        "  # fixed phi_0(x_input) as a vector\n",
        "  ###phi_0_fixed = phi_0(x_input)\n",
        "  #print(phi_0_fixed.shape)\n",
        "\n",
        "  # take phi_1_est - phi_0_fixed then take square each component\n",
        "  diff = (phi_1_est - tf.transpose(phi_0_fixed))**2\n",
        "  #print(f\"diff should be a column vector {diff.shape} should be a column vector\")\n",
        "  #print(diff.shape)\n",
        "\n",
        "  #now sum each component, diff is a column vector\n",
        "  summ_1 = tf.reduce_sum(diff, axis = 0) # i don't need axis = 0 for a column vector, but maybed later\n",
        "                                          # for multidimensional inputs\n",
        "  #print(f\"summ_1 should be a number {summ_1.shape}\")\n",
        "  #print(f\"this is summ_1: {summ_1}\")\n",
        "\n",
        "  #\\lambda B^T L * B\n",
        "  #summ_2 = np.matmul(np.transpose(Beta_ini),np.matmul(Lstar, Beta_ini))\n",
        "\n",
        "\n",
        "  #\\lambda B^T L * B\n",
        "  L = tf.matmul(Lstar, Beta_ini)\n",
        "  summ_2 = lam * tf.matmul(tf.transpose(Beta_ini), L)\n",
        "  #print(f\"summ_2 is lam*B^T L* B: {summ_2.shape}\")\n",
        "  #print(f\"this is summ_2: {summ_2}\")\n",
        "\n",
        "  # objective\n",
        "  Obj = ((1 / (len(x_input))) * summ_1) + summ_2\n",
        "  #print(f\"objective should be a number {Obj.shape}\")\n",
        "\n",
        "  return Obj"
      ],
      "metadata": {
        "id": "xOjVj11KSroU"
      },
      "execution_count": 193,
      "outputs": []
    },
    {
      "cell_type": "code",
      "source": [
        "L_test = con(1/(num-1), sol_alpha.y, num, k9v)\n",
        "print(L_test.shape)"
      ],
      "metadata": {
        "colab": {
          "base_uri": "https://localhost:8080/"
        },
        "id": "6UT2D9i8A8kV",
        "outputId": "65ed501f-7bd3-4d6a-e5cd-90f293afee5c"
      },
      "execution_count": 194,
      "outputs": [
        {
          "output_type": "stream",
          "name": "stdout",
          "text": [
            "(81, 81)\n"
          ]
        }
      ]
    },
    {
      "cell_type": "code",
      "execution_count": 195,
      "metadata": {
        "colab": {
          "base_uri": "https://localhost:8080/"
        },
        "id": "TWWCYVnWPL2m",
        "outputId": "ec67dcde-d9f1-4625-aef5-c8a40a5c01a1"
      },
      "outputs": [
        {
          "output_type": "execute_result",
          "data": {
            "text/plain": [
              "<tf.Tensor: shape=(1, 1), dtype=float64, numpy=array([[6.17094095]])>"
            ]
          },
          "metadata": {},
          "execution_count": 195
        }
      ],
      "source": [
        "objective(L_x, L_test, Beta_ini, 1e-4)"
      ]
    },
    {
      "cell_type": "markdown",
      "metadata": {
        "id": "BjBa6ml95z_a"
      },
      "source": [
        "# Creating finite dimensional to learn $\\alpha(x)$"
      ]
    },
    {
      "cell_type": "markdown",
      "metadata": {
        "id": "5ehXHT67ccsf"
      },
      "source": [
        "Now to create new alpha function with this new beta. I will then need to do ODE solver."
      ]
    },
    {
      "cell_type": "code",
      "execution_count": 196,
      "metadata": {
        "colab": {
          "base_uri": "https://localhost:8080/"
        },
        "id": "DonWKB0ig4Yy",
        "outputId": "6cf9efb1-9c0a-4154-c6aa-9f3ddd65633d"
      },
      "outputs": [
        {
          "output_type": "stream",
          "name": "stdout",
          "text": [
            "0.01\n",
            "10\n",
            "0.1\n",
            "0.1111111111111111\n",
            "(81, 10)\n",
            "(81, 1)\n"
          ]
        }
      ],
      "source": [
        "print(h_x)\n",
        "print(num)\n",
        "print(1/num)\n",
        "print(1/(num-1))\n",
        "print(sol_alpha.y.shape)\n",
        "print(Beta_ini.shape)"
      ]
    },
    {
      "cell_type": "code",
      "execution_count": 197,
      "metadata": {
        "colab": {
          "base_uri": "https://localhost:8080/"
        },
        "id": "-k25iraihkbz",
        "outputId": "f9d8e7dc-3718-4e38-ff2f-ef1097fc4e5f"
      },
      "outputs": [
        {
          "output_type": "stream",
          "name": "stdout",
          "text": [
            "(81, 1)\n",
            "(10,)\n"
          ]
        }
      ],
      "source": [
        "print(x_input.shape)\n",
        "x_test = np.arange(0, 1, step =0.1)\n",
        "print(x_test.shape)"
      ]
    },
    {
      "cell_type": "code",
      "execution_count": 198,
      "metadata": {
        "colab": {
          "base_uri": "https://localhost:8080/"
        },
        "id": "PmutCDW0hM8S",
        "outputId": "39d05121-a00c-4365-8184-aa5df127ba17"
      },
      "outputs": [
        {
          "output_type": "stream",
          "name": "stdout",
          "text": [
            "(10, 81)\n"
          ]
        }
      ],
      "source": [
        "## def Gamma(H, U, y, N): #N is num, y is sol.y, U is the open varialbe, H is h or 1/p\n",
        "#print(Gamma(1/(num-1), x_test, sol.y, num)), or is h = 1/num?  why 1 / (num-1)\n",
        "# because h = (b-a)/p. But p is x_0,x_1,...,x_p.  num is p + 1\n",
        "# alos x_test is the input to the function, num is how many trajectoires and how many\n",
        "# sumnands we have\n",
        "print(Gamma(1/(num-1), x_test, sol_alpha.y, num, k9v).shape)"
      ]
    },
    {
      "cell_type": "code",
      "execution_count": 199,
      "metadata": {
        "colab": {
          "base_uri": "https://localhost:8080/"
        },
        "id": "E0LTWiin3J_q",
        "outputId": "6df994f7-50cf-478f-8011-e0f47e803c83"
      },
      "outputs": [
        {
          "output_type": "execute_result",
          "data": {
            "text/plain": [
              "array([[3.36601864],\n",
              "       [3.5540373 ],\n",
              "       [3.61308848],\n",
              "       [3.52806274],\n",
              "       [3.29718904],\n",
              "       [2.93446971],\n",
              "       [2.46974043],\n",
              "       [1.94553931],\n",
              "       [1.41085494],\n",
              "       [0.91295302]])"
            ]
          },
          "metadata": {},
          "execution_count": 199
        }
      ],
      "source": [
        "np.dot(Gamma(1/(num-1), x_test, sol_alpha.y, num, k9v), Beta_ini)"
      ]
    },
    {
      "cell_type": "code",
      "execution_count": 200,
      "metadata": {
        "colab": {
          "base_uri": "https://localhost:8080/"
        },
        "id": "IU4xuQd_yTYr",
        "outputId": "ddeceda8-e202-4e8f-f1ae-aadc1818cef3"
      },
      "outputs": [
        {
          "output_type": "stream",
          "name": "stdout",
          "text": [
            "0.1111111111111111\n"
          ]
        }
      ],
      "source": [
        "print(1/(num-1))"
      ]
    },
    {
      "cell_type": "code",
      "execution_count": 201,
      "metadata": {
        "id": "Wb5KN1zpcKgH"
      },
      "outputs": [],
      "source": [
        "def new_a(u, y, kern = k9v, num = num, h=(1/(num-1)), Beta_ini = Beta_ini):\n",
        "  return np.dot(Gamma(1/(num-1), u, y, num, kern), Beta_ini)"
      ]
    },
    {
      "cell_type": "code",
      "execution_count": 202,
      "metadata": {
        "colab": {
          "base_uri": "https://localhost:8080/"
        },
        "id": "lhS_P-iEcKRd",
        "outputId": "ebd62d68-18f4-40f5-c688-4548c10aacea"
      },
      "outputs": [
        {
          "output_type": "execute_result",
          "data": {
            "text/plain": [
              "array([[3.36601864],\n",
              "       [3.5540373 ],\n",
              "       [3.61308848],\n",
              "       [3.52806274],\n",
              "       [3.29718904],\n",
              "       [2.93446971],\n",
              "       [2.46974043],\n",
              "       [1.94553931],\n",
              "       [1.41085494],\n",
              "       [0.91295302]])"
            ]
          },
          "metadata": {},
          "execution_count": 202
        }
      ],
      "source": [
        "new_a(x_test, sol_alpha.y)"
      ]
    },
    {
      "cell_type": "code",
      "execution_count": 203,
      "metadata": {
        "id": "Ck6LvFMd8ocY"
      },
      "outputs": [],
      "source": [
        "def new_alpha(t, u, kern, y, num, beta, h = (1/(num-1))):\n",
        "  return np.dot(Gamma(h, u, y, num, kern), beta)"
      ]
    },
    {
      "cell_type": "code",
      "execution_count": 204,
      "metadata": {
        "id": "FGU3-1C2CKHs"
      },
      "outputs": [],
      "source": [
        "first_iter = new_alpha(1, np.reshape(x_input,(len(x_input))), k9v, sol_alpha.y, num, Beta_ini)"
      ]
    },
    {
      "cell_type": "code",
      "execution_count": 205,
      "metadata": {
        "colab": {
          "base_uri": "https://localhost:8080/",
          "height": 448
        },
        "id": "dRmzpfCtQ73V",
        "outputId": "cc5b7f29-8dde-4a6d-9445-033b9baff20b"
      },
      "outputs": [
        {
          "output_type": "stream",
          "name": "stdout",
          "text": [
            "(1, 81)\n"
          ]
        },
        {
          "output_type": "display_data",
          "data": {
            "text/plain": [
              "<Figure size 640x480 with 1 Axes>"
            ],
            "image/png": "[encoded data removed]"
          },
          "metadata": {}
        }
      ],
      "source": [
        "plt.plot(x_input, first_iter, label = 'first iter of alpha')\n",
        "plt.plot(x_input, np.transpose(alph(1, x_input)), label = 'true alpha')\n",
        "print(alph(1, x_input).shape)\n",
        "plt.legend();"
      ]
    },
    {
      "cell_type": "markdown",
      "metadata": {
        "id": "SuqMt6IY8Z2H"
      },
      "source": [
        "I will need to make my function with a t in it in order to use the ODE integrator"
      ]
    },
    {
      "cell_type": "markdown",
      "metadata": {
        "id": "MEIMKu_n6ZwE"
      },
      "source": [
        "# Make ODE for $\\alpha$"
      ]
    },
    {
      "cell_type": "markdown",
      "metadata": {
        "id": "HZs-KqR_KaCi"
      },
      "source": [
        "For the ODE solver remember that the initial condition must be (n,) shape and since my output of the new_alpha can be a vector, I must put the variable vectorized = True.\n",
        "\n",
        "Additionally, I did a test with a function new_a_2. Here we could use alpha and put arguments in the ODE function.  "
      ]
    },
    {
      "cell_type": "code",
      "execution_count": 206,
      "metadata": {
        "id": "aHHMMPBALGWJ"
      },
      "outputs": [],
      "source": [
        "# projection kernel, k8v\n",
        "sol_alpha_test = solve_ivp(new_alpha,[0,1],np.reshape(x_test, len(x_test)),\n",
        "                           t_eval=t_list, vectorized = True,\n",
        "                           args=(k8v, sol_alpha.y, num, Beta_ini))"
      ]
    },
    {
      "cell_type": "code",
      "execution_count": 207,
      "metadata": {
        "colab": {
          "base_uri": "https://localhost:8080/"
        },
        "id": "YhFVWeYwLPZI",
        "outputId": "d0c9302f-e5ea-4a9e-a765-31bf18a9dcf3"
      },
      "outputs": [
        {
          "output_type": "execute_result",
          "data": {
            "text/plain": [
              "(10, 10)"
            ]
          },
          "metadata": {},
          "execution_count": 207
        }
      ],
      "source": [
        "sol_alpha_test.y.shape"
      ]
    },
    {
      "cell_type": "code",
      "execution_count": 208,
      "metadata": {
        "id": "Dc-q92w06ZGy"
      },
      "outputs": [],
      "source": [
        "# new alpha using guassian kernel, k9v\n",
        "sol_alpha_test_guass = solve_ivp(new_alpha,[0,1],np.reshape(x_test, len(x_test)),\n",
        "                                t_eval=t_list, vectorized = True,\n",
        "                                args=(k9v, sol_alpha.y, num, Beta_ini))\n"
      ]
    },
    {
      "cell_type": "code",
      "execution_count": 209,
      "metadata": {
        "colab": {
          "base_uri": "https://localhost:8080/"
        },
        "id": "IF6j_UebE4rW",
        "outputId": "474b6de2-032f-4f48-cade-6915071f5388"
      },
      "outputs": [
        {
          "output_type": "execute_result",
          "data": {
            "text/plain": [
              "(10, 10)"
            ]
          },
          "metadata": {},
          "execution_count": 209
        }
      ],
      "source": [
        "sol_alpha_test_guass.y.shape"
      ]
    },
    {
      "cell_type": "markdown",
      "metadata": {
        "id": "_IUWe4HLSWsw"
      },
      "source": [
        "# Make while loop.\n"
      ]
    },
    {
      "cell_type": "markdown",
      "metadata": {
        "id": "ZEX4JKrAKU80"
      },
      "source": [
        "## testing gradient descent"
      ]
    },
    {
      "cell_type": "markdown",
      "source": [
        "\\begin{align}\n",
        "    \\beta_{k+1} = \\beta_k - \\eta_k \\nabla_{\\beta} F(\\gamma,\\beta_k,\\lambda)\n",
        "\\end{align}"
      ],
      "metadata": {
        "id": "CZ13R2qmGOx7"
      }
    },
    {
      "cell_type": "code",
      "execution_count": 210,
      "metadata": {
        "colab": {
          "base_uri": "https://localhost:8080/"
        },
        "id": "oUdxhOfoJp0i",
        "outputId": "96b24702-0644-4629-aa32-745b3dfb1df4"
      },
      "outputs": [
        {
          "output_type": "stream",
          "name": "stdout",
          "text": [
            "0\n",
            "tf.Tensor([[6.17094095]], shape=(1, 1), dtype=float64)\n",
            "1\n",
            "tf.Tensor([[6.17093837]], shape=(1, 1), dtype=float64)\n",
            "2\n",
            "tf.Tensor([[6.17093579]], shape=(1, 1), dtype=float64)\n",
            "3\n",
            "tf.Tensor([[6.17093322]], shape=(1, 1), dtype=float64)\n",
            "4\n",
            "tf.Tensor([[6.17093066]], shape=(1, 1), dtype=float64)\n",
            "5\n",
            "tf.Tensor([[6.17092811]], shape=(1, 1), dtype=float64)\n",
            "6\n",
            "tf.Tensor([[6.17092556]], shape=(1, 1), dtype=float64)\n",
            "7\n",
            "tf.Tensor([[6.17092302]], shape=(1, 1), dtype=float64)\n",
            "8\n",
            "tf.Tensor([[6.17092048]], shape=(1, 1), dtype=float64)\n",
            "9\n",
            "tf.Tensor([[6.17091795]], shape=(1, 1), dtype=float64)\n"
          ]
        }
      ],
      "source": [
        "eta = 1e-1\n",
        "LAM = 1e-4 #lambs[lambda_index] #1e-6\n",
        "Beta = Beta_ini\n",
        "#Sol.y = sol.y\n",
        "LINT = L_x\n",
        "LSTAR = L_test\n",
        "\n",
        "#def objective(L_star, Beta_ini, lam, phi_0_fixed = phi_0_fixed, x_input = x_input):\n",
        "\n",
        "for i in range(10):\n",
        "\n",
        "\n",
        "  Beta = tf.Variable(Beta)\n",
        "  #print(Beta)\n",
        "  with tf.GradientTape() as tape:\n",
        "      tape.watch(Beta)\n",
        "      obj = objective(LINT, LSTAR, Beta, LAM)\n",
        "  if  i % 1 == 0:\n",
        "    print(i)\n",
        "    print(obj)\n",
        "    #print(beta_grad)\n",
        "    #print(eta)\n",
        "    #print(Beta)\n",
        "\n",
        "  beta_grad = tape.gradient(obj, Beta) # this is taking the gradient\n",
        "\n",
        "  Beta = Beta - eta * beta_grad   # gradient desecnt"
      ]
    },
    {
      "cell_type": "code",
      "execution_count": 211,
      "metadata": {
        "colab": {
          "base_uri": "https://localhost:8080/"
        },
        "id": "BUrHzNEtTxMH",
        "outputId": "fa4173c2-dbc9-456f-c2f2-a1c658d16528"
      },
      "outputs": [
        {
          "output_type": "stream",
          "name": "stdout",
          "text": [
            "0\n",
            "tf.Tensor([[6.17094095]], shape=(1, 1), dtype=float64)\n",
            "10\n",
            "tf.Tensor([[6.17091542]], shape=(1, 1), dtype=float64)\n",
            "20\n",
            "tf.Tensor([[6.17089053]], shape=(1, 1), dtype=float64)\n",
            "30\n",
            "tf.Tensor([[6.17086625]], shape=(1, 1), dtype=float64)\n",
            "40\n",
            "tf.Tensor([[6.17084256]], shape=(1, 1), dtype=float64)\n",
            "50\n",
            "tf.Tensor([[6.17081946]], shape=(1, 1), dtype=float64)\n",
            "60\n",
            "tf.Tensor([[6.17079692]], shape=(1, 1), dtype=float64)\n",
            "70\n",
            "tf.Tensor([[6.17077493]], shape=(1, 1), dtype=float64)\n",
            "80\n",
            "tf.Tensor([[6.17075347]], shape=(1, 1), dtype=float64)\n",
            "90\n",
            "tf.Tensor([[6.17073254]], shape=(1, 1), dtype=float64)\n"
          ]
        }
      ],
      "source": [
        "\n",
        "# I used this to help me start my while loop\n",
        "for i in range(100):\n",
        "\n",
        "\n",
        "  Beta_ini = tf.Variable(Beta_ini)\n",
        "  with tf.GradientTape() as tape:\n",
        "      tape.watch(Beta_ini)\n",
        "      obj = objective(L_x, L_test, Beta_ini, 1e-4)\n",
        "  if  i % 10 == 0:\n",
        "    print(i)\n",
        "    print(obj)\n",
        "\n",
        "  beta_grad = tape.gradient(obj, Beta_ini) # this is taking the gradient\n",
        "\n",
        "  Beta_ini = Beta_ini - eta * beta_grad   # gradient desecnt\n"
      ]
    },
    {
      "cell_type": "markdown",
      "metadata": {
        "id": "6izR4121SHQW"
      },
      "source": [
        "## While loop"
      ]
    },
    {
      "cell_type": "markdown",
      "metadata": {
        "id": "0NOhG7hoP4Fj"
      },
      "source": [
        "At this point I have:\n",
        "\n",
        "1.   I have x_input\n",
        "2.   I have phi_0_fixed = phi_0(x_input)\n",
        "3.   Gradient descent working\n",
        "\n",
        "\n",
        "\n"
      ]
    },
    {
      "cell_type": "code",
      "execution_count": 212,
      "metadata": {
        "id": "Ll5pJ-zlE7h1"
      },
      "outputs": [],
      "source": [
        "## generate a function that checks my objective function is decreasing\n",
        "#1. i need to store the function outputs\n",
        "#2. compare the one from the other.\n",
        "#3. returen False or Ture\n",
        "#4. remember to put this in to while loop after i have two things\n",
        "# in the list to actually compare\n",
        "\n",
        "def decreasing(results):\n",
        "  for i in range(1, len(results)):\n",
        "      if results[i] > results[i - 1]:\n",
        "        return False, print(f\"The obj values started Increasing at index {i}: {results[i-1]} -> {results[i]}\")\n",
        "\n",
        "\n",
        "  return True, print('The obj function is NOT increasing')\n",
        "\n"
      ]
    },
    {
      "cell_type": "code",
      "execution_count": 213,
      "metadata": {
        "colab": {
          "base_uri": "https://localhost:8080/"
        },
        "id": "1QaVFvwRK4VG",
        "outputId": "a210dad7-9d8f-4838-b844-e8126ff5bc1c"
      },
      "outputs": [
        {
          "output_type": "stream",
          "name": "stdout",
          "text": [
            "The obj function is NOT increasing\n"
          ]
        },
        {
          "output_type": "execute_result",
          "data": {
            "text/plain": [
              "(True, None)"
            ]
          },
          "metadata": {},
          "execution_count": 213
        }
      ],
      "source": [
        "# Example usage:\n",
        "my_list = [5, 4, 3, 2, 1, 1]\n",
        "\n",
        "decreasing(my_list)\n",
        "#    print(\"The items in the list are decreasing.\")\n",
        "#else:\n",
        "#    print(\"The items in the list are not decreasing.\")"
      ]
    },
    {
      "cell_type": "code",
      "execution_count": 214,
      "metadata": {
        "colab": {
          "base_uri": "https://localhost:8080/",
          "height": 178
        },
        "id": "tpsr8mtuavem",
        "outputId": "b032ce72-193d-4fd7-c324-a7cd4145cb37"
      },
      "outputs": [
        {
          "output_type": "execute_result",
          "data": {
            "text/plain": [
              "'\\n  # test out original alpha\\n  #sol = solve_ivp(alpha,[0,1], np.reshape(x_input, len(x_input)), t_eval = t_list, vectorized = True)\\n\\n  #Make new L_star with ODE solver data\\n  LSTAR = con(h_x, sol.y, num, k8v)\\n\\n\\n  #if mm % 50 == 0:\\n  obj_2 = objective(LSTAR, Beta, LAM)\\n  obj_2 = obj_2.numpy() #make obj into a numpy\\n  OBJ_2.append(float(obj_2)) #make numpy into a float\\n\\n  var_2 += 1\\n  if var_2 % 10 == 0:\\n    print(f\"Here is the obj value for LSTAR: {obj_2}\")\\n    print(\"Is LSTAR obj decrease?\")\\n    print(decreasing(OBJ_2))\\n    if decreasing(OBJ_2)[0] == False:\\n      print(f\"This is the iteration where we stopped: {mm}\")\\n      cond = False\\n\\n  #print(f\"LSTAR change objective: {OBJ_2}\")\\n  #print(f\"LSTAR obj: {float(obj_2)}\")\\n  # after gradient descent we should still decrease objective\\n  # compare to the last gradeint desecent objective print\\n  # compare the LSTAR\\n  # plot this\\n  #print(obj)\\n\\n  if mm == 10:\\n    print(mm)\\n    print(f\"Here is the objective function results at the end {objective(LSTAR, Beta, LAM)}\")\\n    cond = False # stop algorithm\\n\\nplt.plot(x_input, np.transpose(alpha(1, x_input)), label = \\'alpha original\\')\\nplt.legend()\\nprint(obj)\\net = time.time()\\ntotal_time = et - st\\nprint(total_time)\\n#print(\"GD obj list: \")\\n#print(decreasing(OBJ))\\n#print(\"LSTAR obj list:\")\\n#print(decreasing(OBJ_2))\\n'"
            ],
            "application/vnd.google.colaboratory.intrinsic+json": {
              "type": "string"
            }
          },
          "metadata": {},
          "execution_count": 214
        }
      ],
      "source": [
        "'''#simple but working\n",
        "#get start time\n",
        "eta = ((2**5)/(2**0)) * 1e-3 #(2**5) * 1e-3\n",
        "print(f\"This is the first eta: {eta}\")\n",
        "st = time.time()\n",
        "mm = 0 # not zero since beta_ini is zero vector at virst\n",
        "        # we can't divide by zero\n",
        "var = 0\n",
        "var_2 = 0\n",
        "LAM = (10**0) * 1e-6 #lambs[lambda_index] #1e-6\n",
        "Beta = Beta_ini\n",
        "#sol = sol_1.y\n",
        "LSTAR =  Lsk_0\n",
        "OBJ = [] #put the results in this list to compare the elements for GD\n",
        "OBJ_2 = [] #lstar obj restulst\n",
        "\n",
        "##initialize the firts sol.y\n",
        "sol = solve_ivp(f,[0,1],np.reshape(x_input,len(x_input)),t_eval=t_list)\n",
        "##initial the first sol_alpha.y's with true trajecotires.\n",
        "#sol = solve_ivp(alpha,[0,1], np.reshape(x_input, len(x_input)), t_eval = t_list, vectorized = True)\n",
        "\n",
        "# measuring error\n",
        "beta_vector = np.zeros((len(x_input),600))\n",
        "beta_vector[:,0:1] = Beta  #put beta in first column\n",
        "diff_beta = np.zeros(100)\n",
        "diff = np.zeros(600)\n",
        "plt.figure(figsize=(16,5))\n",
        "\n",
        "cond = True\n",
        "cond_2 = True\n",
        "\n",
        "while(cond):\n",
        "\n",
        "  mm += 1\n",
        "  #print(mm)\n",
        "\n",
        "  # Gradient Desecent\n",
        "  for i in range(3):\n",
        "  #while(cond_2):\n",
        "\n",
        "    Beta = tf.Variable(Beta)\n",
        "    with tf.GradientTape() as tape:\n",
        "        tape.watch(Beta)\n",
        "        obj = objective(LSTAR, Beta, LAM)\n",
        "        obj_1 = obj.numpy() #make obj into a numpy\n",
        "        OBJ.append(float(obj_1)) #make numpy into a float\n",
        "\n",
        "\n",
        "    # Check the modulo condition\n",
        "    var += 1\n",
        "    if var % 10 == 0:\n",
        "        #print(var)\n",
        "        print(f\"Here is the obj value for GD: {obj}\")\n",
        "        print(\"Is GD obj decrease?\")\n",
        "        print(decreasing(OBJ))\n",
        "\n",
        "        if decreasing(OBJ)[0] == False:\n",
        "          print(f\"This is the iteration where we stopped: {mm}\")\n",
        "          cond = False #stop algorithm\n",
        "        #print(\"This is the value I'm looking for:\" , {diff[mm]})\n",
        "\n",
        "    # Increment the value\n",
        "    #var += 1\n",
        "'''\n",
        "'''\n",
        "    if  i % 50 == 0:\n",
        "      print(i)\n",
        "      print(obj)\n",
        "'''\n",
        "\n",
        "\n",
        "'''\n",
        "    beta_grad = tape.gradient(obj, Beta) # this is taking the gradient\n",
        "    print(np.sum(beta_grad**2))\n",
        "\n",
        "    Beta = Beta - eta * beta_grad   # gradient desecn\n",
        "\n",
        "    #print(f\"GD Obj values: {OBJ}\")\n",
        "    #print(f\"GD obj: {float(obj_1)}\")\n",
        "    # error\n",
        "    beta_vector[:,mm:mm+1] = Beta\n",
        "\n",
        "    if mm >= 2: # after 2 since beta = 0 at the first iteration, we need the second and third composnents.\n",
        "      # check for convergence, using relative error\n",
        "      #diff_beta[mm] = np.linalg.norm(beta_vector[:,mm-1:mm] - beta_vector[:,mm:mm+1]) / np.linalg.norm(beta_vector[:,mm-1:mm])\n",
        "      #print(diff_beta[mm])\n",
        "      #if diff_beta[mm] < 1e-2:\n",
        "      #  print(diff_beta[mm])\n",
        "      #  cond_2 = False\n",
        "      #  break\n",
        "\n",
        "      diff[mm] = np.sqrt( ((beta_vector[:,mm:mm+1] - beta_vector[:,mm-1:mm]).T @ LSTAR @\n",
        "                                                    (beta_vector[:,mm:mm+1] - beta_vector[:,mm-1:mm])\n",
        "                                                    ) / (beta_vector[:,mm-1:mm].T @ L_star\n",
        "                                                         @ beta_vector[:,mm-1:mm] )\n",
        "                                                      )\n",
        "      #print(\"This should be the same: \", {diff[mm]})\n",
        "\n",
        "\n",
        "    #if mm % 4 == 0:  #if m modulo constant occurs, print m\n",
        "    #    rem = mm\n",
        "    #    print('Iteration count: ' +str(rem))\n",
        "    #    print('Convergence using norm of RKHS at '+str(rem) +'iterations: ' +str(diff[mm]))\n",
        "    #    print('Beta norm error: '+str(diff[mm]))\n",
        "'''\n",
        "'''  if diff[mm] < 0.01:\n",
        "        print('This is the norm difference of the RKHS norm: ', {diff[mm]})\n",
        "          #print('Iteration count: ' +str(mm))\n",
        "          #print('Convergence using norm of RKHS at '+str(mm) +'iterations: ' +str(diff[mm]))\n",
        "          #print('Beta norm error: '+str(diff[mm]))\n",
        "        cond_2 = False\n",
        "\n",
        "\n",
        "'''\n",
        "\n",
        "'''\n",
        "\n",
        "  # ODEvsolver. Put arguments for sol.y and num in here\n",
        "  #'''\n",
        "'''\n",
        "  if mm == 25:\n",
        "    print('Here is were we change the eta, i think we need an epoch loop')\n",
        "    print(mm)\n",
        "'''\n",
        "'''\n",
        "  sol = solve_ivp(new_alpha,[0,1],np.reshape(x_input,len(x_input)),\n",
        "                  t_eval=t_list,\n",
        "                  vectorized = True,\n",
        "                  args=(k8v, sol.y, num, Beta))\n",
        "\n",
        "  plt.plot(x_input, new_alpha(1, np.reshape(x_input,(len(x_input))),\n",
        "                            k8v,\n",
        "                            y = sol.y,\n",
        "                            num = num,\n",
        "                            beta= Beta))#, label = 'new_a')\n",
        "  #'''\n",
        "'''\n",
        "  # test out original alpha\n",
        "  #sol = solve_ivp(alpha,[0,1], np.reshape(x_input, len(x_input)), t_eval = t_list, vectorized = True)\n",
        "\n",
        "  #Make new L_star with ODE solver data\n",
        "  LSTAR = con(h_x, sol.y, num, k8v)\n",
        "\n",
        "\n",
        "  #if mm % 50 == 0:\n",
        "  obj_2 = objective(LSTAR, Beta, LAM)\n",
        "  obj_2 = obj_2.numpy() #make obj into a numpy\n",
        "  OBJ_2.append(float(obj_2)) #make numpy into a float\n",
        "\n",
        "  var_2 += 1\n",
        "  if var_2 % 10 == 0:\n",
        "    print(f\"Here is the obj value for LSTAR: {obj_2}\")\n",
        "    print(\"Is LSTAR obj decrease?\")\n",
        "    print(decreasing(OBJ_2))\n",
        "    if decreasing(OBJ_2)[0] == False:\n",
        "      print(f\"This is the iteration where we stopped: {mm}\")\n",
        "      cond = False\n",
        "\n",
        "  #print(f\"LSTAR change objective: {OBJ_2}\")\n",
        "  #print(f\"LSTAR obj: {float(obj_2)}\")\n",
        "  # after gradient descent we should still decrease objective\n",
        "  # compare to the last gradeint desecent objective print\n",
        "  # compare the LSTAR\n",
        "  # plot this\n",
        "  #print(obj)\n",
        "\n",
        "  if mm == 10:\n",
        "    print(mm)\n",
        "    print(f\"Here is the objective function results at the end {objective(LSTAR, Beta, LAM)}\")\n",
        "    cond = False # stop algorithm\n",
        "\n",
        "plt.plot(x_input, np.transpose(alpha(1, x_input)), label = 'alpha original')\n",
        "plt.legend()\n",
        "print(obj)\n",
        "et = time.time()\n",
        "total_time = et - st\n",
        "print(total_time)\n",
        "#print(\"GD obj list: \")\n",
        "#print(decreasing(OBJ))\n",
        "#print(\"LSTAR obj list:\")\n",
        "#print(decreasing(OBJ_2))\n",
        "'''\n"
      ]
    },
    {
      "cell_type": "markdown",
      "metadata": {
        "id": "z4FEpdhszNUk"
      },
      "source": [
        "## Find a close $\\beta$:"
      ]
    },
    {
      "cell_type": "markdown",
      "metadata": {
        "id": "fStcFNRc7-Bi"
      },
      "source": [
        "Obtain true trajectories for true $\\alpha(x)$. I did this by conducting sol_ivp for $\\alpha$, then using my integral function called Gamma. Gamma outputs an $(n \\times m$) matrix.  One column for each m input (each x input we provide gives a new vector)."
      ]
    },
    {
      "cell_type": "markdown",
      "metadata": {
        "id": "TRQkW-kO8ogx"
      },
      "source": [
        "Create $\\alpha(x)$. Below is our quadrature for $\\alpha$. Again $p$ is the number of intermediate trajectories we choose and $h = 1/(p-1)$.  Recall $\\alpha(x) = \\sum_{k=1}^n \\beta_k L^*_{x_{k}}(x)$, where $L^*_{x_{k}}(x) = \\int K(x, x_k(s))dt$.\n",
        "\\begin{align}\n",
        "    &\\int_0^1  K(x, x_k(s)) ds \\notag \\\\\n",
        "    &\\approx \\frac{h}{2} K(x, x_k(s_0)) + h  \\sum_{i=1}^{p-1} K(x, x_k(s_i)) + \\frac{h}{2}  K(x, x_k(s_p))\n",
        "\\end{align}\n",
        "We use the trapezoid composite rule where $k \\in \\lbrace 1, \\dots, n\\rbrace$ and $i \\in \\lbrace 0,\\dots, p-1 \\rbrace$ for our function $\\alpha$.\n",
        "\n",
        "If dim$(x) = m$ or $(m,1)$,  $L^*_{x}(x) \\in m \\times n$."
      ]
    },
    {
      "cell_type": "markdown",
      "source": [
        "I created the alpha function using the projection kernel, alpha, and I created a alpha_gauss function uisng the guassian kernel. I created vector from .1 to .9 with increments of .01. My condition number is way smaller thatn e+31, but it is still quite large. e+18."
      ],
      "metadata": {
        "id": "t2XcuizwhfHF"
      }
    },
    {
      "cell_type": "code",
      "execution_count": 215,
      "metadata": {
        "colab": {
          "base_uri": "https://localhost:8080/"
        },
        "id": "hy8yAd6EFBOr",
        "outputId": "e069795c-83c2-49e8-b0dd-56a3816e34fe"
      },
      "outputs": [
        {
          "output_type": "stream",
          "name": "stdout",
          "text": [
            "(81, 10)\n",
            "(81, 81)\n",
            "9.478071246185677e+18\n"
          ]
        }
      ],
      "source": [
        "# alph can be changed to alpha guassian or alpha using projection kernel\n",
        "# now it is projection\n",
        "sol = solve_ivp(alph,[0,1], np.reshape(x_input, len(x_input)), t_eval = t_list, vectorized = True)\n",
        "\n",
        "\n",
        "L_x = Gamma(1/(num-1), np.reshape(x_input, (len(x_input))), y = sol.y, N = num, kern = k9v)\n",
        "print(sol.y.shape)\n",
        "print(L_x.shape)\n",
        "print(np.linalg.cond(L_x))"
      ]
    },
    {
      "cell_type": "markdown",
      "metadata": {
        "id": "MX7EmCjBECzz"
      },
      "source": [
        "Here is my true alpha vector with input of $x\\_input$. This is a $(101 \\times 1)$ vector. I am solving:\n",
        "\n",
        "\\begin{align*}\n",
        " \\alpha(x(0)) & = L^*_x(x(0)) \\beta\\\\\n",
        " \\Rightarrow  & L^*_x(x(0))^{-1} \\alpha(x(0)) = \\beta\n",
        " \\end{align*}\n",
        "\n",
        " I calculated a $beta$ by np.linalg.solve(L_x,alpha_0)."
      ]
    },
    {
      "cell_type": "code",
      "execution_count": 216,
      "metadata": {
        "colab": {
          "base_uri": "https://localhost:8080/"
        },
        "id": "raWaUTim5SGs",
        "outputId": "095b87e7-5b9b-43b7-e444-770260811bf7"
      },
      "outputs": [
        {
          "output_type": "stream",
          "name": "stdout",
          "text": [
            "(81, 1)\n"
          ]
        }
      ],
      "source": [
        "#alpha_0 = alpha(1, x_input) #x_input is x(0)\n",
        "alpha_0 = alph(1, x_input)\n",
        "alpha_0 = alpha_0.numpy()\n",
        "print(alpha_0.T.shape)\n",
        "#L_x_inv = np.linalg.inv(L_x)\n",
        "#print(np.linalg.cond(L_x))\n",
        "#beta_star_1 = L_x_inv @ alpha_0.T"
      ]
    },
    {
      "cell_type": "code",
      "execution_count": 217,
      "metadata": {
        "id": "bx_pn8NmzO7u"
      },
      "outputs": [],
      "source": [
        "beta_star = np.linalg.solve(L_x, alpha_0.T)"
      ]
    },
    {
      "cell_type": "code",
      "source": [
        "np.linalg.norm(L_x @ beta_star - alpha_0.T)/np.linalg.norm(alpha_0.T)"
      ],
      "metadata": {
        "colab": {
          "base_uri": "https://localhost:8080/"
        },
        "id": "CJm8uHlW-xDK",
        "outputId": "31708921-152f-4cf1-999e-f49914d653a3"
      },
      "execution_count": 218,
      "outputs": [
        {
          "output_type": "execute_result",
          "data": {
            "text/plain": [
              "2.62176904423878e-07"
            ]
          },
          "metadata": {},
          "execution_count": 218
        }
      ]
    },
    {
      "cell_type": "code",
      "source": [
        "eig, eigvec = np.linalg.eig(L_x)\n"
      ],
      "metadata": {
        "id": "evq_aDBsCThA"
      },
      "execution_count": 219,
      "outputs": []
    },
    {
      "cell_type": "markdown",
      "source": [
        "# condition number of L_x"
      ],
      "metadata": {
        "id": "PyLqyTeHA1R0"
      }
    },
    {
      "cell_type": "code",
      "source": [
        "print(np.linalg.cond(L_x))"
      ],
      "metadata": {
        "colab": {
          "base_uri": "https://localhost:8080/"
        },
        "id": "K8QofjWczUhH",
        "outputId": "93e5d193-8405-4cb3-e197-016c56412c31"
      },
      "execution_count": 220,
      "outputs": [
        {
          "output_type": "stream",
          "name": "stdout",
          "text": [
            "9.478071246185677e+18\n"
          ]
        }
      ]
    },
    {
      "cell_type": "code",
      "source": [
        "#print(eig)"
      ],
      "metadata": {
        "id": "lOMoS9jyCeFr"
      },
      "execution_count": 221,
      "outputs": []
    },
    {
      "cell_type": "code",
      "execution_count": 222,
      "metadata": {
        "id": "UHK2lanhzkV-"
      },
      "outputs": [],
      "source": [
        "# input beta_star into new_alpha\n",
        "# k9v instead of k8v (GUASSIAN kerne using randome fourier features)\n",
        "newalpha_0 = new_alpha(1, np.reshape(x_input,(len(x_input))),\n",
        "                       kern = k9v,\n",
        "                       y = sol.y,\n",
        "                       num = num,\n",
        "                       beta = beta_star)\n",
        "#def new_alpha(t, u, kern, y, num, beta, h = (1/(num-1)))"
      ]
    },
    {
      "cell_type": "code",
      "execution_count": 223,
      "metadata": {
        "colab": {
          "base_uri": "https://localhost:8080/",
          "height": 430
        },
        "id": "Z005pEED2d9R",
        "outputId": "4200d68d-2f7e-470d-d25e-d7b8897d39ca"
      },
      "outputs": [
        {
          "output_type": "display_data",
          "data": {
            "text/plain": [
              "<Figure size 640x480 with 1 Axes>"
            ],
            "image/png": "[encoded data removed]"
          },
          "metadata": {}
        }
      ],
      "source": [
        "plt.plot(alpha_0.T, label = 'alpha true')\n",
        "plt.plot(newalpha_0, label = 'new alpha with true beta');\n",
        "plt.legend();\n",
        "#'''"
      ]
    },
    {
      "cell_type": "markdown",
      "metadata": {
        "id": "1JDW0YJG_OVq"
      },
      "source": [
        "## Testing objection function\n",
        "Now, let's consider the objective function and see if $[\\phi_1 \\bigg( x_i(0) + [L^*\\beta]_i \\bigg) - \\phi_0(x_i(0))]$ is close to zero.\n",
        "$$ J(\\beta, \\lambda)  = \\frac{1}{n} \\sum_{i=1}^n [\\phi_1 \\bigg( x_i(0) + [L^*\\beta]_i \\bigg) - \\phi_0(x_i(0))]^2 + \\lambda \\beta^T L^* \\beta$$"
      ]
    },
    {
      "cell_type": "code",
      "source": [
        "def is_symmetric(matrix):\n",
        "    # Check if the matrix is equal to its transpose\n",
        "    return np.allclose(matrix, matrix.T)"
      ],
      "metadata": {
        "id": "nXWEyZ6vQvg6"
      },
      "execution_count": 224,
      "outputs": []
    },
    {
      "cell_type": "code",
      "source": [
        "LSTAR = con(1/(num-1), y = sol.y, num = num, kern = k9v)"
      ],
      "metadata": {
        "id": "JPsbWtHgQw2y"
      },
      "execution_count": 225,
      "outputs": []
    },
    {
      "cell_type": "code",
      "source": [
        "is_symmetric(LSTAR)"
      ],
      "metadata": {
        "colab": {
          "base_uri": "https://localhost:8080/"
        },
        "id": "lpacVjfmQznM",
        "outputId": "eeb93b0b-fd6a-4163-fd87-f438e5be3f49"
      },
      "execution_count": 226,
      "outputs": [
        {
          "output_type": "execute_result",
          "data": {
            "text/plain": [
              "True"
            ]
          },
          "metadata": {},
          "execution_count": 226
        }
      ]
    },
    {
      "cell_type": "code",
      "source": [
        "a = tf.constant([1, 2, 3, 4, 5, 6, 2, 1, 6], shape=[3, 3])\n",
        "print(a)  # 2-D tensor\n",
        "\n",
        "\n",
        "\n",
        "b = tf.constant([1, 2, 1], shape=[3, 1])\n",
        "print(b)  # 2-D tensor\n",
        "\n",
        "\n",
        "d = tf.constant([2,1,3], shape = [3,1])\n",
        "print(d)\n",
        "\n",
        "c = tf.matmul(d, tf.matmul(a, b), transpose_a = True)\n",
        "print(c)  # `a` * `b`\n",
        "\n",
        "e = tf.matmul((tf.matmul(d, a, transpose_a = True)), b)\n",
        "print(e)\n"
      ],
      "metadata": {
        "colab": {
          "base_uri": "https://localhost:8080/"
        },
        "id": "dbSW3s5RVYEI",
        "outputId": "2765b08d-cfd5-4329-856b-c4ee0d207670"
      },
      "execution_count": 227,
      "outputs": [
        {
          "output_type": "stream",
          "name": "stdout",
          "text": [
            "tf.Tensor(\n",
            "[[1 2 3]\n",
            " [4 5 6]\n",
            " [2 1 6]], shape=(3, 3), dtype=int32)\n",
            "tf.Tensor(\n",
            "[[1]\n",
            " [2]\n",
            " [1]], shape=(3, 1), dtype=int32)\n",
            "tf.Tensor(\n",
            "[[2]\n",
            " [1]\n",
            " [3]], shape=(3, 1), dtype=int32)\n",
            "tf.Tensor([[66]], shape=(1, 1), dtype=int32)\n",
            "tf.Tensor([[66]], shape=(1, 1), dtype=int32)\n"
          ]
        }
      ]
    },
    {
      "cell_type": "code",
      "source": [
        "print(tf.is_tensor(beta_star))\n",
        "print(tf.is_tensor(LSTAR))"
      ],
      "metadata": {
        "colab": {
          "base_uri": "https://localhost:8080/"
        },
        "id": "CNeYGXlFiwns",
        "outputId": "03ef240a-7056-4a97-e056-9033dbb40643"
      },
      "execution_count": 228,
      "outputs": [
        {
          "output_type": "stream",
          "name": "stdout",
          "text": [
            "False\n",
            "False\n"
          ]
        }
      ]
    },
    {
      "cell_type": "code",
      "source": [
        "print(np.matmul(np.transpose(beta_star),np.matmul(LSTAR, beta_star)))\n",
        "#print(tf.transpose(beta_star))\n",
        "#print(beta_star)\n",
        "aa = np.matmul(LSTAR, beta_star)\n",
        "bb = np.matmul(np.transpose(beta_star), aa)\n",
        "print(bb)"
      ],
      "metadata": {
        "colab": {
          "base_uri": "https://localhost:8080/"
        },
        "id": "VAtw_cY7Yqlt",
        "outputId": "49e5cdba-5e94-49c6-80d5-b99069c401e2"
      },
      "execution_count": 229,
      "outputs": [
        {
          "output_type": "stream",
          "name": "stdout",
          "text": [
            "[[0.06313702]]\n",
            "[[0.06313702]]\n"
          ]
        }
      ]
    },
    {
      "cell_type": "code",
      "source": [
        "print(np.matmul(np.matmul(np.transpose(beta_star), LSTAR), beta_star))\n",
        "#print(np.matmul(LSTAR, beta_star))\n",
        "print(np.matmul(np.transpose(beta_star), np.matmul(LSTAR, beta_star)))"
      ],
      "metadata": {
        "colab": {
          "base_uri": "https://localhost:8080/"
        },
        "id": "4Uay10T_fS_7",
        "outputId": "0b404972-b1d5-42a1-a12e-9950b62e7b8e"
      },
      "execution_count": 230,
      "outputs": [
        {
          "output_type": "stream",
          "name": "stdout",
          "text": [
            "[[0.03092218]]\n",
            "[[0.06313702]]\n"
          ]
        }
      ]
    },
    {
      "cell_type": "code",
      "source": [
        "tf.eye(len(x_input))"
      ],
      "metadata": {
        "colab": {
          "base_uri": "https://localhost:8080/"
        },
        "id": "669VaqCweGmn",
        "outputId": "cc077a74-d841-4ff5-fbea-b545922626b8"
      },
      "execution_count": 231,
      "outputs": [
        {
          "output_type": "execute_result",
          "data": {
            "text/plain": [
              "<tf.Tensor: shape=(81, 81), dtype=float32, numpy=\n",
              "array([[1., 0., 0., ..., 0., 0., 0.],\n",
              "       [0., 1., 0., ..., 0., 0., 0.],\n",
              "       [0., 0., 1., ..., 0., 0., 0.],\n",
              "       ...,\n",
              "       [0., 0., 0., ..., 1., 0., 0.],\n",
              "       [0., 0., 0., ..., 0., 1., 0.],\n",
              "       [0., 0., 0., ..., 0., 0., 1.]], dtype=float32)>"
            ]
          },
          "metadata": {},
          "execution_count": 231
        }
      ]
    },
    {
      "cell_type": "code",
      "source": [
        "T = tf.matmul(beta_star, tf.matmul(tf.eye(len(x_input),dtype=tf.dtypes.float64), beta_star), transpose_a = True)\n",
        "print(T)\n",
        "T_t = tf.matmul(tf.matmul(beta_star, tf.eye(len(x_input),dtype=tf.dtypes.float64), transpose_a = True), beta_star)\n",
        "print(T_t)"
      ],
      "metadata": {
        "colab": {
          "base_uri": "https://localhost:8080/"
        },
        "id": "faKWMTOrdxxO",
        "outputId": "0004170c-863f-4210-a44b-7a8fde0ef745"
      },
      "execution_count": 232,
      "outputs": [
        {
          "output_type": "stream",
          "name": "stdout",
          "text": [
            "tf.Tensor([[1.56350731e+14]], shape=(1, 1), dtype=float64)\n",
            "tf.Tensor([[1.56350731e+14]], shape=(1, 1), dtype=float64)\n"
          ]
        }
      ]
    },
    {
      "cell_type": "code",
      "source": [
        "T = tf.matmul(beta_star, tf.matmul(LSTAR, beta_star), transpose_a = True)\n",
        "print(T)\n",
        "T_t = tf.matmul(tf.matmul(beta_star, LSTAR, transpose_a = True), beta_star)\n",
        "print(T_t)"
      ],
      "metadata": {
        "colab": {
          "base_uri": "https://localhost:8080/"
        },
        "id": "63fwrzt_gkzv",
        "outputId": "5550acba-b057-447a-cbd2-fe3878272b4a"
      },
      "execution_count": 233,
      "outputs": [
        {
          "output_type": "stream",
          "name": "stdout",
          "text": [
            "tf.Tensor([[0.06712213]], shape=(1, 1), dtype=float64)\n",
            "tf.Tensor([[0.01243121]], shape=(1, 1), dtype=float64)\n"
          ]
        }
      ]
    },
    {
      "cell_type": "code",
      "source": [
        "LB = tf.matmul(beta_star, (tf.matmul(LSTAR, beta_star)), transpose_a = True)\n",
        "#BLB = tf.matmul(beta_star, LB, transpose_a = True)\n",
        "print(LB)"
      ],
      "metadata": {
        "colab": {
          "base_uri": "https://localhost:8080/"
        },
        "id": "XkQmI06NXJGo",
        "outputId": "e6664e18-40a2-4f9c-affe-32f69210056c"
      },
      "execution_count": 234,
      "outputs": [
        {
          "output_type": "stream",
          "name": "stdout",
          "text": [
            "tf.Tensor([[0.06712213]], shape=(1, 1), dtype=float64)\n"
          ]
        }
      ]
    },
    {
      "cell_type": "code",
      "source": [
        "#Test out objective function\n",
        "########\n",
        "BTL = tf.matmul(tf.matmul(beta_star, LSTAR, transpose_a = True), beta_star)\n",
        "#BTLB = tf.matmul(BTL, beta_star)\n",
        "print(BTL)"
      ],
      "metadata": {
        "colab": {
          "base_uri": "https://localhost:8080/"
        },
        "id": "XfKw50-QQ93w",
        "outputId": "c8f85c28-bfed-4753-f9f8-e4fb6143592c"
      },
      "execution_count": 235,
      "outputs": [
        {
          "output_type": "stream",
          "name": "stdout",
          "text": [
            "tf.Tensor([[0.01243121]], shape=(1, 1), dtype=float64)\n"
          ]
        }
      ]
    },
    {
      "cell_type": "code",
      "execution_count": 236,
      "metadata": {
        "colab": {
          "base_uri": "https://localhost:8080/",
          "height": 552
        },
        "id": "HGiOAow7_NFe",
        "outputId": "1ec6a446-d372-4e2d-ccac-9a18b3647742"
      },
      "outputs": [
        {
          "output_type": "stream",
          "name": "stdout",
          "text": [
            "this is from the objective function with beta_star: [[0.00015966]]\n",
            "[[6.31370203e-06]]\n",
            "(81, 1)\n",
            "error norm: 0.5060031629542544\n",
            "loss function test: [[1.57966098]]\n",
            "loss function with beta_star_2: f[[0.00015966]]\n"
          ]
        },
        {
          "output_type": "display_data",
          "data": {
            "text/plain": [
              "<Figure size 1000x500 with 1 Axes>"
            ],
            "image/png": "[encoded data removed]"
          },
          "metadata": {}
        }
      ],
      "source": [
        "# let's look at objective function with TRUE trajectories:\n",
        "# Our goal is to show that phi_1(x(1)) ~ phi_0(X(0)), i.e. our outputs should\n",
        "# equal for phi_1 and phi_0. Using our objection function, I calculted phi_1(x(0) + LB). This\n",
        "# should be very close to phi_0(X(0)).\n",
        "\n",
        "\n",
        "LAM = 10**2 * 1e-6\n",
        "\n",
        "# theta3 is used for alpha.\n",
        "# solve.y uses our true x trajectoires\n",
        "# this LSTAR uses true x trajectories to solve for obj function\n",
        "# use k9v\n",
        "LSTAR = con(1/(num-1), y = sol.y, num = num, kern = k9v)\n",
        "#print(LSTAR)\n",
        "print(f\"this is from the objective function with beta_star: {objective(L_x, LSTAR, beta_star, LAM)}\")\n",
        "\n",
        "########\n",
        "#Test out objective function\n",
        "########\n",
        "#LB = tf.matmul(LSTAR, beta_star) #Beta_ini)\n",
        "#print(LB)\n",
        "#print(LB.shape)\n",
        "#BTLB = tf.matmul(tf.transpose(beta_star), LB) #tf.matmul(tf.transpose(Beta_ini), LB)\n",
        "BTLB = np.matmul(np.transpose(beta_star),np.matmul(LSTAR, beta_star))\n",
        "print(LAM * BTLB)\n",
        "\n",
        "############\n",
        "input = x_input + LB\n",
        "print(input.shape)\n",
        "phi_1_est = phi_1(input)\n",
        "error = (phi_1_est - tf.transpose(phi_0_fixed))**2\n",
        "print(f'error norm: {np.linalg.norm(phi_1_est - tf.transpose(phi_0_fixed))/np.linalg.norm(tf.transpose(phi_0_fixed))}')\n",
        "summ_1 = tf.reduce_sum(error, axis = 0)\n",
        "loss_test = ((1 / (len(x_input)) ) * summ_1) + LAM * BTLB\n",
        "print(f'loss function test: {loss_test}')\n",
        "print(f'loss function with beta_star_2: f{objective(L_x, LSTAR, beta_star, LAM)}')\n",
        "\n",
        "plt.figure(figsize=(10,5))\n",
        "#plt.plot(solve.y[:,-1], np.transpose(phi_0(x_input)), label = 'phi_1_original')\n",
        "\n",
        "# these values should be close, regardless of what they are being plotted against.\n",
        "plt.plot(x_input, phi_1_est, label = 'should be close phi_0');\n",
        "plt.plot(x_input, np.transpose(phi_0(x_input)), label ='phi_0_original')\n",
        "\n",
        "\n",
        "plt.legend();"
      ]
    },
    {
      "cell_type": "code",
      "execution_count": 237,
      "metadata": {
        "colab": {
          "base_uri": "https://localhost:8080/",
          "height": 431
        },
        "id": "f00lOvJSAnC2",
        "outputId": "2fa33ed0-ca58-463f-89e1-e57d267a3d80"
      },
      "outputs": [
        {
          "output_type": "display_data",
          "data": {
            "text/plain": [
              "<Figure size 640x480 with 1 Axes>"
            ],
            "image/png": "[encoded data removed]"
          },
          "metadata": {}
        }
      ],
      "source": [
        "plt.plot(input) #input = x(0) + LB_i\n",
        "plt.plot(sol.y[:,-1]);"
      ]
    },
    {
      "cell_type": "markdown",
      "metadata": {
        "id": "NDJ8nhYsN_DM"
      },
      "source": [
        "## While loop testing => use this for close $\\beta$"
      ]
    },
    {
      "cell_type": "code",
      "execution_count": 238,
      "metadata": {
        "colab": {
          "base_uri": "https://localhost:8080/",
          "height": 268
        },
        "id": "pbcsPosMOuAb",
        "outputId": "2ce4dc74-8a8d-4510-972a-fd17b755876b"
      },
      "outputs": [
        {
          "output_type": "error",
          "ename": "TypeError",
          "evalue": "ignored",
          "traceback": [
            "\u001b[0;31m---------------------------------------------------------------------------\u001b[0m",
            "\u001b[0;31mTypeError\u001b[0m                                 Traceback (most recent call last)",
            "\u001b[0;32m<ipython-input-238-815ffd998709>\u001b[0m in \u001b[0;36m<cell line: 36>\u001b[0;34m()\u001b[0m\n\u001b[1;32m     61\u001b[0m       \u001b[0;31m#print(\"Is GD obj decrease?\")\u001b[0m\u001b[0;34m\u001b[0m\u001b[0;34m\u001b[0m\u001b[0m\n\u001b[1;32m     62\u001b[0m       \u001b[0;31m#print(decreasing(OBJ))\u001b[0m\u001b[0;34m\u001b[0m\u001b[0;34m\u001b[0m\u001b[0m\n\u001b[0;32m---> 63\u001b[0;31m           \u001b[0mobj\u001b[0m \u001b[0;34m=\u001b[0m \u001b[0mobjective\u001b[0m\u001b[0;34m(\u001b[0m\u001b[0mLSTAR\u001b[0m\u001b[0;34m,\u001b[0m \u001b[0mBeta\u001b[0m\u001b[0;34m,\u001b[0m \u001b[0mLAM\u001b[0m\u001b[0;34m)\u001b[0m\u001b[0;34m\u001b[0m\u001b[0;34m\u001b[0m\u001b[0m\n\u001b[0m\u001b[1;32m     64\u001b[0m           \u001b[0mprint\u001b[0m\u001b[0;34m(\u001b[0m\u001b[0;34mf\"obj_old with Beta: {obj}\"\u001b[0m\u001b[0;34m)\u001b[0m\u001b[0;34m\u001b[0m\u001b[0;34m\u001b[0m\u001b[0m\n\u001b[1;32m     65\u001b[0m           \u001b[0;31m#print(f\"This is gradient {i}th iteration obj_old: {obj}\")\u001b[0m\u001b[0;34m\u001b[0m\u001b[0;34m\u001b[0m\u001b[0m\n",
            "\u001b[0;31mTypeError\u001b[0m: objective() missing 1 required positional argument: 'lam'"
          ]
        },
        {
          "output_type": "display_data",
          "data": {
            "text/plain": [
              "<Figure size 1600x500 with 0 Axes>"
            ]
          },
          "metadata": {}
        }
      ],
      "source": [
        "#TEST\n",
        "#get start time\n",
        "#eta = ((2**5)/(2**1)) * 1e-3 #(2**5) * 1e-3\n",
        "#print(f\"This is the first eta: {eta}\")\n",
        "st = time.time()\n",
        "mm = 0 # not zero since beta_ini is zero vector at virst\n",
        "        # we can't divide by zero\n",
        "var = 0\n",
        "var_2 = 0\n",
        "LAM = (10**0) * 1e-6 #lambs[lambda_index] #1e-6\n",
        "Beta = beta_star #Beta_ini\n",
        "#sol = sol_1.y\n",
        "#LSTAR = Lsk_alpha #Lsk_alpha# Lsk_alpha is with true trajectories, Lsk_0\n",
        "OBJ = [] #put the results in this list to compare the elements for GD\n",
        "OBJ_2 = [] #lstar obj restulst\n",
        "\n",
        "#initialize the firts sol.y\n",
        "#sol = solve_ivp(f,[0,1],np.reshape(x_input,len(x_input)),t_eval=t_list)\n",
        "##initial the first sol_alpha.y's with true trajecotires.\n",
        "# sol = solve_ivp(alpha,[0,1], np.reshape(x_input, len(x_input)), t_eval = t_list, vectorized = True)\n",
        "sol = solve_ivp(alph,[0,1], np.reshape(x_input, len(x_input)), t_eval = t_list, vectorized = True)\n",
        "# k9v\n",
        "\n",
        "LSTAR = con(1/(num-1), y = sol.y, num = num, kern = k9v)\n",
        "\n",
        "# measuring error\n",
        "beta_vector = np.zeros((len(x_input),600))\n",
        "beta_vector[:,0:1] = Beta  #put beta in first column\n",
        "diff_beta = np.zeros(100)\n",
        "diff = np.zeros(600)\n",
        "plt.figure(figsize=(16,5))\n",
        "\n",
        "cond = True\n",
        "cond_2 = True\n",
        "\n",
        "while(cond):\n",
        "\n",
        "\n",
        "    mm += 1\n",
        "    #print(mm)\n",
        "\n",
        "    # Gradient Desecent\n",
        "    for i in range(1):\n",
        "    #while(cond_2):\n",
        "      eta = 1 / (2**10)#2.5 * (1e-4)#3**1 * 1e-2 #.01\n",
        "      #sol_alpha = solve_ivp(alpha,[0,1], np.reshape(x_input, len(x_input)), t_eval = t_list, vectorized = True)\n",
        "      #Lsk_alpha = con(h_x, sol_alpha.y, num, k8v) #Lsk_alpha is with true trajectories,\n",
        "      ##print(f\"eta initialized {eta}\")\n",
        "\n",
        "      Beta = tf.Variable(Beta)\n",
        "      with tf.GradientTape() as tape:\n",
        "          tape.watch(Beta)\n",
        "          #print(Beta)\n",
        "\n",
        "\n",
        "      # Check the modulo condition\n",
        "      #var += 1\n",
        "      #if var % 10 == 0:\n",
        "          #print(var)\n",
        "          #print(f\"Here is the obj value for GD: {obj}\")\n",
        "      #print(\"Is GD obj decrease?\")\n",
        "      #print(decreasing(OBJ))\n",
        "          obj = objective(LSTAR, Beta, LAM)\n",
        "          print(f\"obj_old with Beta: {obj}\")\n",
        "          #print(f\"This is gradient {i}th iteration obj_old: {obj}\")\n",
        "\n",
        "\n",
        "      beta_grad = tape.gradient(obj, Beta) # this is taking the gradient\n",
        "      #print(np.linalg.norm(beta_grad))\n",
        "      #print(beta_grad)\n",
        "      #print(np.sum(beta_grad**2))\n",
        "\n",
        "      Beta = Beta - eta * (beta_grad / np.linalg.norm(beta_grad)) # gradient desecn\n",
        "      #Beta = Beta - eta * beta_grad\n",
        "\n",
        "      #obj_1 = obj.numpy()  #make obj into a numpy\n",
        "      #obj_old = np.copy(obj_1) #-1\n",
        "      #make new obj\n",
        "      #obj_new = objective(LSTAR, Beta, LAM)\n",
        "      #print(f\"obj_new with Beta after GD: {obj_new}\")\n",
        "\n",
        "      '''\n",
        "      #kamel's test\n",
        "      obj_1 = obj.numpy()  #make obj into a numpy\n",
        "      obj_old = np.copy(obj_1) - 1\n",
        "      #OBJ.append(float(obj_1)) #make numpy into a float\n",
        "      '''\n",
        "      '''\n",
        "      #if decreasing(OBJ)[0] == False:\n",
        "      while obj_new > obj_old: #obj_1 > obj_old:\n",
        "        print(\"obj is increasing\")\n",
        "        #obj_old = np.copy(obj_1)\n",
        "\n",
        "        print(f\"GD: This is the iteration where it increased: {mm}, {obj_new} > {obj_old}\")\n",
        "        #print(f\"GD: print the var variable {var}\")\n",
        "        #cond = False #stop algorithm\n",
        "        eta = eta / 2\n",
        "        print(f\"Eta changed: {eta}\")\n",
        "        Beta = Beta - eta *  (beta_grad / np.linalg.norm(beta_grad))\n",
        "        #Beta = Beta - eta * beta_grad\n",
        "        obj_new = objective(LSTAR, Beta, LAM)\n",
        "        #obj_1 = obj.numpy() #make obj into a numpy\n",
        "        #obj_old = np.copy(obj_1)\n",
        "        # do GD\n",
        "      '''\n",
        "        #then recheck that decreasing(OBJ)[0] == True\n",
        "            #print(f\"objection funcion is increasing, change eta to: {eta}\")\n",
        "        #print(\"This is the value I'm looking for:\" , {diff[mm]})\n",
        "\n",
        "      # Increment the value\n",
        "      #var += 1\n",
        "\n",
        "      '''\n",
        "      if  i % 50 == 0:\n",
        "        print(i)\n",
        "        print(obj)\n",
        "      '''\n",
        "\n",
        "\n",
        "\n",
        "\n",
        "\n",
        "\n",
        "\n",
        "      #print(f\"GD Obj values: {OBJ}\")\n",
        "      #print(f\"GD obj: {float(obj_1)}\")\n",
        "      # error\n",
        "      beta_vector[:,mm:mm+1] = Beta\n",
        "\n",
        "      if mm >= 2: # after 2 since beta = 0 at the first iteration, we need the second and third composnents.\n",
        "      # check for convergence, using relative error\n",
        "      #diff_beta[mm] = np.linalg.norm(beta_vector[:,mm-1:mm] - beta_vector[:,mm:mm+1]) / np.linalg.norm(beta_vector[:,mm-1:mm])\n",
        "      #print(diff_beta[mm])\n",
        "      #if diff_beta[mm] < 1e-2:\n",
        "      #  print(diff_beta[mm])\n",
        "      #  cond_2 = False\n",
        "      #  break\n",
        "\n",
        "        diff[mm] = np.sqrt( ((beta_vector[:,mm:mm+1] - beta_vector[:,mm-1:mm]).T @ LSTAR @\n",
        "                                                    (beta_vector[:,mm:mm+1] - beta_vector[:,mm-1:mm])\n",
        "                                                    ) / (beta_vector[:,mm-1:mm].T @ L_star\n",
        "                                                         @ beta_vector[:,mm-1:mm] )\n",
        "                                                      )\n",
        "      #print(\"This should be the same: \", {diff[mm]})\n",
        "\n",
        "\n",
        "    #if mm % 4 == 0:  #if m modulo constant occurs, print m\n",
        "    #    rem = mm\n",
        "    #    print('Iteration count: ' +str(rem))\n",
        "    #    print('Convergence using norm of RKHS at '+str(rem) +'iterations: ' +str(diff[mm]))\n",
        "    #    print('Beta norm error: '+str(diff[mm]))\n",
        "    '''  if diff[mm] < 0.01:\n",
        "        print('This is the norm difference of the RKHS norm: ', {diff[mm]})\n",
        "          #print('Iteration count: ' +str(mm))\n",
        "          #print('Convergence using norm of RKHS at '+str(mm) +'iterations: ' +str(diff[mm]))\n",
        "          #print('Beta norm error: '+str(diff[mm]))\n",
        "        cond_2 = False\n",
        "    '''\n",
        "\n",
        "  # ODEvsolver. Put arguments for sol.y and num in here\n",
        "  #'''\n",
        "    #if mm % 15 == 0:\n",
        "    #  print('Here is were we change the eta, i think we need an epoch loop')\n",
        "    #  print(mm)\n",
        "\n",
        "    #sol = solve_ivp(new_alpha,[0,1],np.reshape(x_input,len(x_input)),\n",
        "    #              t_eval=t_list,\n",
        "    #              vectorized = True,\n",
        "    #              args=(k8v, sol.y, num, Beta))\n",
        "\n",
        "  #'''\n",
        "\n",
        "  # test out original alpha\n",
        "    #sol = solve_ivp(alpha,[0,1], np.reshape(x_input, len(x_input)), t_eval = t_list, vectorized = True)\n",
        "\n",
        "    #plt.plot(x_input, np.transpose(alpha(1, x_input)), label = f\"new_{mm}\")\n",
        "    #k9v\n",
        "    plt.plot(x_input, new_alpha(1, np.reshape(x_input,(len(x_input))),\n",
        "                            k9v,\n",
        "                            y = sol.y, #keep true traj\n",
        "                            num = num,\n",
        "                            beta= Beta), label = f'new_{mm}')\n",
        "\n",
        "\n",
        "  #Make new L_star with ODE solver data\n",
        "    # removed so we can use original Lsk_alpha which is the same thing if we use\n",
        "    # sol_ivp for true alpha\n",
        "    #LSTAR = con(h_x, sol.y, num, k8v)\n",
        "\n",
        "\n",
        "    #if mm % 50 == 0:\n",
        "    #obj_2 = objective(LSTAR, Beta, LAM)\n",
        "    #obj_2 = obj_2.numpy() #make obj into a numpy\n",
        "    #OBJ_2.append(float(obj_2)) #make numpy into a float\n",
        "\n",
        "    #var_2 += 1\n",
        "    #if var_2 % 10 == 0:\n",
        "    #print(f\"Here is the obj value for LSTAR: {obj_2}\")\n",
        "    #print(\"Is LSTAR obj decrease?\")\n",
        "    #print(decreasing(OBJ_2))\n",
        "    #if decreasing(OBJ_2)[0] == False:\n",
        "    #  print(f\"LSTAR: This is the iteration where we stopped: {mm}\")\n",
        "    #  cond = False\n",
        "\n",
        "        #eta = eta / 2\n",
        "        #print(f\"objection funcion is increasing, change eta to: {eta}\")\n",
        "\n",
        "  #print(f\"LSTAR change objective: {OBJ_2}\")\n",
        "  #print(f\"LSTAR obj: {float(obj_2)}\")\n",
        "  # after gradient descent we should still decrease objective\n",
        "  # compare to the last gradeint desecent objective print\n",
        "  # compare the LSTAR\n",
        "  # plot this\n",
        "  #print(obj)\n",
        "\n",
        "    if mm % 1 == 0:\n",
        "      print(mm)\n",
        "      print(f\"Here is the objective function results at {mm} iterations: {objective(LSTAR, Beta, LAM)}\")\n",
        "      print(f\"the value of eta: {eta}\")\n",
        "      cond = False # stop algorithm\n",
        "      #if decreasing(OBJ)[0] and decreasing(OBJ_2)[0] == True:\n",
        "      #  eta = eta / 2\n",
        "#        print(f\"this is the same eta: {eta}\")\n",
        "#      else:\n",
        "#        eta = eta / 2\n",
        "#        print(f\"objection funcion is increasing, change eta to: {eta}\")\n",
        "\n",
        "plt.plot(x_input, np.transpose(alph(1, x_input)), label = 'alpha original')\n",
        "plt.legend()\n",
        "print(obj)\n",
        "et = time.time()\n",
        "total_time = et - st\n",
        "print(total_time)\n",
        "#print(\"GD obj list: \")\n",
        "#print(decreasing(OBJ))\n",
        "#print(\"LSTAR obj list:\")\n",
        "#print(decreasing(OBJ_2))\n"
      ]
    },
    {
      "cell_type": "code",
      "execution_count": null,
      "metadata": {
        "id": "42m44oVkzMsd"
      },
      "outputs": [],
      "source": [
        "print(np.linalg.norm(beta_star_3 - Beta) / np.linalg.norm(beta_star_3))\n",
        "#plt.plot(x_input, beta_star_2, label = 'Beta using original alpha and L_x pseduo invers')\n",
        "#plt.plot(x_input, Beta, label = 'GD Beta')\n",
        "#plt.legend();"
      ]
    },
    {
      "cell_type": "code",
      "execution_count": null,
      "metadata": {
        "id": "WkcpioiNCGb-"
      },
      "outputs": [],
      "source": [
        "# sol - true trajectoires, how x changes based on integrating with alpha\n",
        "# k9v\n",
        "solve_Beta = solve_ivp(new_alpha,[0,1],np.reshape(x_input,len(x_input)),\n",
        "                  t_eval=t_list,\n",
        "                  vectorized = True,\n",
        "                  args=(k9v, sol.y, num, Beta))\n",
        "\n",
        "plt.plot(solve_Beta.y);"
      ]
    },
    {
      "cell_type": "code",
      "execution_count": null,
      "metadata": {
        "id": "5C05D3nmGxr6"
      },
      "outputs": [],
      "source": [
        "plt.figure(figsize=(16,5))\n",
        "for i in range(len(solve_Beta.y[0])):\n",
        "  plt.plot(solve_Beta.y[:,i], np.transpose(phi_0(x_input)), label = f'phi traj {i}')\n",
        "\n",
        "plt.plot(x_input, np.transpose(phi_0(x_input)), label ='phi_0')\n",
        "plt.plot(x_phi_1, np.transpose(phi_0(x_input)), label = 'phi_1')\n",
        "plt.plot(x_input, phi_1(np.reshape(solve_Beta.y[:,-1], (len(x_input),1))), label = 'should be close to phi_0')\n",
        "plt.legend();"
      ]
    },
    {
      "cell_type": "code",
      "execution_count": null,
      "metadata": {
        "id": "ldHijcCXDLnH"
      },
      "outputs": [],
      "source": [
        "plt.plot(x_input, np.transpose(phi_0(x_input)), label ='phi_0')\n",
        "plt.plot(x_input, phi_1(np.reshape(solve_Beta.y[:,-1], (len(x_input),1))), label = 'should be close to phi_0');\n",
        "plt.plot(x_phi_1, np.transpose(phi_0(x_input)), label = 'phi_1')\n",
        "plt.plot(np.reshape(solve_Beta.y[:,-1], (len(x_input),1)), np.transpose(phi_0(x_input)), label = 'phi_1_est')\n",
        "\n",
        "plt.legend();"
      ]
    },
    {
      "cell_type": "markdown",
      "source": [
        "## Infor on phi_0 and phi_ 1like DTW"
      ],
      "metadata": {
        "id": "xz7_tbrh52ma"
      }
    },
    {
      "cell_type": "code",
      "source": [
        "print(alpha_0.T[:10])"
      ],
      "metadata": {
        "id": "oc3z85Ce57v6"
      },
      "execution_count": null,
      "outputs": []
    },
    {
      "cell_type": "code",
      "source": [
        "plt.figure(figsize=(10,5))\n",
        "plt.plot(x_input, np.transpose(phi_0(x_input)), label ='phi_0')\n",
        "offset = 1\n",
        "\n",
        "plt.plot(x_phi_1, np.transpose(phi_0(x_input)) + offset, label = 'phi_1')\n",
        "plt.legend(prop={'size':20});\n",
        "plt.show()"
      ],
      "metadata": {
        "id": "rauyMluY58mx"
      },
      "execution_count": null,
      "outputs": []
    },
    {
      "cell_type": "code",
      "source": [
        "plt.figure(figsize=(10,5))\n",
        "plt.plot(x_input, np.transpose(phi_0(x_input)), label ='phi_0')\n",
        "offset = 1\n",
        "\n",
        "plt.plot(x_phi_1, np.transpose(phi_0(x_input)) + offset, label = 'phi_1') # this is phi_1. its the new x_input after\n",
        "                                                                  # forward euler, then plot this agains\n",
        "\n",
        "for i in range(1, len(alpha_0.T)):\n",
        "  pt = (x_input.numpy()[i], np.transpose(phi_0(x_input))[i])\n",
        "  slope = alpha_0.T[i]\n",
        "  b = pt[1] - slope * pt[0]\n",
        "  pt1 = (x_phi_1[i], slope * (np.transpose(phi_0(x_input))[i]) + b + offset)\n",
        "  plt.plot((pt1[0], pt[0]), (pt1[1], pt[1]),linestyle='--')\n",
        "\n",
        "plt.plot()\n",
        "plt.legend(prop={'size':20});\n",
        "plt.show();\n",
        "\n",
        "'''\n",
        "#import matplotlib.pyplot as plt\n",
        "pt = (0.01,-0.38773961)\n",
        "slope = -5.43027049e-03\n",
        "pt_1 = (0.02,-0.44777292)\n",
        "slope_1 = -1.08374759e-02\n",
        "#pt = (3, 4)\n",
        "#slope = -2\n",
        "# Given the above, calculate y intercept \"b\" in y=mx+b\n",
        "b_1 = pt[1] - slope * pt[0]\n",
        "b_2 = pt_1[1] - slope * pt_1[0]\n",
        "\n",
        "# Now draw two points around the input point\n",
        "pt1 = (pt[0] - (5.81163294e-03), slope * (pt[0] - (-0.4930057  )) + b_1 + offset)\n",
        "pt2 = (pt_1[0]- (1.16230087e-02), slope * (pt_1[0] - (-0.59172036)) + b_2 + offset)\n",
        "\n",
        "# Draw two line segments around the input point\n",
        "plt.plot((pt1[0], pt[0]), (pt1[1], pt[1]),linestyle='--')\n",
        "plt.plot((pt_1[0], pt2[0]), (pt_1[1], pt2[1]),  linestyle='dashed')\n",
        "\n",
        "\n",
        "plt.plot()\n",
        "plt.legend(prop={'size':20});\n",
        "plt.show()\n",
        "'''"
      ],
      "metadata": {
        "id": "S_kbOuAq6A_f"
      },
      "execution_count": null,
      "outputs": []
    },
    {
      "cell_type": "code",
      "source": [
        "#blah = dtw(phi_1(x_input), np.transpose(phi_0(x_input)), keep_internals=True,\n",
        "#    step_pattern=rabinerJuangStepPattern(6, \"c\"))\\\n",
        "#    .plot(type=\"twoway\",offset=-2);"
      ],
      "metadata": {
        "id": "W3K29PDy6FBD"
      },
      "execution_count": null,
      "outputs": []
    },
    {
      "cell_type": "markdown",
      "source": [
        "## Add noise to Beta_Star"
      ],
      "metadata": {
        "id": "FIlzOu-iIwS0"
      }
    },
    {
      "cell_type": "code",
      "source": [
        "percent_error = 1*np.exp(-50)\n",
        "n_3 = np.linalg.norm(beta_star_3)"
      ],
      "metadata": {
        "id": "27U_EmFM2c9i"
      },
      "execution_count": null,
      "outputs": []
    },
    {
      "cell_type": "code",
      "source": [
        "np.random.seed(14)\n",
        "mu, sigma = 0, .03 # mean and standard deviation\n",
        "s = np.random.normal(mu, sigma, size=(len(x_input),1))\n",
        "s = s * (n_3 / np.linalg.norm(s)) * percent_error\n",
        "print(np.linalg.norm(s))\n",
        "print(s[0:10,:])\n",
        "beta_noise = s + beta_star_3\n",
        "#plt.plot(beta_star_3);\n",
        "plt.scatter(x_input, beta_star_3);\n",
        "df_describe = pd.DataFrame(beta_star_3)\n",
        "print(df_describe.describe())\n",
        "df_describe_noise = pd.DataFrame(beta_noise)\n",
        "print(df_describe_noise.describe())"
      ],
      "metadata": {
        "id": "vXzBecv0JIvX"
      },
      "execution_count": null,
      "outputs": []
    },
    {
      "cell_type": "code",
      "source": [
        "#beta_star_elimnate= beta_star_3[1:-1]\n",
        "#df_describe_eli = pd.DataFrame(beta_star_elimnate)\n",
        "#x_eli = x_input[1:-1]\n",
        "#print(df_describe_eli.describe())\n",
        "#plt.scatter(x_eli, beta_star_elimnate)"
      ],
      "metadata": {
        "id": "kb9yHw8FMX6K"
      },
      "execution_count": null,
      "outputs": []
    },
    {
      "cell_type": "code",
      "source": [
        "#TEST\n",
        "#get start time\n",
        "#eta = ((2**5)/(2**1)) * 1e-3 #(2**5) * 1e-3\n",
        "#print(f\"This is the first eta: {eta}\")\n",
        "st = time.time()\n",
        "mm = 0 # not zero since beta_ini is zero vector at virst\n",
        "        # we can't divide by zero\n",
        "var = 0\n",
        "var_2 = 0\n",
        "LAM = (10**0) * 1e-3 #lambs[lambda_index] #1e-6\n",
        "Beta = beta_noise#beta_star_3 #Beta_ini\n",
        "#sol = sol_1.y\n",
        "#LSTAR = Lsk_alpha #Lsk_alpha# Lsk_alpha is with true trajectories, Lsk_0\n",
        "OBJ = [] #put the results in this list to compare the elements for GD\n",
        "OBJ_2 = [] #lstar obj restulst\n",
        "\n",
        "#initialize the firts sol.y\n",
        "#sol = solve_ivp(f,[0,1],np.reshape(x_input,len(x_input)),t_eval=t_list)\n",
        "##initial the first sol_alpha.y's with true trajecotires.\n",
        "sol = solve_ivp(alph,[0,1], np.reshape(x_input, len(x_input)), t_eval = t_list, vectorized = True)\n",
        "\n",
        "newalpha_0 = new_alpha(1, np.reshape(x_input,(len(x_input))), kern = k9v, y = sol.y, num = num, beta = beta_star_3)\n",
        "\n",
        "#sol_noise = solve_ivp(new_alpha,[0,1],np.reshape(x_input,len(x_input)),\n",
        "#                t_eval=t_list,\n",
        "#                vectorized = True,\n",
        "#                args=(k9v, sol.y, num, beta_noise))\n",
        "\n",
        "#def new_alpha(t, u, kern, y, num, beta, h = (1/(num-1)))\n",
        "LSTAR = con(1/(num-1), y = sol.y, num = num, kern = k9v)\n",
        "\n",
        "# measuring error\n",
        "beta_vector = np.zeros((len(x_input),600))\n",
        "beta_vector[:,0:1] = Beta  #put beta in first column\n",
        "diff_beta = np.zeros(100)\n",
        "diff = np.zeros(600)\n",
        "plt.figure(figsize=(16,5))\n",
        "\n",
        "cond = True\n",
        "cond_2 = True\n",
        "\n",
        "while(cond):\n",
        "\n",
        "\n",
        "    mm += 1\n",
        "    print(mm)\n",
        "\n",
        "    # Gradient Desecent\n",
        "    for i in range(1):\n",
        "    #while(cond_2):\n",
        "      eta = 1 / (2**8)#2.5 * (1e-4)#3**1 * 1e-2 #.01\n",
        "      #sol_alpha = solve_ivp(alpha,[0,1], np.reshape(x_input, len(x_input)), t_eval = t_list, vectorized = True)\n",
        "      #Lsk_alpha = con(h_x, sol_alpha.y, num, k8v) #Lsk_alpha is with true trajectories,\n",
        "      ##print(f\"eta initialized {eta}\")\n",
        "\n",
        "      Beta = tf.Variable(Beta)\n",
        "      with tf.GradientTape() as tape:\n",
        "          tape.watch(Beta)\n",
        "          obj = objective(LSTAR, Beta, LAM)\n",
        "          print(f\"obj_old with Beta: {obj}\")\n",
        "          #print(f\"This is gradient {i}th iteration obj_old: {obj}\")\n",
        "\n",
        "\n",
        "      beta_grad = tape.gradient(obj, Beta) # this is taking the gradient\n",
        "      #print(np.linalg.norm(beta_grad))\n",
        "      #print(beta_grad)\n",
        "      #print(np.sum(beta_grad**2))\n",
        "\n",
        "      Beta = Beta - eta * (beta_grad / np.linalg.norm(beta_grad)) # gradient desecn\n",
        "      #Beta = Beta - eta * beta_grad\n",
        "\n",
        "      obj_1 = obj.numpy()  #make obj into a numpy\n",
        "      obj_old = np.copy(obj_1) #-1\n",
        "      #make new obj\n",
        "      obj_new = objective(LSTAR, Beta, LAM)\n",
        "      #print(f\"obj_new with Beta after GD: {obj_new}\")\n",
        "\n",
        "      '''\n",
        "      #kamel's test\n",
        "      obj_1 = obj.numpy()  #make obj into a numpy\n",
        "      obj_old = np.copy(obj_1) - 1\n",
        "      #OBJ.append(float(obj_1)) #make numpy into a float\n",
        "      '''\n",
        "      '''\n",
        "      #if decreasing(OBJ)[0] == False:\n",
        "      while obj_new > obj_old: #obj_1 > obj_old:\n",
        "        print(\"obj is increasing\")\n",
        "        #obj_old = np.copy(obj_1)\n",
        "\n",
        "        print(f\"GD: This is the iteration where it increased: {mm}, {obj_new} > {obj_old}\")\n",
        "        #print(f\"GD: print the var variable {var}\")\n",
        "        #cond = False #stop algorithm\n",
        "        eta = eta / 2\n",
        "        print(f\"Eta changed: {eta}\")\n",
        "        Beta = Beta - eta *  (beta_grad / np.linalg.norm(beta_grad))\n",
        "        #Beta = Beta - eta * beta_grad\n",
        "        obj_new = objective(LSTAR, Beta, LAM)\n",
        "        #obj_1 = obj.numpy() #make obj into a numpy\n",
        "        #obj_old = np.copy(obj_1)\n",
        "        # do GD\n",
        "      '''\n",
        "        #then recheck that decreasing(OBJ)[0] == True\n",
        "            #print(f\"objection funcion is increasing, change eta to: {eta}\")\n",
        "        #print(\"This is the value I'm looking for:\" , {diff[mm]})\n",
        "\n",
        "      # Increment the value\n",
        "      #var += 1\n",
        "\n",
        "      '''\n",
        "      if  i % 50 == 0:\n",
        "        print(i)\n",
        "        print(obj)\n",
        "      '''\n",
        "\n",
        "\n",
        "\n",
        "\n",
        "\n",
        "\n",
        "\n",
        "      #print(f\"GD Obj values: {OBJ}\")\n",
        "      #print(f\"GD obj: {float(obj_1)}\")\n",
        "      # error\n",
        "      beta_vector[:,mm:mm+1] = Beta\n",
        "\n",
        "      if mm >= 2: # after 2 since beta = 0 at the first iteration, we need the second and third composnents.\n",
        "      # check for convergence, using relative error\n",
        "      #diff_beta[mm] = np.linalg.norm(beta_vector[:,mm-1:mm] - beta_vector[:,mm:mm+1]) / np.linalg.norm(beta_vector[:,mm-1:mm])\n",
        "      #print(diff_beta[mm])\n",
        "      #if diff_beta[mm] < 1e-2:\n",
        "      #  print(diff_beta[mm])\n",
        "      #  cond_2 = False\n",
        "      #  break\n",
        "\n",
        "        diff[mm] = np.sqrt( ((beta_vector[:,mm:mm+1] - beta_vector[:,mm-1:mm]).T @ LSTAR @\n",
        "                                                    (beta_vector[:,mm:mm+1] - beta_vector[:,mm-1:mm])\n",
        "                                                    ) / (beta_vector[:,mm-1:mm].T @ L_star\n",
        "                                                         @ beta_vector[:,mm-1:mm] )\n",
        "                                                      )\n",
        "      #print(\"This should be the same: \", {diff[mm]})\n",
        "\n",
        "\n",
        "    #if mm % 4 == 0:  #if m modulo constant occurs, print m\n",
        "    #    rem = mm\n",
        "    #    print('Iteration count: ' +str(rem))\n",
        "    #    print('Convergence using norm of RKHS at '+str(rem) +'iterations: ' +str(diff[mm]))\n",
        "    #    print('Beta norm error: '+str(diff[mm]))\n",
        "    '''  if diff[mm] < 0.01:\n",
        "        print('This is the norm difference of the RKHS norm: ', {diff[mm]})\n",
        "          #print('Iteration count: ' +str(mm))\n",
        "          #print('Convergence using norm of RKHS at '+str(mm) +'iterations: ' +str(diff[mm]))\n",
        "          #print('Beta norm error: '+str(diff[mm]))\n",
        "        cond_2 = False\n",
        "    '''\n",
        "\n",
        "  # ODEvsolver. Put arguments for sol.y and num in here\n",
        "  #'''\n",
        "    #if mm % 15 == 0:\n",
        "    #  print('Here is were we change the eta, i think we need an epoch loop')\n",
        "    #  print(mm)\n",
        "\n",
        "    #sol = solve_ivp(new_alpha,[0,1],np.reshape(x_input,len(x_input)),\n",
        "    #              t_eval=t_list,\n",
        "    #              vectorized = True,\n",
        "    #              args=(k8v, sol.y, num, Beta))\n",
        "\n",
        "  #'''\n",
        "\n",
        "  # test out original alpha\n",
        "    #sol = solve_ivp(alpha,[0,1], np.reshape(x_input, len(x_input)), t_eval = t_list, vectorized = True)\n",
        "\n",
        "    #plt.plot(x_input, np.transpose(alpha(1, x_input)), label = f\"new_{mm}\")\n",
        "\n",
        "    plt.plot(x_input, new_alpha(1, np.reshape(x_input,(len(x_input))),\n",
        "                            k9v,\n",
        "                            y = sol.y, #keep true traj\n",
        "                            num = num,\n",
        "                            beta= Beta), label = f'new_{mm}')\n",
        "\n",
        "\n",
        "  #Make new L_star with ODE solver data\n",
        "    # removed so we can use original Lsk_alpha which is the same thing if we use\n",
        "    # sol_ivp for true alpha\n",
        "    #LSTAR = con(h_x, sol.y, num, k8v)\n",
        "\n",
        "\n",
        "    #if mm % 50 == 0:\n",
        "    #obj_2 = objective(LSTAR, Beta, LAM)\n",
        "    #obj_2 = obj_2.numpy() #make obj into a numpy\n",
        "    #OBJ_2.append(float(obj_2)) #make numpy into a float\n",
        "\n",
        "    #var_2 += 1\n",
        "    #if var_2 % 10 == 0:\n",
        "    #print(f\"Here is the obj value for LSTAR: {obj_2}\")\n",
        "    #print(\"Is LSTAR obj decrease?\")\n",
        "    #print(decreasing(OBJ_2))\n",
        "    #if decreasing(OBJ_2)[0] == False:\n",
        "    #  print(f\"LSTAR: This is the iteration where we stopped: {mm}\")\n",
        "    #  cond = False\n",
        "\n",
        "        #eta = eta / 2\n",
        "        #print(f\"objection funcion is increasing, change eta to: {eta}\")\n",
        "\n",
        "  #print(f\"LSTAR change objective: {OBJ_2}\")\n",
        "  #print(f\"LSTAR obj: {float(obj_2)}\")\n",
        "  # after gradient descent we should still decrease objective\n",
        "  # compare to the last gradeint desecent objective print\n",
        "  # compare the LSTAR\n",
        "  # plot this\n",
        "  #print(obj)\n",
        "\n",
        "    if mm % 10 == 0:\n",
        "      print(mm)\n",
        "      print(f\"Here is the objective function results at {mm} iterations: {objective(LSTAR, Beta, LAM)}\")\n",
        "      print(f\"the value of eta: {eta}\")\n",
        "      cond = False # stop algorithm\n",
        "      #if decreasing(OBJ)[0] and decreasing(OBJ_2)[0] == True:\n",
        "      #  eta = eta / 2\n",
        "#        print(f\"this is the same eta: {eta}\")\n",
        "#      else:\n",
        "#        eta = eta / 2\n",
        "#        print(f\"objection funcion is increasing, change eta to: {eta}\")\n",
        "\n",
        "plt.plot(x_input, np.transpose(alph(1, x_input)), label = 'alpha original')\n",
        "plt.legend()\n",
        "print(obj)\n",
        "et = time.time()\n",
        "total_time = et - st\n",
        "print(total_time)\n",
        "#print(\"GD obj list: \")\n",
        "#print(decreasing(OBJ))\n",
        "#print(\"LSTAR obj list:\")\n",
        "#print(decreasing(OBJ_2))\n"
      ],
      "metadata": {
        "id": "Ke8Lf3JpNIJt"
      },
      "execution_count": null,
      "outputs": []
    },
    {
      "cell_type": "code",
      "source": [
        "# sol - true trajectoires, how x changes based on integrating with alpha\n",
        "solve_Beta = solve_ivp(new_alpha,[0,1],np.reshape(x_input,len(x_input)),\n",
        "                  t_eval=t_list,\n",
        "                  vectorized = True,\n",
        "                  args=(k9v, sol.y, num, Beta))\n",
        "\n",
        "plt.plot(solve_Beta.y);"
      ],
      "metadata": {
        "id": "p8RLTQGQN1XK"
      },
      "execution_count": null,
      "outputs": []
    },
    {
      "cell_type": "code",
      "source": [
        "plt.figure(figsize=(16,5))\n",
        "for i in range(len(solve_Beta.y[0])):\n",
        "  plt.plot(solve_Beta.y[:,i], np.transpose(phi_0(x_input)), label = f'phi traj {i}')\n",
        "\n",
        "plt.plot(x_input, np.transpose(phi_0(x_input)), label ='phi_0')\n",
        "plt.plot(x_phi_1, np.transpose(phi_0(x_input)), label = 'phi_1')\n",
        "plt.plot(x_input, phi_1(np.reshape(solve_Beta.y[:,-1], (len(x_input),1))), label = 'should be close to phi_0')\n",
        "plt.legend();\n"
      ],
      "metadata": {
        "id": "3TZAMJfyN97q"
      },
      "execution_count": null,
      "outputs": []
    },
    {
      "cell_type": "code",
      "source": [
        "\n",
        "plt.figure(figsize = (16,5))\n",
        "plt.plot(x_input, np.transpose(phi_0(x_input)), label ='phi_0')\n",
        "#plt.plot(x_input, phi_1(np.reshape(solve_Beta.y[:,-1], (101,1))), label = 'should be close to phi_0');\n",
        "plt.plot(x_phi_1, np.transpose(phi_0(x_input)), label = 'phi_1')\n",
        "plt.plot(np.reshape(solve_Beta.y[:,-1], (len(x_input),1)), np.transpose(phi_0(x_input)), label = 'phi_1_est')\n",
        "\n",
        "plt.legend();"
      ],
      "metadata": {
        "id": "khvDIgscOEC9"
      },
      "execution_count": null,
      "outputs": []
    },
    {
      "cell_type": "code",
      "source": [
        "plt.plot(x_input, new_alpha(1, np.reshape(x_input,(len(x_input))),\n",
        "                            k9v,\n",
        "                            y = sol.y,\n",
        "                            num = num,\n",
        "                            beta= Beta), label = 'new_a')\n",
        "plt.plot(x_input, np.transpose(alph(1, x_input)), label = 'alpha original')\n",
        "plt.legend()"
      ],
      "metadata": {
        "id": "UaghSFXGQLNl"
      },
      "execution_count": null,
      "outputs": []
    },
    {
      "cell_type": "markdown",
      "metadata": {
        "id": "OTCbzgCYgWGu"
      },
      "source": [
        "## Now try again."
      ]
    },
    {
      "cell_type": "markdown",
      "metadata": {
        "id": "DWTKKe8fgcPU"
      },
      "source": [
        "### While loop testing ==> initialzed beta with beta_star_3 and instead of using a constant function for my initialized alpha, I choose another function h_func which was generated using the same method as alpha."
      ]
    },
    {
      "cell_type": "code",
      "execution_count": null,
      "metadata": {
        "id": "xKafdP0Cq9XV"
      },
      "outputs": [],
      "source": [
        "#sol2=solve_ivp(f,[0,1],np.reshape(x_input,len(x_input)),t_eval=t_list, vectorized = True)"
      ]
    },
    {
      "cell_type": "code",
      "execution_count": null,
      "metadata": {
        "id": "hqC4VlBcgVZ7"
      },
      "outputs": [],
      "source": [
        "#TEST\n",
        "#get start time\n",
        "#eta = ((2**5)/(2**1)) * 1e-3 #(2**5) * 1e-3\n",
        "#print(f\"This is the first eta: {eta}\")\n",
        "st = time.time()\n",
        "mm = 0 # not zero since beta_ini is zero vector at virst\n",
        "        # we can't divide by zero\n",
        "var = 0\n",
        "var_2 = 0\n",
        "LAM = (10**0) * 1e-6 #lambs[lambda_index] #1e-6\n",
        "Beta = beta_scaled#beta_star_2 #Beta_ini #beta_star_2 #Beta_ini\n",
        "#sol = sol_1.y\n",
        "#LSTAR = Lsk_alpha #Lsk_alpha#  Lsk_alpha is with true trajectories, Lsk_0\n",
        "OBJ = [] #put the results in this list to compare the elements for GD\n",
        "OBJ_2 = [] #lstar obj restulst\n",
        "\n",
        "#initialize the firts sol.y\n",
        "# alpha_(not)\n",
        "#sol = solve_ivp(f,[0,1],np.reshape(x_input,len(x_input)),t_eval=t_list, vectorized = True)\n",
        "sol = solve_ivp(h_func,[0,1],np.reshape(x_input,len(x_input)),t_eval=t_list, vectorized = True)\n",
        "\n",
        "##initial the first sol_alpha.y's with true trajecotires.\n",
        "#sol = solve_ivp(alpha,[0,1], np.reshape(x_input, len(x_input)), t_eval = t_list, vectorized = True)\n",
        "\n",
        "# initialize first LSTAR with sol.y from gamma function, alpha_(not)\n",
        "LSTAR = con(1/(num-1), y = sol.y, num = num, kern = k9v)\n",
        "\n",
        "# plot original alpha with Beta_ini\n",
        "#plt.figure(figsize = (16,5))\n",
        "#plt.plot(x_input, new_alpha(1, np.reshape(x_input,(len(x_input))),\n",
        "#                            k8v,\n",
        "#                            y = sol.y, #from constant function\n",
        "#                            num = num,\n",
        "#                            beta= Beta), label = 'initial alpha with Beta_ini'); #beta init\n",
        "#plt.legend()\n",
        "# measuring error\n",
        "beta_vector = np.zeros((len(x_input),600))\n",
        "beta_vector[:,0:1] = Beta  #put beta in first column\n",
        "diff_beta = np.zeros(100)\n",
        "diff = np.zeros(600)\n",
        "plt.figure(figsize=(16,5))\n",
        "\n",
        "cond = True\n",
        "cond_2 = True\n",
        "\n",
        "while(cond):\n",
        "\n",
        "\n",
        "    mm += 1\n",
        "    print(mm)\n",
        "\n",
        "    # Gradient Desecent\n",
        "    for i in range(1):\n",
        "    #while(cond_2):\n",
        "      eta = 1 / (2**8)#2.5 * (1e-4)#3**1 * 1e-2 #.01\n",
        "\n",
        "      Beta = tf.Variable(Beta)\n",
        "      with tf.GradientTape() as tape:\n",
        "          tape.watch(Beta)\n",
        "          obj = objective(LSTAR, Beta, LAM)\n",
        "          print(f\"obj_old with Beta: {obj}\")\n",
        "          #print(f\"This is gradient {i}th iteration obj_old: {obj}\")\n",
        "\n",
        "\n",
        "      beta_grad = tape.gradient(obj, Beta) # this is taking the gradient\n",
        "      Beta = Beta - eta * (beta_grad / np.linalg.norm(beta_grad)) # gradient desecent\n",
        "      #Beta = Beta - eta * beta_grad\n",
        "\n",
        "      #original obj function before descent:\n",
        "      obj_1 = obj.numpy()  #make obj into a numpy\n",
        "      obj_old = np.copy(obj_1) #-1\n",
        "      #make new obj with fixed LSTAR, and New Beta\n",
        "      obj_new = objective(LSTAR, Beta, LAM)\n",
        "      #print(f\"obj_new with Beta after GD: {obj_new}\")\n",
        "\n",
        "      '''\n",
        "      #kamel's test\n",
        "      obj_1 = obj.numpy()  #make obj into a numpy\n",
        "      obj_old = np.copy(obj_1) - 1\n",
        "      #OBJ.append(float(obj_1)) #make numpy into a float\n",
        "      '''\n",
        "      '''\n",
        "      #if decreasing(OBJ)[0] == False:\n",
        "      while obj_new > obj_old: #obj_1 > obj_old:\n",
        "        print(\"obj is increasing\")\n",
        "        #obj_old = np.copy(obj_1)\n",
        "\n",
        "        print(f\"GD: This is the iteration where it increased: {mm}, {obj_new} > {obj_old}\")\n",
        "        #print(f\"GD: print the var variable {var}\")\n",
        "        #cond = False #stop algorithm\n",
        "        eta = eta / 2\n",
        "        print(f\"Eta changed: {eta}\")\n",
        "        Beta = Beta - eta *  (beta_grad / np.linalg.norm(beta_grad))\n",
        "        #Beta = Beta - eta * beta_grad\n",
        "        obj_new = objective(LSTAR, Beta, LAM)\n",
        "        #obj_1 = obj.numpy() #make obj into a numpy\n",
        "        #obj_old = np.copy(obj_1)\n",
        "        # do GD\n",
        "      '''\n",
        "      # Storing the betas for calculating error later\n",
        "      beta_vector[:,mm:mm+1] = Beta\n",
        "\n",
        "      if mm >= 2: # after 2 since beta = 0 at the first iteration, we need the second and third composnents.\n",
        "      # check for convergence, using relative error\n",
        "      #diff_beta[mm] = np.linalg.norm(beta_vector[:,mm-1:mm] - beta_vector[:,mm:mm+1]) / np.linalg.norm(beta_vector[:,mm-1:mm])\n",
        "      #print(diff_beta[mm])\n",
        "      #if diff_beta[mm] < 1e-2:\n",
        "      #  print(diff_beta[mm])\n",
        "      #  cond_2 = False\n",
        "      #  break\n",
        "\n",
        "        diff[mm] = np.sqrt( ((beta_vector[:,mm:mm+1] - beta_vector[:,mm-1:mm]).T @ LSTAR @\n",
        "                                                    (beta_vector[:,mm:mm+1] - beta_vector[:,mm-1:mm])\n",
        "                                                    ) / (beta_vector[:,mm-1:mm].T @ L_star\n",
        "                                                         @ beta_vector[:,mm-1:mm] )\n",
        "                                                      )\n",
        "\n",
        "    '''  if diff[mm] < 0.01:\n",
        "        print('This is the norm difference of the RKHS norm: ', {diff[mm]})\n",
        "          #print('Iteration count: ' +str(mm))\n",
        "          #print('Convergence using norm of RKHS at '+str(mm) +'iterations: ' +str(diff[mm]))\n",
        "          #print('Beta norm error: '+str(diff[mm]))\n",
        "        cond_2 = False\n",
        "    '''\n",
        "\n",
        "    #plot alpha_new with new Beta and previous sol.y's\n",
        "    plt.plot(x_input, new_alpha(1, np.reshape(x_input,(len(x_input))),\n",
        "                            k8v,\n",
        "                            y = sol.y,\n",
        "                            num = num,\n",
        "                            beta= Beta), label = f'new_{mm}')\n",
        "\n",
        "    # create new sol's with NEW Beta from our new alpha function that\n",
        "    # takes in sol.y values from before and Beta\n",
        "    sol = solve_ivp(new_alpha,[0,1],np.reshape(x_input,len(x_input)),\n",
        "                  t_eval=t_list,\n",
        "                  vectorized = True,\n",
        "                  args=(k9v, sol.y, num, Beta))\n",
        "\n",
        "    # calculate new LSTAR with new sol.y so we can use this\n",
        "    # for objective function\n",
        "    LSTAR = con(1/(num-1), sol.y, num, k8v)\n",
        "\n",
        "\n",
        "\n",
        "    #if mm % 50 == 0:\n",
        "    obj_2 = objective(LSTAR, Beta, LAM)\n",
        "    obj_2 = obj_2.numpy() #make obj into a numpy\n",
        "    OBJ_2.append(float(obj_2)) #make numpy into a float\n",
        "\n",
        "    #var_2 += 1\n",
        "    #if var_2 % 10 == 0:\n",
        "    print(f\"Here is the obj value for LSTAR: {obj_2}\")\n",
        "    print(\"Is obj function for LSTAR NOT increasing?\")\n",
        "    print(decreasing(OBJ_2))\n",
        "    if decreasing(OBJ_2)[0] == False:\n",
        "      print(f\"LSTAR: This is the iteration where we stopped: {mm}\")\n",
        "      #cond = False\n",
        "\n",
        "        #eta = eta / 2\n",
        "        #print(f\"objection funcion is increasing, change eta to: {eta}\")\n",
        "\n",
        "  #print(f\"LSTAR change objective: {OBJ_2}\")\n",
        "  #print(f\"LSTAR obj: {float(obj_2)}\")\n",
        "  # after gradient descent we should still decrease objective\n",
        "  # compare to the last gradeint desecent objective print\n",
        "  # compare the LSTAR\n",
        "  # plot this\n",
        "  #print(obj)\n",
        "\n",
        "    if mm % 100 == 0:\n",
        "      print(mm)\n",
        "      print(f\"Here is the objective function results at {mm} iterations: {objective(LSTAR, Beta, LAM)}\")\n",
        "      print(f\"the value of eta: {eta}\")\n",
        "      cond = False # stop algorithm\n",
        "      #if decreasing(OBJ)[0] and decreasing(OBJ_2)[0] == True:\n",
        "      #  eta = eta / 2\n",
        "#        print(f\"this is the same eta: {eta}\")\n",
        "#      else:\n",
        "#        eta = eta / 2\n",
        "#        print(f\"objection funcion is increasing, change eta to: {eta}\")\n",
        "\n",
        "plt.plot(x_input, np.transpose(alph(1, x_input)), label = 'alpha original')\n",
        "plt.legend()\n",
        "print(obj)\n",
        "et = time.time()\n",
        "total_time = et - st\n",
        "print(total_time)\n",
        "#print(\"GD obj list: \")\n",
        "#print(decreasing(OBJ))\n",
        "#print(\"LSTAR obj list:\")\n",
        "#print(decreasing(OBJ_2))\n"
      ]
    },
    {
      "cell_type": "code",
      "execution_count": null,
      "metadata": {
        "id": "CVGhNO8qGIAQ"
      },
      "outputs": [],
      "source": [
        "solve_beta = solve_ivp(new_alpha,[0,1],np.reshape(x_input,len(x_input)),\n",
        "                  t_eval=t_list,\n",
        "                  vectorized = True,\n",
        "                  args=(k9v, sol.y, num, Beta))\n",
        "\n",
        "plt.plot(solve_beta.y);"
      ]
    },
    {
      "cell_type": "code",
      "execution_count": null,
      "metadata": {
        "id": "lmwGOAUOvuzN"
      },
      "outputs": [],
      "source": [
        "plt.figure(figsize=(16,5))\n",
        "for i in range(len(solve_beta.y[0])):\n",
        "  plt.plot(solve_beta.y[:,i], np.transpose(phi_0(x_input)), label = f'phi traj {i}')\n",
        "\n",
        "\n",
        "plt.legend();"
      ]
    },
    {
      "cell_type": "code",
      "execution_count": null,
      "metadata": {
        "id": "Bq756jibvumF"
      },
      "outputs": [],
      "source": [
        "plt.figure(figsize=(16,5))\n",
        "#plt.plot(x_input, np.transpose(phi_0(x_input)), label ='phi_0')\n",
        "plt.plot(x_phi_1, np.transpose(phi_0(x_input)), label = 'phi_1')\n",
        "#plt.plot(x_input, phi_1(np.reshape(solve_beta.y[:,-1], (101,1))), label = 'should be close to phi_0')\n",
        "plt.plot(solve_beta.y[:,-1],np.transpose(phi_0(x_input)), label = 'phi_1_est')\n",
        "plt.legend();"
      ]
    },
    {
      "cell_type": "code",
      "execution_count": null,
      "metadata": {
        "id": "fXAV9bkXXM4q"
      },
      "outputs": [],
      "source": [
        "\n",
        "plt.figure(figsize=(16,5))\n",
        "plt.plot(x_input, np.transpose(phi_0_fixed), label ='phi_0')\n",
        "plt.plot(x_phi_1, np.transpose(phi_0_fixed), label = 'phi_1')\n",
        "\n",
        "plt.plot((solve_beta.y[:,-1:] ), np.transpose(phi_0_fixed), label = \"phi_1_est\")\n",
        "\n",
        "# now print the interpolated phi_1 wiht new x_phi_new and plot\n",
        "# against x_input. This gives us what the values would be on x_input\n",
        "# and compare to phi_1\n",
        "#plt.plot(x_input, phi_1(x_phi_new[:,99:100]), label = \"phi_1_est\")\n",
        "#plt.plot(x_input, phi_1(x_phi_new[:, 50:51]), label = \"Phi_1_est midwaty\")\n",
        "#plt.plot(x_input, phi_1(x_phi_new[:, 0:1]), label = \" phi_1_est first\")\n",
        "\n",
        "\n",
        "plt.legend(prop={'size':20});\n",
        "plt.show()"
      ]
    },
    {
      "cell_type": "code",
      "execution_count": null,
      "metadata": {
        "id": "rm3XPmY8ciHl"
      },
      "outputs": [],
      "source": [
        "\n",
        "plt.plot(x_input, new_alpha(1, np.reshape(x_input,(len(x_input))),\n",
        "                            k9v,\n",
        "                            y = sol.y,\n",
        "                            num = num,\n",
        "                            beta= Beta), label = 'new_a')\n",
        "plt.plot(x_input, np.transpose(alph(1, x_input)), label = 'alpha original')\n",
        "plt.legend()"
      ]
    },
    {
      "cell_type": "markdown",
      "source": [
        "## DTW"
      ],
      "metadata": {
        "id": "9--lajMZUfma"
      }
    },
    {
      "cell_type": "code",
      "source": [
        "!pip install dtw-python"
      ],
      "metadata": {
        "id": "PhTd9MuaUhp6"
      },
      "execution_count": null,
      "outputs": []
    },
    {
      "cell_type": "code",
      "source": [
        "## Find the best match with the canonical recursion formula\n",
        "from dtw import *\n"
      ],
      "metadata": {
        "id": "s-5rmpAIUtIj"
      },
      "execution_count": null,
      "outputs": []
    },
    {
      "cell_type": "code",
      "source": [
        "plt.plot(x_input, phi_1(x_input));\n",
        "plt.plot(x_phi_1, np.transpose(phi_0(x_input)));\n",
        "plt.plot(x_input, np.transpose(phi_0(x_input)));"
      ],
      "metadata": {
        "id": "DMfAecasWj85"
      },
      "execution_count": null,
      "outputs": []
    },
    {
      "cell_type": "code",
      "source": [
        "alignment = dtw(phi_1(x_input), np.transpose(phi_0(x_input)), keep_internals=True) #use phi_1 function to get phi_1\n",
        "\n",
        "## Display the warping curve, i.e. the alignment curve\n",
        "alignment.plot(type=\"threeway\")"
      ],
      "metadata": {
        "id": "-CEDuh2_Uu2Y"
      },
      "execution_count": null,
      "outputs": []
    },
    {
      "cell_type": "code",
      "source": [
        "dtw(np.transpose(phi_0(x_input)),phi_1(x_input),  keep_internals=True,\n",
        "    window_type=\"sakoechiba\", window_args={'window_size': 10})\\\n",
        "    .plot()\n",
        "\n",
        "plt.plot(alignment.index2[20:30],alignment.index1[20:30])"
      ],
      "metadata": {
        "id": "Ms-1qNiXZceS"
      },
      "execution_count": null,
      "outputs": []
    },
    {
      "cell_type": "code",
      "source": [
        "print(alignment.index1[20:30])\n",
        "print(alignment.index2[20:30])\n",
        "print(alignment.index2)\n",
        "print(alpha_0)"
      ],
      "metadata": {
        "id": "ex-SuTlYXSJ1"
      },
      "execution_count": null,
      "outputs": []
    },
    {
      "cell_type": "code",
      "source": [
        "## Align and plot with the Rabiner-Juang type VI-c unsmoothed recursion\n",
        "a = dtw(phi_1(x_input), np.transpose(phi_0(x_input)), distance_only=True)"
      ],
      "metadata": {
        "id": "uB3jqRdOXrsY"
      },
      "execution_count": null,
      "outputs": []
    },
    {
      "cell_type": "code",
      "source": [
        "a.distance"
      ],
      "metadata": {
        "id": "XWUi7yYwjZIy"
      },
      "execution_count": null,
      "outputs": []
    },
    {
      "cell_type": "code",
      "source": [
        "b = dtw(phi_1(x_input), np.transpose(phi_0(x_input)), keep_internals=True,\n",
        "    step_pattern=rabinerJuangStepPattern(6, \"c\"))\\\n",
        "    .plot(type=\"twoway\",offset=-2);"
      ],
      "metadata": {
        "id": "Cb-Gf7S2aSBy"
      },
      "execution_count": null,
      "outputs": []
    },
    {
      "cell_type": "code",
      "source": [],
      "metadata": {
        "id": "7nbEvGspb1p9"
      },
      "execution_count": null,
      "outputs": []
    },
    {
      "cell_type": "markdown",
      "metadata": {
        "id": "0-Kx5AdNx4EO"
      },
      "source": [
        "# Stop here"
      ]
    },
    {
      "cell_type": "markdown",
      "metadata": {
        "id": "ZXbA5UD5HzPO"
      },
      "source": [
        "# Try and make another alpha using my function\n"
      ]
    },
    {
      "cell_type": "markdown",
      "metadata": {
        "id": "f5-kbfgTtAn3"
      },
      "source": [
        "Create $\\alpha(x)$. Below is our quadrature for $\\alpha$. Again $p$ is the number of intermediate trajectories we choose and $h = 1/p$.  Recall $\\alpha(x) = \\sum_{k=1}^n \\beta_k L^*_{x_{k}}(x)$, where $L^*_{x_{k}}(x) = \\int K(x_k(s),x)dt$.\n",
        "\\begin{align}\n",
        "    &\\int_0^1  K(x_k(s),x) ds \\notag \\\\\n",
        "    &\\approx \\frac{h}{2} K(x_k(s_0),x) + h  \\sum_{i=1}^{p-1} K(x_k(s_i),x) + \\frac{h}{2}  K(x_k(s_p),x)\n",
        "\\end{align}\n",
        "We use the trapezoid composite rule where $k \\in \\lbrace 1, \\dots, n\\rbrace$ and $i \\in \\lbrace 0,\\dots, p-1 \\rbrace$ for our function $\\alpha$."
      ]
    },
    {
      "cell_type": "code",
      "execution_count": null,
      "metadata": {
        "id": "0RlLKaV7H3Pr"
      },
      "outputs": [],
      "source": [
        "# creating theta3 for alpha,\n",
        "np.random.seed(1)\n",
        "theta3 = np.random.normal(scale = 10 / np.sqrt(num_features_alpha), size = ((101, 1))) /20\n",
        "theta3 = tf.constant(theta3)"
      ]
    },
    {
      "cell_type": "code",
      "execution_count": null,
      "metadata": {
        "id": "V33LCKSTIZ8d"
      },
      "outputs": [],
      "source": [
        "theta3.shape"
      ]
    },
    {
      "cell_type": "code",
      "execution_count": null,
      "metadata": {
        "id": "Jh56TkWyKlst"
      },
      "outputs": [],
      "source": [
        "#'''\n",
        "# This is 'new' original alpha\n",
        "# sol_1 comes from the integration of a constant function\n",
        "# new_alpha function comes from description above\n",
        "plt.plot(x_input, new_alpha(1, np.reshape(x_input,(len(x_input))),\n",
        "                            k9v,\n",
        "                            y = sol_1.y,\n",
        "                            num = num,\n",
        "                            beta= theta3))\n",
        "print(new_alpha(1, np.reshape(x_input,(len(x_input))),\n",
        "                            k9v,\n",
        "                            y = sol_1.y,\n",
        "                            num = num,\n",
        "                            beta= theta3).shape)\n",
        "#'''"
      ]
    },
    {
      "cell_type": "code",
      "execution_count": null,
      "metadata": {
        "id": "0ftKPV3zR830"
      },
      "outputs": [],
      "source": [
        "# sol_1 comes from the integration of our gamma constant function\n",
        "# true trajectoires, how x changes based on integrating with alpha\n",
        "solve = solve_ivp(new_alpha,[0,1],np.reshape(x_input,len(x_input)),\n",
        "                  t_eval=t_list,\n",
        "                  vectorized = True,\n",
        "                  args=(k9v, sol_1.y, num, theta3))\n",
        "\n",
        "plt.plot(solve.y);"
      ]
    },
    {
      "cell_type": "code",
      "execution_count": null,
      "metadata": {
        "id": "xF88y6kcKvLW"
      },
      "outputs": [],
      "source": [
        "'''\n",
        "#forward euler, used above runga kutta\n",
        "#x_input = tf.reshape(x_input, (tf.size(x_input),1))\n",
        "x_phi_1_test = tf.zeros((tf.size(x_input),1))\n",
        "v = x_input\n",
        "#v = v.numpy()\n",
        "plt.figure() # this places a figure in begining\n",
        "             # then i can plot the figures of the loops in this\n",
        "for i in range(k_x+1):\n",
        "    plt.plot(v)\n",
        "    v = v + h_x * new_alpha(1, np.reshape(v,(len(v))), k8v, sol_1.y, num, theta3, h = (1/(num-1)))\n",
        "x_phi_1_test = v\n",
        "#'''"
      ]
    },
    {
      "cell_type": "code",
      "execution_count": null,
      "metadata": {
        "id": "T2drbV07KttS"
      },
      "outputs": [],
      "source": [
        "# True phi trajectries. Phi_0 to phi_1\n",
        "plt.figure(figsize = (16,5));\n",
        "for i in range(len(solve.y[0])):\n",
        "  plt.plot(solve.y[:,i], np.transpose(phi_0(x_input)), label = f'phi traj {i}')\n",
        "  plt.legend();"
      ]
    },
    {
      "cell_type": "code",
      "execution_count": null,
      "metadata": {
        "id": "6tifQni-LRxJ"
      },
      "outputs": [],
      "source": [
        "#'''\n",
        "# this is important. phi_0 is agains x(0), phi_1 is phi_0 is agains x(1)\n",
        "plt.figure(figsize=(10,5))\n",
        "plt.plot(x_input, np.transpose(phi_0(x_input)), label ='phi_0')\n",
        "#same plot here, test\n",
        "#plt.plot(solve.y[:,0], np.transpose(phi_0(x_input)), label = 'phi_1_test') # this is phi_1. its the new x_input after\n",
        "                                                                  # forward euler, then plot this agains\n",
        "\n",
        "plt.plot(solve.y[:,-1], np.transpose(phi_0(x_input)), label = 'phi_1') ##\n",
        "\n",
        "#plt.plot(x_phi_1, np.transpose(phi_0(x_input)), label = 'phi_1_original')                                                                   # phi_0 true values\n",
        "plt.legend(prop={'size':20});\n",
        "plt.show()\n",
        "#'''"
      ]
    },
    {
      "cell_type": "markdown",
      "metadata": {
        "id": "IKw0A2lWutEH"
      },
      "source": [
        "Here I am using true trajectories to input into our L* equation. Then use our true alpha function."
      ]
    },
    {
      "cell_type": "markdown",
      "metadata": {
        "id": "OwR74XQVo4mV"
      },
      "source": [
        "\\begin{align}\n",
        "   L^* =  &\\int_0^1 \\int_0^1  K(x_k(s),x_l(t) dsdt \\notag\\\\\n",
        "    &\\approx \\frac{h^2}{4} \\left[ K(x_k(s_0),x_l(t_0) +K(x_k(s_0),x_l(t_{p}) \\right.\\notag \\\\\n",
        "    & \\left. + K(x_k(s_{p}),x_l(t_0)  +K(x_k(s_{p}),x_l(t_{p}) \\right] \\notag\\\\\n",
        "    & +\\frac{h^2}{2} \\left[ \\sum_{j=1}^{p-1} K(x_k(s_0),x_l(t_j) +\\sum_{i=1}^{p-1}K(x_k(s_i),x_l(t_{p})+\\sum_{j=1}^{p-1}K(x_k(s_{p}),x_l(t_j) \\right. \\notag \\\\\n",
        "    &\\left. +\\sum_{i=1}^{p-1}K(x_k(s_i),x_l(t_0) \\right]  +  h^2 \\left[ \\sum_{j=1}^{p-1} \\sum_{i=1}^{p-1} K(x_k(s_i),x_l(t_j)\\right]\n",
        "\\end{align}\n",
        "where $k,l \\in \\lbrace 0, \\dots, n\\rbrace$, $i,j \\in \\lbrace 1,\\dots p-1 \\rbrace$ ($p$ is the number of intermediate trajectories ($x_i)$ we choose), and for our given bounded $[0,1]$ interval, $h = (1-0)/p$.  Use the convolve function to find this value.\n"
      ]
    },
    {
      "cell_type": "markdown",
      "metadata": {
        "id": "sd9BH8YHomrj"
      },
      "source": [
        "$$ J(\\beta, \\lambda)  = \\frac{1}{n} \\sum_{i=1}^n [\\phi_1 \\bigg( x_i(0) + [L^*\\beta]_i \\bigg) - \\phi_0(x_i(0))]^2 + \\lambda \\beta^T L^* \\beta$$"
      ]
    },
    {
      "cell_type": "code",
      "execution_count": null,
      "metadata": {
        "id": "1j1BDPmJm7Uj"
      },
      "outputs": [],
      "source": [
        "# test to make sure double integral is working\n",
        "L_star = np.zeros((101,101))\n",
        "print(solve.y.shape)\n",
        "#result_1 = K_Lstar(solve.y, solve.y, h = h_x, kern = k8v)\n",
        "#result_1 = tf.convert_to_tensor(result_1)\n",
        "#print(result_1.shape)\n",
        "for i in range(101):\n",
        "    for j in range(101):\n",
        "        L_star[i,j] = K_Lstar(solve.y[i:i+1,:].T, solve.y[j:j+1,:].T, (1/(num-1)), k9v).sum()\n",
        "\n",
        "\n",
        "result_2 = con(1/(num-1), y = solve.y, num = num, kern = k9v)\n",
        "print(result_2.shape)\n",
        "\n",
        "\n",
        "\n",
        "\n",
        "print(objective(result_2, theta3, LAM))\n"
      ]
    },
    {
      "cell_type": "code",
      "execution_count": null,
      "metadata": {
        "id": "m_dnbrx-yIMz"
      },
      "outputs": [],
      "source": [
        "print(objective(L_star, theta3, LAM))"
      ]
    },
    {
      "cell_type": "code",
      "execution_count": null,
      "metadata": {
        "id": "rM3uZeQzDCYB"
      },
      "outputs": [],
      "source": [
        "# let's look at objective function with TRUE trajectories:\n",
        "# Our goal is to show that phi_1(x(1)) ~ phi_0(X(0)), i.e. our outputs should\n",
        "# equal for phi_1 and phi_0. Using our objection function, I calculted phi_1(x(0) + LB). This\n",
        "# should be very close to phi_0(X(0)).\n",
        "\n",
        "\n",
        "LAM = 10**2 * 1e-6\n",
        "\n",
        "# theta3 is used for alpha.\n",
        "# solve.y uses our true x trajectoires\n",
        "# this LSTAR uses true x trajectories to solve for obj function\n",
        "LSTAR = con(1/(num-1), y = solve.y, num = num, kern = k9v)\n",
        "\n",
        "print(f\"this is from the objective function with theta3: {objective(LSTAR, theta3, LAM)}\")\n",
        "\n",
        "########\n",
        "#Test out objective function\n",
        "########\n",
        "LB = tf.matmul(LSTAR, theta3) #Beta_ini)\n",
        "#print(LB)\n",
        "print(LB.shape)\n",
        "BTLB = tf.matmul(tf.transpose(theta3), LB) #tf.matmul(tf.transpose(Beta_ini), LB)\n",
        "print(LAM * BTLB)\n",
        "\n",
        "############\n",
        "input = x_input + LB\n",
        "print(input.shape)\n",
        "phi_1_est = phi_1(input)\n",
        "error = (phi_1_est - tf.transpose(phi_0_fixed))**2\n",
        "print(f'error norm: {np.linalg.norm(phi_1_est - tf.transpose(phi_0_fixed))/101}')\n",
        "summ_1 = tf.reduce_sum(error, axis = 0)\n",
        "loss_test = ((1 / (len(x_input)) ) * summ_1) + LAM * BTLB\n",
        "print(f'loss function test: {loss_test}')\n",
        "print(f'loss function with Beta_ini: f{objective(LSTAR, Beta_ini, LAM)}')\n",
        "\n",
        "plt.figure(figsize=(10,5))\n",
        "#plt.plot(solve.y[:,-1], np.transpose(phi_0(x_input)), label = 'phi_1_original')\n",
        "\n",
        "# these values should be close, regardless of what they are being plotted against.\n",
        "plt.plot(x_input, phi_1_est, label = 'should be close phi_0');\n",
        "plt.plot(x_input, np.transpose(phi_0(x_input)), label ='phi_0_original')\n",
        "\n",
        "\n",
        "plt.legend();"
      ]
    },
    {
      "cell_type": "code",
      "execution_count": null,
      "metadata": {
        "id": "6t4MOHm_3Hx3"
      },
      "outputs": [],
      "source": [
        "plt.plot(input)\n",
        "plt.plot(solve.y[:,-1])"
      ]
    },
    {
      "cell_type": "code",
      "execution_count": null,
      "metadata": {
        "id": "G2V3aclzaj1S"
      },
      "outputs": [],
      "source": [
        "#print(input)\n",
        "#print(x_input[:10])\n",
        "#print(solve.y[:,-1])\n",
        "print(np.linalg.norm(phi_1_est - np.transpose(phi_0(x_input))))"
      ]
    },
    {
      "cell_type": "markdown",
      "metadata": {
        "id": "HNEdD12NUhq8"
      },
      "source": [
        "## $\\alpha$ function update while loop"
      ]
    },
    {
      "cell_type": "code",
      "execution_count": null,
      "metadata": {
        "id": "ZNa3DdVCNsTk"
      },
      "outputs": [],
      "source": [
        "\n",
        "#get start time\n",
        "#eta = (2**5) * 1e-3 #(2**5) * 1e-3\n",
        "st = time.time()\n",
        "mm = 0 # not zero since beta_ini is zero vector at virst\n",
        "        # we can't divide by zero\n",
        "var = 0\n",
        "LAM = 1 * 1e-6 #lambs[lambda_index] #1e-6\n",
        "Beta = Beta_ini\n",
        "#Sol.y = sol.y\n",
        "#LSTAR = Lsk_0\n",
        "\n",
        "#sol = solve_ivp(f,[0,1],np.reshape(x_input,len(x_input)),t_eval=t_list)\n",
        "\n",
        "# sol_1.y is just my fixed one.  Don't change this for test\n",
        "# this is my true trajecotries using the alpha fixing sol_1.y\n",
        "# then put this into LSTAR for objective function\n",
        "# this is my true alpha being solved to x_phi_1 with 10 trajcetories\n",
        "solve = solve_ivp(new_alpha,[0,1],np.reshape(x_input,len(x_input)),\n",
        "                  t_eval=t_list,\n",
        "                  vectorized = True,\n",
        "                  args=(k9v, sol_1.y, num, theta3))\n",
        "# this LSTAR usis solve.y to solve for obj function\n",
        "LSTAR = con(1/(num-1), y = solve.y, num = num, kern = k9v)\n",
        "\n",
        "\n",
        "# measuring error\n",
        "beta_vector = np.zeros((len(x_input),600))\n",
        "beta_vector[:,0:1] = Beta  #put beta in first column\n",
        "diff_beta = np.zeros(100)\n",
        "diff = np.zeros(600)\n",
        "plt.figure(figsize=(10,5))\n",
        "\n",
        "cond = True\n",
        "\n",
        "\n",
        "while(cond):\n",
        "\n",
        "  mm += 1\n",
        "  #print(mm)\n",
        "\n",
        "  # Gradient Desecent\n",
        "  for i in range(1):\n",
        "    eta = 1 / (2**4)\n",
        "    print(eta)\n",
        "\n",
        "\n",
        "    Beta = tf.Variable(Beta)\n",
        "    with tf.GradientTape() as tape:\n",
        "        tape.watch(Beta)\n",
        "        obj = objective(LSTAR, Beta, LAM)\n",
        "        print(f\"obj_old with Beta: {obj}\")\n",
        "\n",
        "\n",
        "    beta_grad = tape.gradient(obj, Beta) # this is taking the gradient\n",
        "\n",
        "    Beta = Beta - eta * (beta_grad / np.linalg.norm(beta_grad))\n",
        "\n",
        "    #Beta = Beta - eta * beta_grad   # gradient desecn\n",
        "\n",
        "    obj_1 = obj.numpy()  #make obj into a numpy\n",
        "    obj_old = np.copy(obj_1) #-1\n",
        "    #make new obj\n",
        "    obj_new = objective(Lsk_alpha, Beta, LAM)\n",
        "    print(f\"obj_new with Beta after GD: {obj_new}\")\n",
        "\n",
        "    '''\n",
        "    #kamel's test\n",
        "    obj_1 = obj.numpy()  #make obj into a numpy\n",
        "    obj_old = np.copy(obj_1) - 1\n",
        "    #OBJ.append(float(obj_1)) #make numpy into a float\n",
        "    '''\n",
        "\n",
        "    #if decreasing(OBJ)[0] == False:\n",
        "    while obj_new > obj_old: #obj_1 > obj_old:\n",
        "      print(\"obj is increasing\")\n",
        "      #obj_old = np.copy(obj_1)\n",
        "\n",
        "      print(f\"GD: This is the iteration where it increased: {mm}, {obj_new} > {obj_old}\")\n",
        "      #print(f\"GD: print the var variable {var}\")\n",
        "      #cond = False #stop algorithm\n",
        "      eta = eta / 2\n",
        "      print(f\"Eta changed: {eta}\")\n",
        "      Beta = Beta - eta *  (beta_grad / np.linalg.norm(beta_grad))\n",
        "      #Beta = Beta - eta * beta_grad\n",
        "      obj_new = objective(Lsk_alpha, Beta, LAM)\n",
        "\n",
        "\n",
        "\n",
        "\n",
        "\n",
        "    # error\n",
        "    beta_vector[:,mm:mm+1] = Beta\n",
        "\n",
        "    if mm >= 2: # after 2 since beta = 0 at the first iteration, we need the second and third composnents.\n",
        "      # check for convergence, using relative error\n",
        "      #diff_beta[mm] = np.linalg.norm(beta_vector[:,mm-1:mm] - beta_vector[:,mm:mm+1]) / np.linalg.norm(beta_vector[:,mm-1:mm])\n",
        "      #print(diff_beta[mm])\n",
        "      #if diff_beta[mm] < 1e-2:\n",
        "      #  print(diff_beta[mm])\n",
        "      #  cond_2 = False\n",
        "      #  break\n",
        "\n",
        "      diff[mm] = np.sqrt( ((beta_vector[:,mm:mm+1] - beta_vector[:,mm-1:mm]).T @ LSTAR @\n",
        "                                                    (beta_vector[:,mm:mm+1] - beta_vector[:,mm-1:mm])\n",
        "                                                    ) / (beta_vector[:,mm-1:mm].T @ L_star\n",
        "                                                         @ beta_vector[:,mm-1:mm] )\n",
        "                                                      )\n",
        "      #print(\"This should be the same: \", {diff[mm]})\n",
        "\n",
        "\n",
        "    #if mm % 4 == 0:  #if m modulo constant occurs, print m\n",
        "    #    rem = mm\n",
        "    #    print('Iteration count: ' +str(rem))\n",
        "    #    print('Convergence using norm of RKHS at '+str(rem) +'iterations: ' +str(diff[mm]))\n",
        "    #    print('Beta norm error: '+str(diff[mm]))\n",
        "    #'''\n",
        "    '''  if diff[mm] < 0.01:\n",
        "        print('This is the norm difference of the RKHS norm: ', {diff[mm]})\n",
        "          #print('Iteration count: ' +str(mm))\n",
        "          #print('Convergence using norm of RKHS at '+str(mm) +'iterations: ' +str(diff[mm]))\n",
        "          #print('Beta norm error: '+str(diff[mm]))\n",
        "        cond_2 = False\n",
        "    '''\n",
        "    #'''\n",
        "  # ODEvsolver. Put arguments for sol.y and num in here\n",
        "  #'''\n",
        "  #'''\n",
        "  #sol = solve_ivp(new_alpha,[0,1],np.reshape(x_input,len(x_input)),\n",
        "  #                t_eval=t_list,\n",
        "  #                vectorized = True,\n",
        "  #                args=(k8v, sol.y, num, Beta))\n",
        "\n",
        "  #this is my true alpha function with sol_1.y but now with Beta\n",
        "  plt.plot(x_input, new_alpha(1, np.reshape(x_input,(len(x_input))),\n",
        "                            k9v,\n",
        "                            y = sol_1.y,\n",
        "                            num = num,\n",
        "                            beta= Beta), label = f'new_{mm}')\n",
        "  #'''\n",
        "  #'''\n",
        "\n",
        "  # test out original alpha\n",
        "  #sol = solve_ivp(alpha,[0,1], np.reshape(x_input, len(x_input)), t_eval = t_list, vectorized = True)\n",
        "\n",
        "  #Make new L_star with ODE solver data\n",
        "  #LSTAR = con(h_x, sol.y, num, k8v)\n",
        "\n",
        "  if mm == 15:\n",
        "    print(mm)\n",
        "    print(f\"Here is the objective function results at the end {objective(LSTAR, Beta, LAM)}\")\n",
        "    cond = False\n",
        "\n",
        "plt.plot(x_input, (new_alpha(1, np.reshape(x_input,(len(x_input))),\n",
        "                            k8v,\n",
        "                            y = sol_1.y,\n",
        "                            num = num,\n",
        "                            beta= theta3)), label = 'alpha_original')\n",
        "plt.legend()\n",
        "print(obj)\n",
        "et = time.time()\n",
        "total_time = et - st\n",
        "print(total_time)\n",
        "#'''"
      ]
    },
    {
      "cell_type": "code",
      "execution_count": null,
      "metadata": {
        "id": "nBsQRtTkO6Fa"
      },
      "outputs": [],
      "source": [
        "'''\n",
        "x_phi_new_test = np.zeros((tf.size(x_input), k_x+1))\n",
        "print(x_phi_new_test.shape)\n",
        "v = x_input\n",
        "v = v.numpy()\n",
        "x_phi_new_test[:,0:1] = v\n",
        "print(v.shape)\n",
        "plt.figure(figsize=(16,5)) # this places a figure in begining\n",
        "             # then i can plot the figures of the loops in this\n",
        "for i in range(k_x+1):\n",
        "  #print(i)\n",
        "  plt.plot(x_phi_new_test[:,i:i+1], np.transpose(phi_0_fixed))\n",
        "  #for new_alpha:\n",
        "  v = v + h_x * new_alpha(1, np.reshape(v,(len(v))), k8v, solve.y, num, Beta, h = (1/(num-1)))\n",
        "\n",
        "  # original alpha\n",
        "  #v = v + h_x *  tf.transpose(alpha(1, v))\n",
        "\n",
        "  x_phi_new_test[:,i+1:i+2] = v\n",
        "\n",
        "plt.plot(x_input, np.transpose(phi_0(x_input)), label ='phi_0')\n",
        "plt.plot(solve.y[:,-1], np.transpose(phi_0(x_input)), label = 'phi_1')\n",
        "plt.plot(x_input, phi_1(np.reshape(x_phi_new_test[:,-1], (101,1))), label = 'should be close to phi_0')\n",
        "plt.legend(prop={'size':20});\n",
        "plt.show()\n",
        "'''"
      ]
    },
    {
      "cell_type": "code",
      "execution_count": null,
      "metadata": {
        "id": "RktArOehrhBM"
      },
      "outputs": [],
      "source": [
        "solve_beta = solve_ivp(new_alpha,[0,1],np.reshape(x_input,len(x_input)),\n",
        "                  t_eval=t_list,\n",
        "                  vectorized = True,\n",
        "                  args=(k9v, sol_1.y, num, Beta))\n",
        "\n",
        "plt.plot(solve_beta.y);"
      ]
    },
    {
      "cell_type": "code",
      "execution_count": null,
      "metadata": {
        "id": "2-O5YvG7r7JV"
      },
      "outputs": [],
      "source": [
        "plt.figure(figsize=(16,5))\n",
        "for i in range(len(solve_beta.y[0])):\n",
        "  plt.plot(solve_beta.y[:,i], np.transpose(phi_0(x_input)), label = f'phi traj {i}')\n",
        "\n",
        "plt.plot(x_input, np.transpose(phi_0(x_input)), label ='phi_0')\n",
        "plt.plot(solve.y[:,-1], np.transpose(phi_0(x_input)), label = 'phi_1')\n",
        "plt.plot(x_input, phi_1(np.reshape(solve.y[:,-1], (101,1))), label = 'should be close to phi_0')\n",
        "plt.legend();"
      ]
    },
    {
      "cell_type": "code",
      "execution_count": null,
      "metadata": {
        "id": "6Pl-S6qSQu-1"
      },
      "outputs": [],
      "source": [
        "#'''\n",
        "plt.figure(figsize=(16,5))\n",
        "plt.plot(x_input, np.transpose(phi_0(x_input)), label ='phi_0')\n",
        "plt.plot(solve.y[:,-1], np.transpose(phi_0(x_input)), label = 'phi_1')\n",
        "\n",
        "#plt.plot((x_phi_new_test[:,-1:] ), np.transpose(phi_0_fixed), label = \"phi_1_est\")\n",
        "plt.plot(x_input, phi_1(np.reshape(solve_beta.y[:,-1], (101,1))), label = 'should be close to phi_0')\n",
        "\n",
        "# now print the interpolated phi_1 wiht new x_phi_new and plot\n",
        "# against x_input. This gives us what the values would be on x_input\n",
        "# and compare to phi_1\n",
        "#plt.plot(x_input, phi_1(x_phi_new[:,99:100]), label = \"phi_1_est\")\n",
        "#plt.plot(x_input, phi_1(x_phi_new[:, 50:51]), label = \"Phi_1_est midwaty\")\n",
        "#plt.plot(x_input, phi_1(x_phi_new[:, 0:1]), label = \" phi_1_est first\")\n",
        "\n",
        "\n",
        "plt.legend(prop={'size':20});\n",
        "plt.show()\n",
        "#'''"
      ]
    },
    {
      "cell_type": "code",
      "execution_count": null,
      "metadata": {
        "id": "DbDPPXyKlFiZ"
      },
      "outputs": [],
      "source": [
        "import numpy as np"
      ]
    },
    {
      "cell_type": "code",
      "source": [
        "x_1 = np.array([[0],[1]])"
      ],
      "metadata": {
        "id": "k6k9obafsxS8"
      },
      "execution_count": null,
      "outputs": []
    },
    {
      "cell_type": "code",
      "source": [
        "x_1.shape"
      ],
      "metadata": {
        "id": "0lLaSHJ4s40_"
      },
      "execution_count": null,
      "outputs": []
    },
    {
      "cell_type": "code",
      "source": [],
      "metadata": {
        "id": "m9qxrwOMs_QZ"
      },
      "execution_count": null,
      "outputs": []
    },
    {
      "cell_type": "code",
      "source": [],
      "metadata": {
        "id": "4woTQan1tg_s"
      },
      "execution_count": null,
      "outputs": []
    }
  ],
  "metadata": {
    "colab": {
      "toc_visible": true,
      "provenance": [],
      "authorship_tag": "ABX9TyNrSyhEKwxMiyDPZdvukPqN",
      "include_colab_link": true
    },
    "kernelspec": {
      "display_name": "Python 3",
      "name": "python3"
    },
    "language_info": {
      "name": "python"
    }
  },
  "nbformat": 4,
  "nbformat_minor": 0
}